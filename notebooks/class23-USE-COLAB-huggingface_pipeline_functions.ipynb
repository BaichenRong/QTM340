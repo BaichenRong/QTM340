{
  "nbformat": 4,
  "nbformat_minor": 0,
  "metadata": {
    "colab": {
      "name": "Huggingface-pipeline-functions.ipynb",
      "provenance": [],
      "collapsed_sections": []
    },
    "kernelspec": {
      "name": "python3",
      "display_name": "Python 3"
    },
    "accelerator": "GPU"
  },
  "cells": [
    {
      "cell_type": "markdown",
      "metadata": {
        "id": "URKn8K0HydhV"
      },
      "source": [
        "# BERT Pipeline Functions\n",
        "\n",
        "This notebook demonstrates some of the various pipeline functions that the HuggingFace Transformers library provides out of the box. For a complete list of functions, see this [task summary document](https://huggingface.co/transformers/task_summary.html). Each of these functions relies upon a different default language model that has been trained for that particular task."
      ]
    },
    {
      "cell_type": "markdown",
      "metadata": {
        "id": "y73xWUkpU1AC"
      },
      "source": [
        "## **Import necessary Python libraries and modules**"
      ]
    },
    {
      "cell_type": "markdown",
      "metadata": {
        "id": "4N0RIalt28yL"
      },
      "source": [
        "To use the HuggingFace [`transformers` Python library](https://huggingface.co/transformers/installation.html), we will install it (again) with `pip`."
      ]
    },
    {
      "cell_type": "code",
      "metadata": {
        "id": "BNxmMnzoccfm"
      },
      "source": [
        "!pip3 install transformers"
      ],
      "execution_count": null,
      "outputs": []
    },
    {
      "cell_type": "markdown",
      "metadata": {
        "id": "f29CPpKi3__Q"
      },
      "source": [
        "Once `transformers` is installed, we will import the pipeline module"
      ]
    },
    {
      "cell_type": "code",
      "metadata": {
        "id": "8ARMrKfmceAb"
      },
      "source": [
        "from transformers import pipeline"
      ],
      "execution_count": null,
      "outputs": []
    },
    {
      "cell_type": "markdown",
      "metadata": {
        "id": "Q70KYS_NVSDL"
      },
      "source": [
        "## **Set parameters**\n"
      ]
    },
    {
      "cell_type": "code",
      "metadata": {
        "id": "piWsW9ZeaP_D"
      },
      "source": [
        "# all we need for now\n",
        "device_name = 'cuda'       "
      ],
      "execution_count": null,
      "outputs": []
    },
    {
      "cell_type": "markdown",
      "metadata": {
        "id": "tUjeaqiTehPY"
      },
      "source": [
        "## **First up: Sentiment Analysis**\n",
        "\n",
        "Note that by default, the model downloaded for this pipeline is called “distilbert-base-uncased-finetuned-sst-2-english”. It uses the DistilBERT architecture and has been fine-tuned on a dataset called SST-2 for the sentiment analysis task."
      ]
    },
    {
      "cell_type": "code",
      "metadata": {
        "id": "FiFBkye6Apu3"
      },
      "source": [
        "classifier = pipeline('sentiment-analysis')"
      ],
      "execution_count": null,
      "outputs": []
    },
    {
      "cell_type": "markdown",
      "metadata": {
        "id": "aW78Z8I4AxIh"
      },
      "source": [
        "Try it out!"
      ]
    },
    {
      "cell_type": "code",
      "metadata": {
        "id": "J7pcelDZdrcC"
      },
      "source": [
        "classifier('This is the last day of class before Thanksgiving break.')"
      ],
      "execution_count": null,
      "outputs": []
    },
    {
      "cell_type": "markdown",
      "metadata": {
        "id": "3XhPY9Z7A8D0"
      },
      "source": [
        "Slightly more nicely formatted:"
      ]
    },
    {
      "cell_type": "code",
      "metadata": {
        "id": "P_c3O5XHA-wV"
      },
      "source": [
        "results = classifier([\"This is the last day of class before Thanksgiving break.\", \"I hope you have fun on vacation!\"])\n",
        "\n",
        "for result in results:\n",
        "  print(f\"label: {result['label']}, with score: {round(result['score'], 4)}\")"
      ],
      "execution_count": null,
      "outputs": []
    },
    {
      "cell_type": "markdown",
      "metadata": {
        "id": "UZC5SadPAZEc"
      },
      "source": [
        "## **Next up: Masked Language Modeling**"
      ]
    },
    {
      "cell_type": "code",
      "metadata": {
        "id": "u9-iSYQPefVg"
      },
      "source": [
        "unmasker = pipeline(\"fill-mask\")"
      ],
      "execution_count": null,
      "outputs": []
    },
    {
      "cell_type": "markdown",
      "metadata": {
        "id": "j4E4d6C-AruL"
      },
      "source": [
        "Try it out!"
      ]
    },
    {
      "cell_type": "code",
      "metadata": {
        "id": "TfzAKfgKeuDv"
      },
      "source": [
        "from pprint import pprint\n",
        "\n",
        "pprint(unmasker(f\"I am certain that you will create very {unmasker.tokenizer.mask_token} final projects.\"))"
      ],
      "execution_count": null,
      "outputs": []
    },
    {
      "cell_type": "markdown",
      "metadata": {
        "id": "v10htL_G-OFs"
      },
      "source": [
        "## **Third up: Text generation!**"
      ]
    },
    {
      "cell_type": "code",
      "metadata": {
        "id": "h94eg2wlfi6y"
      },
      "source": [
        "text_generator = pipeline(\"text-generation\")"
      ],
      "execution_count": null,
      "outputs": []
    },
    {
      "cell_type": "code",
      "metadata": {
        "id": "dcxvqUsdf5Sm"
      },
      "source": [
        "print(text_generator(\"Over Thanksgiving break, I plan to\", max_length=50, do_sample=False))"
      ],
      "execution_count": null,
      "outputs": []
    },
    {
      "cell_type": "markdown",
      "metadata": {
        "id": "Af7yZheG0a8o"
      },
      "source": [
        "## **NER!**\n",
        "\n",
        "HuggingFace's NER identifies tokens as belonging to one of 9 classes:\n",
        "\n",
        "1. O, Outside of a named entity\n",
        "2. B-MIS, Beginning of a miscellaneous entity right after another miscellaneous entity\n",
        "3. I-MIS, Miscellaneous entity\n",
        "4. B-PER, Beginning of a person’s name right after another person’s name\n",
        "5. I-PER, Person’s name\n",
        "6. B-ORG, Beginning of an organisation right after another organisation\n",
        "7. I-ORG, Organisation\n",
        "8. B-LOC, Beginning of a location right after another location\n",
        "9. I-LOC, Location\n",
        "\n"
      ]
    },
    {
      "cell_type": "code",
      "metadata": {
        "id": "0hKPo6WP0VbU"
      },
      "source": [
        "ner_pipe = pipeline(\"ner\")"
      ],
      "execution_count": null,
      "outputs": []
    },
    {
      "cell_type": "code",
      "metadata": {
        "id": "RBTyTh8Ui2D3"
      },
      "source": [
        "sequence = \"Emory University is a premier research university that is located in Atlanta, GA. The president of Emory University is Greg Fenves.\""
      ],
      "execution_count": null,
      "outputs": []
    },
    {
      "cell_type": "code",
      "metadata": {
        "id": "R92S7JZfjiaC"
      },
      "source": [
        "for entity in ner_pipe(sequence):\n",
        "  print(entity)"
      ],
      "execution_count": null,
      "outputs": []
    }
  ]
}