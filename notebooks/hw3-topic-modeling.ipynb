{
 "cells": [
  {
   "cell_type": "markdown",
   "metadata": {
    "slideshow": {
     "slide_type": "slide"
    }
   },
   "source": [
    "## Topic Modeling Homework ##\n",
    "\n",
    "*The text in the first half of this notebook restates much of what was covered in Thursday's lecture. Please read through it again since, as I explained in class, topic modeling is a heady concept that can take a while to settle in your brain.*\n",
    "\n",
    "*Alternately, or in addition, you may wish to watch [this video](https://vimeo.com/53080123) for a third (!) explanation of how topic modeling works. (Start around 3:30).* \n",
    "\n",
    "*If, in the end, topic modeling still seems confusing to you, that is also fine. It may make more sense after you've had a chance to play around with the output of an actual model--which is what the second half of this notebook allows you to do.*\n",
    "\n",
    "*There are three exercises embedded in this notebook, all located towards the end. Please complete the exercises and when you're done, upload your completed notebook to Canvas.*"
   ]
  },
  {
   "cell_type": "markdown",
   "metadata": {
    "slideshow": {
     "slide_type": "slide"
    }
   },
   "source": [
    "## Part 1: Topic Modeling Explained ##\n",
    "\n",
    "*Per above, as the first part of your homework, please just read through these next few sections.*\n",
    "\n",
    "### What is Topic Modeling? ###\n",
    "\n",
    "In both the Li and Bamman paper, and the Antoniak et al. paper, we've seen how topic modeling plays a major role. What is topic modeling? At its most basic level, topic modeling is an automated method for extracting the themes, or \"topics,\" from large sets of documents--like GPT-3 generated fiction, or birth stories, or as we'll explore today, articles in the Emory Wheel."
   ]
  },
  {
   "cell_type": "markdown",
   "metadata": {
    "slideshow": {
     "slide_type": "slide"
    }
   },
   "source": [
    "There are numerous kinds of topic models, but the most popular and widely-used kind is latent Dirichlet allocation (LDA). It's so popular, in fact, that \"LDA\" and \"topic model\" are sometimes used interchangeably, even though LDA is only one type.\n",
    "\n",
    "LDA math is pretty complicated. We're not going to get very deep into the math just yet (or maybe not ever, depending on the time). But first we are going to introduce two important concepts that will help us conceptually understand how LDA topic models work."
   ]
  },
  {
   "cell_type": "markdown",
   "metadata": {
    "slideshow": {
     "slide_type": "slide"
    }
   },
   "source": [
    "### 1) LDA is an Unsupervised Algorithm \n",
    "Topic modeling is a kind of machine learning. Machine learning always sounds complicated, but it really just means that computer algorithms are performing tasks without being explicitly programmed to do so and that they are \"learning\" how to perform these tasks by being fed training data. In the field of machine learning, algorithms are typically split into two broad categories: supervised and unsupervised. These categories describe how the algorithms are \"trained\" or how they \"learn.\" LDA is an unsupervised algorithm.\n",
    "\n",
    "If an algorithm is supervised, that means a researcher is helping to guide it with some kind of information, like labels. For example, if you wanted to create an algorithm that could identify pictures of cats vs pictures of dogs, you could train it with a bunch of pictures of cats that were clearly labeled CAT and a bunch of pictures of dogs that were clearly labeled DOG. The algorithm would then be able to learn which features are specific to cats vs dogs because you explicitly told it: this is a picture of a cat; this is a picture of a dog.\n",
    "\n",
    "If an algorithm is unsupervised, that means a researcher does not train it with outside information. There are no labels. The algorithm just learns that pictures of cats are more similar to each other and pictures of dogs are more similar to each other. The algorithm doesn't really know that one cluster is cats and one cluster is dogs; it just knows that there are two distinct clusters.\n",
    "\n",
    "Because LDA is an unsupervised algorithm, we don't tell our topic model which words or topics to look for. We only tell the topic model how many topics (or clusters of words) that we want returned. The topic model doesn't know anything about Frida Kahlo, Nella Larsen, and Jackie Robinson. It doesn't know anything about art, literature, and sports."
   ]
  },
  {
   "cell_type": "markdown",
   "metadata": {
    "slideshow": {
     "slide_type": "skip"
    }
   },
   "source": [
    "### 2) LDA is a Probabilistic Model \n",
    "LDA fundamentally relies on statistics and probabilities. Rather than calculating precise and unchanging metrics about a given corpus, a topic model makes a series of very sophisticated guesses about the corpus. These guesses will change slightly every time we run the topic model. This is important to remember as we analyze, interpret, and make arguments based on our results. All of our results in this lesson will be probabilities, and they'll change slightly every time we re-run the topic model.\n",
    "\n",
    "When we tell the topic model that we want to extract 15 topics from the Emory Wheel, here's what the topic model does:\n",
    "\n",
    "The topic model starts off with a slightly silly, backwards assumption. The topic model assumes that every single one of the 4000-some-odd articles in the corpus was written by someone who exclusively drew their words from 15 mystery topics, or 15 clusters of words. To spin it in a slightly different way with a different medium, the topic model assumes that there was one master artist with 15 different paints on her palette, who created all the articles by dipping her brush into these 15 paints alone, applying and blending them onto each canvas in different proportions. The topic model is trying to discover the 15 mystery topics that created all the Wheel articles, as well as the mixture of these topics that makes up each individual article.\n",
    "\n",
    "The topic model begins by taking a completely wild guess about the 15 topics, but then it iterates through all the words in all the article and makes better and better guesses. If the word \"student\" keeps showing up with the words \"stress\" and \"exam,\" and if all three words keep showing up in the same kinds of article, then the topic model starts to suspect that these three words should belong to the same topic. If the word \"film\" keeps showing up with \"Atlanta\" and \"industry,\" then the topic model suspects that they should belong to the same topic, too. The topic model finally arrives at its best guesses for the 15 topics that most likely created all the Emory Wheel articles.\n"
   ]
  },
  {
   "cell_type": "markdown",
   "metadata": {
    "slideshow": {
     "slide_type": "slide"
    }
   },
   "source": [
    "### LDA explained again in more concrete terms"
   ]
  },
  {
   "cell_type": "markdown",
   "metadata": {
    "slideshow": {
     "slide_type": "slide"
    }
   },
   "source": [
    "Probabilistic topic models begin with an assumption and a definition. \n",
    "\n",
    "The assumption: all documents contain a mixture of different topics.\n",
    "\n",
    "The definition: a topic is a collection of words, each with a different probability of occurance in a particular document (or other chunk of text) discussing that topic. "
   ]
  },
  {
   "cell_type": "markdown",
   "metadata": {
    "slideshow": {
     "slide_type": "slide"
    }
   },
   "source": [
    "Here's a nice illustration, created by Ted Underwood, that shows this assumed relatioship between topics and documents. \n",
    "\n",
    "![topics and docs](https://tedunderwood.files.wordpress.com/2012/04/shapeart.png)"
   ]
  },
  {
   "cell_type": "markdown",
   "metadata": {
    "slideshow": {
     "slide_type": "skip"
    }
   },
   "source": [
    "Above we see an example of the basic assumption of topic modeling: one topic might contain many occurrences of “organize,” “committee,” “direct,” and “lead.” Another might contain a lot of “mercury” and “arsenic,” with a few occurrences of “lead.” \n",
    "\n",
    "The three documents are assumed to contain both topics in different proportions.\n",
    "\n",
    "But here is the thing: we can’t directly observe topics. All we actually have are the documents that attest to their existence. So in other words:\n",
    "\n",
    "**Topic modeling is a way of extrapolating backward from a collection of documents to infer the topics that could have generated them.** \n",
    "\n",
    "There is simply no way to infer the exact topics in a set of documents; there are too many unknowns. So (probabalistic) topic modeling works backwards. It pretends that the problem is mostly solved. "
   ]
  },
  {
   "cell_type": "markdown",
   "metadata": {
    "slideshow": {
     "slide_type": "slide"
    }
   },
   "source": [
    "**How does this play out in actual life?**\n",
    "\n",
    "Suppose we knew which topic produced every word in the collection, except for this one word in document D. The word happens to be “lead,” which we’ll call word type W. How are we going to decide whether this occurrence of W belongs to topic 1 or topic 2?\n",
    "\n",
    "![topics and docs](https://tedunderwood.files.wordpress.com/2012/04/shapeart.png)"
   ]
  },
  {
   "cell_type": "markdown",
   "metadata": {
    "slideshow": {
     "slide_type": "skip"
    }
   },
   "source": [
    "We can’t know for sure. But one way to guess is to consider two questions. This is the first: \n",
    "\n",
    "* How often does “lead” appear in topic 1 elsewhere? If “lead” often occurs in discussions of 1, then this instance of “lead” might belong to 1 as well. \n",
    "\n",
    "But a word can be common in more than one topic, as it is in topics 1 and 2 above. And we don’t want to assign “lead” to a topic about leadership (topic 1) if this document is mostly about heavy metal contamination (topic 2). So we also need to consider a second question:\n",
    "\n",
    "* How common is topic 1 in the rest of the document?\n",
    "\n",
    "To answer these questions, here’s what we’ll do:"
   ]
  },
  {
   "cell_type": "markdown",
   "metadata": {
    "slideshow": {
     "slide_type": "slide"
    }
   },
   "source": [
    "For each possible topic Z, we’ll multiply the frequency of this word type W in Z by the number of other words in document D that already belong to Z. The result will represent the probability that this word came from Z. Here’s the actual formula:\n",
    "\n",
    "![LDA formula](https://tedunderwood.files.wordpress.com/2012/04/ldaformula.png)\n",
    "\n",
    "There are also a few Greek letters scattered in there, but they aren’t important for our purposes. Technically, they’re called “hyperparameters,” but you can think of them simply as fudge factors. \n",
    "\n",
    "In other words: there’s some chance that this word belongs to topic Z even if it is nowhere else associated with Z; the fudge factors keep that possibility open. (If you want to understand hyperparameters beyond the \"fudge factor\" explanation, see \"[Rethinking LDA: Why Priors Matter](http://people.cs.umass.edu/~mimno/publications.html).\")\n",
    "\n",
    "The overall emphasis on probability in this technique, of course, is why it’s called *probabilistic topic modeling*."
   ]
  },
  {
   "cell_type": "markdown",
   "metadata": {
    "slideshow": {
     "slide_type": "skip"
    }
   },
   "source": [
    "**Enter Sampling**\n",
    "\n",
    "Now, suppose that instead of having the problem mostly solved, we had only a wild guess which word belonged to which topic. We could still use the strategy I've just described to improve our guess, by making it more internally consistent. \n",
    "\n",
    "We could go through the collection, word by word, and reassign each word to a topic, guided by the formula above. \n",
    "\n",
    "And in fact, that's what LDA actually does.\n",
    "\n",
    "And as we do that, two things happen:"
   ]
  },
  {
   "cell_type": "markdown",
   "metadata": {
    "slideshow": {
     "slide_type": "slide"
    }
   },
   "source": [
    "1) Words will gradually become more common in topics where they are already common. And also,\n",
    "\n",
    "2) Topics will become more common in documents where they are already common. "
   ]
  },
  {
   "cell_type": "markdown",
   "metadata": {
    "slideshow": {
     "slide_type": "skip"
    }
   },
   "source": [
    "Thus our model will gradually become more consistent as topics focus on specific words and documents. But it can’t ever become perfectly consistent, because words and documents don’t line up in one-to-one fashion. So the tendency for topics to concentrate on particular words and documents will eventually be limited by the actual, messy distribution of words across documents.\n",
    "\n",
    "That’s how topic modeling works in practice. You assign words to topics randomly and then just keep improving the model, to make your guess more internally consistent, until the model reaches an equilibrium that is as consistent as the collection allows."
   ]
  },
  {
   "cell_type": "markdown",
   "metadata": {
    "slideshow": {
     "slide_type": "slide"
    }
   },
   "source": [
    "## A brief historical / technical digression... ##\n",
    "\n",
    "Topic modeling began as a US military project in the in the 1990s. The goal was to automatically detect changes in newswire text so that governmental and military organizations could be alerted to emerging geopolitical events. (For more on this history, see [Binder](https://dhdebates.gc.cuny.edu/read/untitled/section/4b276a04-c110-4cba-b93d-4ded8fcfafc9#ch18).)\n"
   ]
  },
  {
   "cell_type": "markdown",
   "metadata": {
    "slideshow": {
     "slide_type": "slide"
    }
   },
   "source": [
    "In the early 2000s, a team of computer science researchers released [MALLET](http://mallet.cs.umass.edu/topics.php), short for **MA**chine **L**earning for **L**anguag**E** **T**oolkit. As the name suggests, MALLET is a software toolkit that enables a range of NLP techniques. Today, people mostly only use it for topic modeling, which it remains very very good at.\n",
    "\n",
    "With that said, MALLET is written in Java, which means that it's not ideal for working in Python and Jupyter notebooks. None other than Maria Antoniak has written a convenient Python package that allows you to use MALLET in a Jupyter notebook. Her package is called [Little MALLET Wrapper](https://github.com/maria-antoniak/little-mallet-wrapper), and I'm working on getting it set up for our JupyterHub.\n",
    "\n",
    "Until then, we'll be using [gensim](https://radimrehurek.com/gensim/about.html), a native Python library for topic modeling (among other tasks) that was created in the early 2010s by a computer science PhD student, Radim Rehurek. While it's more convenient than MALLET, the topics it generates are generally considered to be less good/coherent than those generated by MALLET, so most people end up returning to MALLET for research-level code. "
   ]
  },
  {
   "cell_type": "markdown",
   "metadata": {
    "slideshow": {
     "slide_type": "slide"
    }
   },
   "source": [
    "## Part II: Topic Modeling with Gensim \n",
    "\n",
    "The code to generate topic models with gensim is definitely a little complicated. When we're able to use MALLET, you'll appreciate it for how much more clear it is to set up and query the model. \n",
    "\n",
    "How I recommend you approach the code below is simply to run each cell one-by-one until you get the output of the model. (I'll note where that is). Please don't concern yourself with the code that does the setup and processing, except to a) run it; and b) note that we're seeing yet another version of the standard load libraries / pre-process text / tokenize pipeline. \n",
    "\n",
    "### Load libraries and configure logging"
   ]
  },
  {
   "cell_type": "code",
   "execution_count": null,
   "metadata": {},
   "outputs": [],
   "source": [
    "# import and setup modules we'll be using in this notebook\n",
    "import logging # for logging status etc\n",
    "import itertools # helpful library for iterating through things\n",
    "\n",
    "import numpy as np # this is a powerful python math package that many others are based on\n",
    "import gensim # our topic modeling library\n",
    "import os # for file i/o\n",
    "\n",
    "# configure logging since topic modeling can take some time and it's nice to get status updates\n",
    "logging.basicConfig(format='%(levelname)s : %(message)s', level=logging.INFO)\n",
    "logging.root.level = logging.INFO  \n",
    "\n",
    "# a helpful function that returns the first `n` elements of the stream as plain list.\n",
    "# we'll use this later but we'll declare it now\n",
    "def head(stream, n=10):\n",
    "    return list(itertools.islice(stream, n))"
   ]
  },
  {
   "cell_type": "code",
   "execution_count": null,
   "metadata": {},
   "outputs": [],
   "source": [
    "# import some more modules for processing the corpus\n",
    "from gensim.utils import simple_preprocess\n",
    "from gensim.parsing.preprocessing import STOPWORDS"
   ]
  },
  {
   "cell_type": "markdown",
   "metadata": {},
   "source": [
    "### Define functions for pre-processing and tokenizing our text ###\n",
    "\n",
    "As previously discussed, many NLP tasks require that you tokenize your corpus. We've used tokenziers built into both NLTK and spaCy already for this course.  \n",
    "\n",
    "Here, however, we're going to write our own quick tokenizing function that makes use of gensim's [simple_preprocess function](https://radimrehurek.com/gensim/utils.html), which breaks a document into a list of lowercase tokens. The lower-casing is important for topic modeling since we want both uppercase and lowercase versions of the same word to be counted together. \n",
    "\n",
    "We'll define the tokenizing function first, and then use it in our pre-processing function (the second function defined in the cell below). \n",
    "\n",
    "For topic modeling with gensim, we need to pre-process our documents so that they end up in the format (filename, tokens). We're using this format because that's what the gensim documentation tell us to use. In fact, both of these functions come nearly verbatim from the gensim documentation. "
   ]
  },
  {
   "cell_type": "code",
   "execution_count": null,
   "metadata": {},
   "outputs": [],
   "source": [
    "# this defines our tokenize function for future use\n",
    "def tokenize(text):\n",
    "    return [token for token in simple_preprocess(text) if token not in STOPWORDS] # more list comprehension syntax! \n",
    "\n",
    "# this define a function that yields each doc in a base directory as a `(filename, tokens)` tuple.\n",
    "def iter_docs(base_dir):\n",
    "    docCount = 0\n",
    "    docs = os.listdir(base_dir)\n",
    "\n",
    "    for doc in docs:\n",
    "        if not doc.startswith('.'):\n",
    "            with open(base_dir + doc, \"r\") as file:\n",
    "                text = file.read()\n",
    "                tokens = tokenize(text) \n",
    "        \n",
    "                yield doc, tokens"
   ]
  },
  {
   "cell_type": "markdown",
   "metadata": {},
   "source": [
    "### Construct the id2word dictionary\n",
    "\n",
    "The next step in generating a topic model with gensim is to create a dictionary (not to be confused with a Python dictionary) which maps each word to a numerical ID. \n",
    "\n",
    "This mapping step is required because almost all models involving text, including this one, work with vectors indexed by integers, not by strings. Also, many functions need to know the vector/matrix dimensionality in advance.\n",
    "\n",
    "The mapping can be constructed automatically by giving gensim's Dictionary class a so-called \"stream\" of tokenized documents, as in the cells below:\n"
   ]
  },
  {
   "cell_type": "code",
   "execution_count": null,
   "metadata": {},
   "outputs": [],
   "source": [
    "# set up the document \"stream\" for use below \n",
    "## NOTE PATH MAY NEED TO CHANGE DEPENDING ON THE RELATIVE LOCATION OF YOUR CORPUS\n",
    "stream = iter_docs('../corpora/emory-wheel/articles/') \n",
    "\n",
    "# take a look at what the \"stream\" looks like for the first five docs\n",
    "for doc, tokens in itertools.islice(stream, 5):\n",
    "    print(doc, tokens[:10])  # print the doc title and its first ten tokens"
   ]
  },
  {
   "cell_type": "markdown",
   "metadata": {},
   "source": [
    "Now we'll have gensim construct the id2word dictionary on the basis of the stream we've set up:"
   ]
  },
  {
   "cell_type": "code",
   "execution_count": null,
   "metadata": {},
   "outputs": [],
   "source": [
    "# code to create id2word dictionary from the gensim documentation\n",
    "\n",
    "# set up the stream (again)\n",
    "stream = iter_docs('../corpora/emory-wheel/articles/') \n",
    "\n",
    "# get the tokens from the stream\n",
    "doc_stream = (tokens for _, tokens in stream)\n",
    "              \n",
    "# send to the dictionary constructor \n",
    "id2word_wheel = gensim.corpora.Dictionary(doc_stream) \n",
    "\n",
    "# print out a sign that it's done\n",
    "id2word_wheel"
   ]
  },
  {
   "cell_type": "markdown",
   "metadata": {},
   "source": [
    "### Mapping tokens to ID numners\n",
    "\n",
    "The gensim dictionary (id2word_wheel, which I've named for the Emory Wheel data it contains) now contains all words that appeared in the corpus, along with how many times they appeared. \n",
    "\n",
    "gensim provides a handy function for mapping tokens to their ID numbers, not unlike the sk-learn vectorizer. Let's take a look:"
   ]
  },
  {
   "cell_type": "code",
   "execution_count": null,
   "metadata": {},
   "outputs": [],
   "source": [
    "id2word_wheel.token2id"
   ]
  },
  {
   "cell_type": "markdown",
   "metadata": {},
   "source": [
    "## Filtering out common words / uncommon words ##\n",
    "\n",
    "There aren't many things you need to do in order to tune your topic model, but one important thing do consider is whether you should filter some of the words. \n",
    "\n",
    "gensim provides two basic functions for this, one which filters out the top n most frequent words, and another which filters out the words that appear in fewer (or greater) than a certain number of documents. \n",
    "\n",
    "We'll try out both below, even though you may end up not needing / wanting to use both (or either) of these functions for your particular purpose. This is one of the places where experience (and trial and error) will tell you what's appropriate. "
   ]
  },
  {
   "cell_type": "code",
   "execution_count": null,
   "metadata": {},
   "outputs": [],
   "source": [
    "# this line filters out the 10 most frequent words\n",
    "id2word_wheel.filter_n_most_frequent(10)\n",
    "\n",
    "# this line filters out words that appear only 1 doc, keeping the rest\n",
    "# note how no_below and no_above take different values\n",
    "id2word_wheel.filter_extremes(no_below=2, no_above=1.0)\n",
    "\n",
    "id2word_wheel"
   ]
  },
  {
   "cell_type": "markdown",
   "metadata": {},
   "source": [
    "Note that by removing the words that only appeared in a single document, we went from 118,786 unique words (or tokens) to 43,158. That's not a huge number for a topic model, but we'll see how it goes... \n",
    "\n",
    "### Final set-up\n",
    "\n",
    "We need to do only a few more things in order to run our topic model. 1) Define a special class for working with corpora (again, per the gensim documentation); and 2) use the Corpus class to create a stream of bag-of-words vectors. These two chunks of code are as follows: "
   ]
  },
  {
   "cell_type": "code",
   "execution_count": null,
   "metadata": {},
   "outputs": [],
   "source": [
    "# Defining the Corpus class \n",
    "# this is the same for every topic model you create with gensim. \n",
    "# no need to modify it here\n",
    "\n",
    "class Corpus(object):\n",
    "    def __init__(self, dump_file, dictionary, clip_docs=None):\n",
    "        self.dump_file = dump_file\n",
    "        self.dictionary = dictionary\n",
    "        self.clip_docs = clip_docs\n",
    "    \n",
    "    def __iter__(self):\n",
    "        self.titles = []\n",
    "        for title, tokens in itertools.islice(iter_docs(self.dump_file), self.clip_docs):\n",
    "            self.titles.append(title)\n",
    "            yield self.dictionary.doc2bow(tokens)\n",
    "    \n",
    "    def __len__(self):\n",
    "        return self.clip_docs"
   ]
  },
  {
   "cell_type": "code",
   "execution_count": null,
   "metadata": {},
   "outputs": [],
   "source": [
    "# Creating our stream of bag-of-words vectors\n",
    "## MODIFY PATH IF YOU'RE GETTING FILE NOT FOUND ERRORS\n",
    "wheel_corpus = Corpus('../corpora/emory-wheel/articles/', id2word_wheel) \n",
    "\n",
    "wheel_corpus"
   ]
  },
  {
   "cell_type": "markdown",
   "metadata": {},
   "source": [
    "### Running our topic model! \n",
    "\n",
    "At long last, we're ready to run our topic model. Let's do it!"
   ]
  },
  {
   "cell_type": "code",
   "execution_count": null,
   "metadata": {},
   "outputs": [],
   "source": [
    "# run the model (using logging since it may take a while)\n",
    "# note the num_topics and the passes parameters; these are the most important parameters for topic modeling\n",
    "\n",
    "%time lda_model = gensim.models.LdaModel(wheel_corpus, num_topics=15, id2word=id2word_wheel, passes=5) \n",
    "\n",
    "# note that passes should be higher -- usually in the 50-100 range -- \n",
    "# but in the interests of time we'll only do 5 "
   ]
  },
  {
   "cell_type": "markdown",
   "metadata": {},
   "source": [
    "### Helpful functions for saving your model\n",
    "\n",
    "Because topic models can take a long time to run, it can be helpful to save your model and/or its components so that it can be loaded back in at a later date. Here's how you do those things:"
   ]
  },
  {
   "cell_type": "code",
   "execution_count": null,
   "metadata": {},
   "outputs": [],
   "source": [
    "# how to store corpus to disk\n",
    "from gensim.corpora import MmCorpus\n",
    "MmCorpus.serialize('./wheel.corpus.mm', wheel_corpus) \n",
    "\n",
    "# how to store dictionary to disk\n",
    "id2word_wheel.save('./wheel.dictionary')\n",
    "\n",
    "# how to store model to disk \n",
    "lda_model.save('./lda_wheel-15topics_5iters.model')\n",
    "\n",
    "## IF THESE FUNCTIONS DON'T WORK IT'S LIKELY BECAUSE YOU DID NOT CLOSE-AND-HALT THEN REOPEN YOUR NOTEBOOK \n",
    "## IN YOUR MY-WORK FOLDER!!!"
   ]
  },
  {
   "cell_type": "markdown",
   "metadata": {},
   "source": [
    "### A helpful function for loading in a saved model\n",
    "\n",
    "You can also load in a saved model. \n",
    "\n",
    "Here, we're going to load in a (slightly) better topic model of the Emory Wheel with the same number of topics (15), but 50 iterations. I did not filter out any of the top n words, but I did filter out all of the words that appeared in only one article."
   ]
  },
  {
   "cell_type": "code",
   "execution_count": null,
   "metadata": {},
   "outputs": [],
   "source": [
    "# load a saved model; in this case, a topic model of the ccp with 50 iterations\n",
    "lda_model = gensim.models.LdaModel.load('../models/lda_wheel-15topics_50iters.model')\n",
    "\n",
    "## IF YOU GET ERRORS HERE, CHECK YOUR PATH!!!"
   ]
  },
  {
   "cell_type": "markdown",
   "metadata": {},
   "source": [
    "### Interacting with your model\n",
    "\n",
    "gensim comes with a bunch of built-in methods that make interacting with the output of the topic model a little easier. Here are some of the most useful:"
   ]
  },
  {
   "cell_type": "code",
   "execution_count": null,
   "metadata": {},
   "outputs": [],
   "source": [
    "# show the topics in the format (number of topics to show, number of terms)\n",
    "\n",
    "# as you can tell already, even the top words in each topic are only a very small proportion\n",
    "# of that topic, since we are dealing with about 40K unique words\n",
    "\n",
    "lda_model.show_topics(15, 10)"
   ]
  },
  {
   "cell_type": "code",
   "execution_count": null,
   "metadata": {},
   "outputs": [],
   "source": [
    "# let's format the words a little more nicely; \n",
    "# the formatted=False parameter returns tuples of (word, probability)\n",
    "\n",
    "topics = lda_model.show_topics(15, 10, formatted=False)\n",
    "\n",
    "for topic in topics:\n",
    "    topic_num = topic[0]\n",
    "    topic_words = \"\"\n",
    "    \n",
    "    topic_pairs = topic[1]\n",
    "    for pair in topic_pairs:\n",
    "        topic_words += pair[0] + \", \"\n",
    "    \n",
    "    print(\"T\" + str(topic_num) + \": \" + topic_words)"
   ]
  },
  {
   "cell_type": "markdown",
   "metadata": {},
   "source": [
    "### Labeling topics\n",
    "\n",
    "Now you can see (I hope!) that what we call a \"topic\" is really just a list of the most probable words for that topic, which are sorted in descending order of probability. The most probable word for the topic is the first word. \n",
    "\n",
    "Topic models start to get more powerful when we, as human researchers, analyze the most probable words for every topic and summarize what these words have in common. This summary can then be used as a descriptive label for the topic. \n",
    "\n",
    "Remember, since an LDA topic model is an unsupervised algorithm, it doesn't know what these words mean in relationship to one another. It's up to us, as the human researchers, to make meaning out of the topics.\n",
    "\n",
    "## EXERCISE 1: LABELING TOPICS\n",
    "\n",
    "How might you label the following topics generated by the model above?\n",
    "\n",
    "✨Topic 3:✨\n",
    "\n",
    "`team, emory, game, eagles, said, university, season, second, time, points, senior, win, junior, year, sophomore, teams, freshman, college, run, play, `"
   ]
  },
  {
   "cell_type": "code",
   "execution_count": null,
   "metadata": {},
   "outputs": [],
   "source": [
    "# your answer here -- a single word or short phrase is fine"
   ]
  },
  {
   "cell_type": "markdown",
   "metadata": {},
   "source": [
    "✨Topic 6:✨\n",
    "\n",
    "`killers, song, album, music, songs, rae, band, stage, concert, performance, crowd, audience, artists, lyrics, sound, dance, makeshift, collapsing, nextyear, weighty, `"
   ]
  },
  {
   "cell_type": "code",
   "execution_count": null,
   "metadata": {},
   "outputs": [],
   "source": [
    "# your answer here -- a single word or short phrase is fine"
   ]
  },
  {
   "cell_type": "markdown",
   "metadata": {},
   "source": [
    "✨Topic 13:✨\n",
    "\n",
    "`officer, subject, said, april, epd, reported, complainant, emory, case, individual, student, wallet, responded, assigned, investigator, number, second, stage, campus, driver, `\n",
    "\n"
   ]
  },
  {
   "cell_type": "code",
   "execution_count": null,
   "metadata": {},
   "outputs": [],
   "source": [
    "# your answer here -- a single word or short phrase is fine"
   ]
  },
  {
   "cell_type": "markdown",
   "metadata": {},
   "source": [
    "### Refining the model\n",
    "\n",
    "These are decent topics, but they're not amazing. Here are a few things you might want to try in order to fine-tune your model:\n",
    "\n",
    "* Filtering some of the most common words (see the filtering function above)\n",
    "* Generating fewer topics (we could try 10, for instance). \n",
    "\n",
    "Most work with topic modeling involves a fair amount of trial and error before you arrive at an appropriate number of topics and the best ways to filter your corpus. \n",
    "\n",
    "Feel free to try those things on your own. \n",
    "\n",
    "### Topics and word probabilities\n",
    "\n",
    "Now let's take a bit of a closer look at the probabilities attached to each word in a single topic. We'll look at topic 13, the one that seems be about police and crime."
   ]
  },
  {
   "cell_type": "code",
   "execution_count": null,
   "metadata": {},
   "outputs": [],
   "source": [
    "# T13 looks coherent\n",
    "topic = topics[13]\n",
    "\n",
    "print(\"Topic 13\")\n",
    "\n",
    "# the first item in the topic list is the topic number\n",
    "topic_num = topic[0]\n",
    "\n",
    "# the next item in the topic list is another list with pairs of words and percentages\n",
    "# this is what we want to examine\n",
    "topic_pairs = topic[1]\n",
    "for idx, pair in enumerate(topic_pairs):\n",
    "    print(str(idx) + \". \" + pair[0] + \": \" + str(pair[1]))\n",
    "\n",
    "# since all topics contain all words, the sum of all of the probabilities of each \n",
    "# topic should be 1\n"
   ]
  },
  {
   "cell_type": "markdown",
   "metadata": {},
   "source": [
    "## EXERCISE 2: UNDERSTANDING WORD PROBABILITIES\n",
    "\n",
    "In a sentence or two, please explain what the output of the cell just above is telling us?"
   ]
  },
  {
   "cell_type": "code",
   "execution_count": null,
   "metadata": {},
   "outputs": [],
   "source": [
    "# your answer here"
   ]
  },
  {
   "cell_type": "markdown",
   "metadata": {},
   "source": [
    "### Documents and topic probabilities / proportions\n",
    "\n",
    "Another way we can use the output of a topic model is to examine the probabilities of topics in each document. \n",
    "\n",
    "While MALLET provides this output automatically, there's a bit more work required to display it in gensim. When we're able to use MALLET later on in the semester, you will apprciate how much easier that is. \n",
    "\n",
    "For now, though, we'll do it this way:"
   ]
  },
  {
   "cell_type": "code",
   "execution_count": null,
   "metadata": {},
   "outputs": [],
   "source": [
    "tokens = [] \n",
    "\n",
    "# open one file\n",
    "with open('../corpora/emory-wheel/articles/2014-10-02-Atlanta-Food-Truck-Park-Brings-Enriching-Epicurian-Experience.txt', \"r\") as file:\n",
    "    text = file.read()\n",
    "    tokens = tokenize(text) # remember this from above\n",
    "\n",
    "# create the bag of words for the document on the basis of the Wheel dictionary, created above\n",
    "doc_bow = id2word_wheel.doc2bow(tokens)\n",
    "\n",
    "# get the topics that the doc consists of\n",
    "doc_topics = lda_model.get_document_topics(doc_bow)\n",
    "\n",
    "# now, format this a bit more nicely so we can understand the output \n",
    "for topic, prob in doc_topics:\n",
    "    print(\"T\" + str(topic) + \": \" + \"{:.2%}\".format(prob) + \" of document\")"
   ]
  },
  {
   "cell_type": "markdown",
   "metadata": {},
   "source": [
    "You will note that this is not a list of all 15 topics. This is because, if a topic's proportion is very very small, it gets rounded down to zero and does not appear.\n",
    "\n",
    "Let's try to make this output even more meaningful by also displaying the words associated with each topic."
   ]
  },
  {
   "cell_type": "code",
   "execution_count": null,
   "metadata": {},
   "outputs": [],
   "source": [
    "# cross-reference the topic proportions with the words to get more meaningful output\n",
    "for topic, prob in doc_topics:\n",
    "    topic_words = \"\"\n",
    "    select_topics = topics[topic]\n",
    "    \n",
    "    for pair in select_topics[1]:\n",
    "        topic_words += pair[0] + \", \"\n",
    "    \n",
    "    print(\"T\" + str(topic) + \": \" + \"{:.2%}\".format(prob) + \" of document. Top words: \" + topic_words)"
   ]
  },
  {
   "cell_type": "markdown",
   "metadata": {},
   "source": [
    "## EXERCISE 3: EXAMINING THE TOPICAL COMPOSITION OF DOCUMENTS\n",
    "\n",
    "Copying and modifying the code in the two cells above, print out the topical composition of another document in our corpus. (You may need to take a look at the directory that contains all of the articles to determine the name of a file to load). "
   ]
  },
  {
   "cell_type": "code",
   "execution_count": null,
   "metadata": {},
   "outputs": [],
   "source": [
    "# your code here"
   ]
  },
  {
   "cell_type": "markdown",
   "metadata": {},
   "source": [
    "Which topic appears in the highest proportion in your document? (In other words, which topic probability is most prevalent in the document you have selected?)"
   ]
  },
  {
   "cell_type": "code",
   "execution_count": null,
   "metadata": {},
   "outputs": [],
   "source": [
    "# your answer here -- can just be the topic number. no need to write code to print it out."
   ]
  },
  {
   "cell_type": "markdown",
   "metadata": {},
   "source": [
    "### Evaluating Topics ###\n",
    "\n",
    "Gensim has several built-in methods for evaluating topics included as a model called [CoherenceModel](https://radimrehurek.com/gensim/models/coherencemodel.html). The fastest one to calculate is called u_mass, and in this case, the closer to zero (in either direction, positive or negative), the better the score. \n",
    "\n",
    "Let's see how our model performs: "
   ]
  },
  {
   "cell_type": "code",
   "execution_count": null,
   "metadata": {},
   "outputs": [],
   "source": [
    "from gensim.models.coherencemodel import CoherenceModel\n",
    "\n",
    "cm = CoherenceModel(model=lda_model, corpus=wheel_corpus, coherence='u_mass')\n",
    "\n",
    "coherence = cm.get_coherence()  # get coherence value\n",
    "\n",
    "coherence"
   ]
  },
  {
   "cell_type": "markdown",
   "metadata": {},
   "source": [
    "As with many metrics, this number is mostly helpful in a relative context. How some people employ metrics like this is to generate models with a variety of topics and look for the number of topics that yields the best coherence score. \n",
    "\n",
    "With that said, the debate about how best to evaluate topics is far from settled. Here's a review essay by Hanna Wallach et al. that summarizes a few additional methods of evaluation, including some involving humans in the loop: [\"Evaluation Methods for Topc Models\"](http://dirichlet.net/pdf/wallach09evaluation.pdf)."
   ]
  },
  {
   "cell_type": "markdown",
   "metadata": {},
   "source": [
    "**OK. That's it. You did it! Time to upload your notebook to canvas.**"
   ]
  },
  {
   "cell_type": "code",
   "execution_count": null,
   "metadata": {},
   "outputs": [],
   "source": []
  }
 ],
 "metadata": {
  "kernelspec": {
   "display_name": "Python 3",
   "language": "python",
   "name": "python3"
  },
  "language_info": {
   "codemirror_mode": {
    "name": "ipython",
    "version": 3
   },
   "file_extension": ".py",
   "mimetype": "text/x-python",
   "name": "python",
   "nbconvert_exporter": "python",
   "pygments_lexer": "ipython3",
   "version": "3.7.2"
  }
 },
 "nbformat": 4,
 "nbformat_minor": 2
}
