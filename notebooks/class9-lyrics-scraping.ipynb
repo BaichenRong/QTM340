{
 "cells": [
  {
   "cell_type": "markdown",
   "metadata": {},
   "source": [
    "## Lyrics Scraping Start to Finish ##\n",
    "\n",
    "For the last quiz, you likely did something like this..."
   ]
  },
  {
   "cell_type": "code",
   "execution_count": null,
   "metadata": {},
   "outputs": [],
   "source": [
    "# import libraries we'll need\n",
    "\n",
    "import requests\n",
    "from bs4 import BeautifulSoup"
   ]
  },
  {
   "cell_type": "code",
   "execution_count": null,
   "metadata": {},
   "outputs": [],
   "source": [
    "# get the contents of the candidate playlist page\n",
    "\n",
    "resp = requests.get(\"https://www.nytimes.com/interactive/2019/08/19/us/politics/presidential-campaign-songs-playlists.html\") "
   ]
  },
  {
   "cell_type": "code",
   "execution_count": null,
   "metadata": {},
   "outputs": [],
   "source": [
    "# convert it to string and just make sure it worked\n",
    "html_str = resp.text\n",
    "\n",
    "html_str"
   ]
  },
  {
   "cell_type": "code",
   "execution_count": null,
   "metadata": {},
   "outputs": [],
   "source": [
    "# load it into beautiful soup\n",
    "\n",
    "document = BeautifulSoup(html_str, \"html.parser\")"
   ]
  },
  {
   "cell_type": "code",
   "execution_count": null,
   "metadata": {},
   "outputs": [],
   "source": [
    "# find all the song title tags and see what they look like\n",
    "\n",
    "title_tags = document.find_all(\"span\", attrs={\"class\": \"song-title\"})\n",
    "\n",
    "title_tags"
   ]
  },
  {
   "cell_type": "code",
   "execution_count": null,
   "metadata": {},
   "outputs": [],
   "source": [
    "# now loop through the title tags, looking for the associated artist\n",
    "# store both in a dictionary in the format {song title, artist}\n",
    "\n",
    "song_dict = {} \n",
    "\n",
    "for title in title_tags:\n",
    "    # get the string associated w/ the tag\n",
    "    song_title = title.string\n",
    "    # while we're looking at that title, look for the next sibling\n",
    "    artist_name = title.find_next_sibling('span')\n",
    "    # add it to the dict (and be sure to add only the string)\n",
    "    song_dict[song_title] = artist_name.string\n",
    "    \n",
    "song_dict"
   ]
  },
  {
   "cell_type": "code",
   "execution_count": null,
   "metadata": {},
   "outputs": [],
   "source": [
    "# now it's time to hook in the API \n",
    "\n",
    "# before anything else, define your API key to authorize your request when using the API:\n",
    "\n",
    "client_access_token = \" INSERT API KEY HERE!!! \" # Replace with your token"
   ]
  },
  {
   "cell_type": "code",
   "execution_count": null,
   "metadata": {},
   "outputs": [],
   "source": [
    "# now, iterate through our song_dict and get our lyrics URLs\n",
    "# store it in another dict for future reference \n",
    "# (though for the purposes of the quiz, you could just print out the URL inside the loop and be done)\n",
    "\n",
    "url_dict = {}\n",
    "\n",
    "for item in song_dict:\n",
    "    song_title = item\n",
    "    song_artist = song_dict[item]\n",
    "        \n",
    "    # Remember this is the URL for a search via the Genius API:\n",
    "    genius_search_url = f'http://api.genius.com/search?q={song_title}&access_token={client_access_token}'\n",
    "\n",
    "    # here's the API call\n",
    "    resp = requests.get(genius_search_url)\n",
    "    data = resp.json()\n",
    "    \n",
    "    # now search for match w/ artist \n",
    "    for song in data['response']['hits']:\n",
    "        if song['result']['primary_artist']['name'] == song_artist:\n",
    "            # if there's a match, get the url\n",
    "            lyrics_url = song['result']['url']\n",
    "\n",
    "            # here you could have just printed out the info at this point for Quiz 2\n",
    "            # but in this case we're going to add it to the url dict in format {song title, url}\n",
    "            # so that we can use it again later \n",
    "            url_dict[song_title] = lyrics_url\n",
    "            \n",
    "            # also give a status update so we can make sure we're on the right track...\n",
    "            print(\"Matched! Artist: \" + song_artist + \" and title: \" + song_title)\n",
    " \n",
    "            # break out of for loop if we've got a match \n",
    "            break\n",
    "            \n",
    "url_dict"
   ]
  },
  {
   "cell_type": "code",
   "execution_count": null,
   "metadata": {},
   "outputs": [],
   "source": [
    "# now we've got our URL dict so we can start scraping lyrics!\n",
    "\n",
    "import re\n",
    "\n",
    "for item in url_dict:\n",
    "    song_title = item\n",
    "    song_artist = song_dict[item]   # note that later in the semester, we'll learn\n",
    "                                    # another method of storing multidimensional data\n",
    "                                    # for now, though, we'll just keep these two dicts\n",
    "    song_url = url_dict[item]  \n",
    "\n",
    "    # now this is just what you did for your first quiz\n",
    "    # get the contents of the lyrics page\n",
    "    print(\"Requesting: \" + song_url)\n",
    "    resp = requests.get(song_url) \n",
    "    html_str = resp.text\n",
    "\n",
    "    # turn it into a BS object and get the lyrics div\n",
    "    document = BeautifulSoup(html_str, \"html.parser\")\n",
    "\n",
    "    # this is all you used to need to do to scrape the lyrics;  \n",
    "    # note that this is how simple the web-scraping used to be! \n",
    "    # lyrics = document.find('p').text\n",
    "\n",
    "    # now it's more complicated and in order to automate it, we need... regex!\n",
    "    # what we're looking for is something called \"Lyrics__Container-xx-xxxxxxx-x xxxxxx\"\n",
    "    # we can abstract this into Lyrics__Container and then any chars that follow, so... \n",
    "    \n",
    "    # let's do it -- here are some clues!  \n",
    "    \n",
    "    # ^ matches the start of a string\n",
    "    # . for any character except for end-of-line\n",
    "    # * for matching the \".\" zero or more times; and then\n",
    "    # $ matches the end of the line\n",
    "\n",
    "    lyrics_divs = document.find_all(\"div\", attrs={\"class\": re.compile(\" INSERT REGEX HERE!!! \")})\n",
    "\n",
    "\n",
    "    \n",
    "    \n",
    "    # now let's set up a list to store our lyrics\n",
    "    lyrics = []\n",
    "\n",
    "    for div in lyrics_divs:\n",
    "        lyrics.append(div.get_text(separator='\\n'))\n",
    "    \n",
    "    # let's do some quick cleaning, just like we did before... regex again \n",
    "    cleanest_lyrics = []\n",
    "    \n",
    "    for chunk in lyrics:\n",
    "        # remove square brackets as we did last class\n",
    "        cleaner_chunk = re.sub(\"\\[.*\\]\", \"\", chunk)\n",
    "        # remove leading newlines as we did last class\n",
    "        cleanest_chunk = re.sub(\"^[\\n]{2}\",\"\", cleaner_chunk)\n",
    "        # append the final version to the lyrics list\n",
    "        cleanest_lyrics.append(cleanest_chunk)\n",
    "\n",
    "    # store it in a file\n",
    "\n",
    "    # we'll use the final part of the URL as a filename \n",
    "    filename = song_url.replace(\"https://genius.com/\",\"\")\n",
    "    filename = filename.replace(\"-lyrics\",\"\") + \".txt\"\n",
    "    \n",
    "    # store the lyrics in a dir called \"my-lyrics\"; \n",
    "    path = \"my-lyrics/\" + filename\n",
    "    \n",
    "    # IMPORTANT: \"my-lyrics\" dir needs to exist first, otherwise it will break  \n",
    "    # you need to go to the \"my-work\" directory and create a new directory inside  \n",
    "    # that one called 'my-lyrics'\n",
    "    \n",
    "    with open(path, \"w\") as file:\n",
    "        file.writelines(cleanest_lyrics)\n",
    "        print(\"Wrote lyrics to: \" + filename)"
   ]
  },
  {
   "cell_type": "markdown",
   "metadata": {},
   "source": [
    "Hurray! We got our lyrics!"
   ]
  },
  {
   "cell_type": "markdown",
   "metadata": {},
   "source": [
    "PS: The regex tweet I wanted to share with you the other day:\n",
    "\n",
    "<img src=\"http://lklein.com/wp-content/uploads/2019/09/Screen-Shot-2019-09-18-at-11.21.11-AM.png\">"
   ]
  },
  {
   "cell_type": "code",
   "execution_count": null,
   "metadata": {},
   "outputs": [],
   "source": []
  }
 ],
 "metadata": {
  "kernelspec": {
   "display_name": "Python 3",
   "language": "python",
   "name": "python3"
  },
  "language_info": {
   "codemirror_mode": {
    "name": "ipython",
    "version": 3
   },
   "file_extension": ".py",
   "mimetype": "text/x-python",
   "name": "python",
   "nbconvert_exporter": "python",
   "pygments_lexer": "ipython3",
   "version": "3.7.2"
  }
 },
 "nbformat": 4,
 "nbformat_minor": 1
}
