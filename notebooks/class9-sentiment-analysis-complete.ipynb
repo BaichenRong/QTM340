{
 "cells": [
  {
   "cell_type": "markdown",
   "metadata": {},
   "source": [
    "## Getting started with NLP and Sentiment Analysis ##\n",
    "\n",
    "*Lauren F. Klein wrote version 1.0 of this notebook, based off [Sentiment Analysis for Exploratory Data Analysis](https://programminghistorian.org/en/lessons/sentiment-analysis) by Zöe Wilkinson Saldaña with additional info by [Parul Pandey](https://medium.com/analytics-vidhya/simplifying-social-media-sentiment-analysis-using-vader-in-python-f9e6ec6fc52f). It was updated in 2020 by Dan Sinykin and again by Lauren Klein in 2021.*\n",
    "\n",
    "Thus far, we have learned to access APIs, scrape, parse, and clean text. We're ready for NLP.\n",
    "\n",
    "But what's NLP?\n",
    "\n",
    "Natural Language Processing (NLP) names a broad range of techniques that involve applying computational analytical methods to text. (\"Natural language\" in this context just means human language as opposed to a programming language, like Python). In this unit, we'll explore many popular NLP techniques, beginning with sentiment analysis. \n",
    "\n",
    "Sentiment analysis is a method of quantifying the \"sentiment,\" or emotional intensity, of words and phrases in a text. Some sentiment analysis tools, including the one we'll be working with today, also factor in the emotional weight of other features of language, such as punctuation marks or emojis. In general, sentiment analysis processes a unit of text (a sentence, a paragraph, a book, an email, a song, a tweet) and outputs scores or other classifications that indicate whether that unit of text conveys a positive or negative sentiment (according to the particular algorithm and dictionary employed). Some tools go as far as to quantify the *degree* of positivity or degree of negativity within a text. \n",
    "\n",
    "How might this be helpful? A researcher interested in attitudes toward a political event, for example, might use sentiment analysis to characterize how people describe that event on Twitter. Combined with geographic data, sentiment analysis can be used to make comparisons across regions. Combined with demographic data, sentiment analysis can be used to understand how different groups of people view any particular event (or issue, or individual). Sentiment analysis can be easily scaled up, which makes it possible to analyze hundreds of thousands or even millions of speech events.\n",
    "\n",
    "Like any computational tool, sentiment analysis has limitations that must be taken into account. We'll explore some of those in our readings and in your next quiz. But when wielding sentiment analysis critically *and* creatively, it can lead to interesting results."
   ]
  },
  {
   "cell_type": "markdown",
   "metadata": {},
   "source": [
    "### NLTK and VADER ###\n",
    "\n",
    "You will be using a few tools from Python's [NLTK](https://www.nltk.org/) (short for Natural Language Toolkit) to generate sentiment scores for the corpus that we created in Unit 1: the lyrics of the candidate playlists that we scraped from Genius.com. After completing today's other Jupyter notebook, you should have those lyrics in a directory in your \"my-work\" folder on JupyterHub.\n",
    "\n",
    "NLTK is a collection of libraries and tools that help researchers apply computational methods to texts. It's been in development since 2001--almost as old as you (or older)!--and it's used widely in the field of NLP. The tools included in NLTK range from methods of breaking up text into smaller pieces, to identifying whether a word belongs in a given language, to providing sample corpora (that's the plural of corpus) that researchers can use for training and development purposes. We'll be using NLTK a lot in the coming weeks. As with the previous unit, I'll introduce you to its features as we require them for our specific goals.   \n",
    "\n",
    "Today, we will be using one NLTK tool: [VADER](https://github.com/cjhutto/vaderSentiment) (short for Valence Aware Dictionary and sEntiment Reasoner), which generates positive, negative, and neutral sentiment scores for textual input.\n",
    "\n",
    "VADER has a lot of advantages over traditional methods of sentiment analysis, including:\n",
    "* It works well on social media text, yet readily generalizes to multiple domains;\n",
    "* It doesn’t require training data but is constructed from a generalizable, valence-based, human-curated gold standard sentiment lexicon;\n",
    "* It is fast enough to be used online with streaming data, and;\n",
    "* It does not severely suffer from a speed-performance tradeoff.\n",
    "\n",
    "The source of the above is an easy-to-read paper published by the creaters of VADER library, one of whom use to be my colleague at Georgia Tech. You can read it [here](http://comp.social.gatech.edu/papers/icwsm14.vader.hutto.pdf)."
   ]
  },
  {
   "cell_type": "markdown",
   "metadata": {},
   "source": [
    "### Sentiment Lexicons, Sentiment Intensity, and Context-Awareness ###\n",
    "\n",
    "Traditionally, sentiment analysis worked by comparing text to a list of lexical features (i.e. words) that were determined by people to be either positive or negative. These are known as *sentiment lexicons.* (It's possible to create lexicons for other types of language as well; we'll talk about this more in the coming few days, as well as in Unit 3, when we discuss modeling in more detail.) \n",
    "\n",
    "More recently, tools have improved upon the positive/negative binary by offering more fine-tuned distinctions between varying degrees of positivity and negativity. This is known as *sentiment intensity*, and VADER does this well. For example, VADER scores “comfort” as moderately positive and “euphoria” as extremely positive. \n",
    "\n",
    "VADER also attempts to capture and score textual features common in informal online text such as capitalizations, exclamation points, and emoticons, as shown in the table below:\n",
    "\n",
    "![VADER table](https://programminghistorian.org/images/sentiment-analysis/sentiment-analysis1.png)"
   ]
  },
  {
   "cell_type": "markdown",
   "metadata": {},
   "source": [
    "### Caveat Emptor! ###\n",
    "\n",
    "Like any text analysis tool, VADER should be evaluated critically and in the context of the assumptions it makes about communication. VADER was developed to analyze English language microblogging and social media sites (especially Twitter). This context is more informal than, for instance, political speeches; and more contemporary than, for instance, Shakespeare. But VADER was also developed as a general purpose sentiment analyzer, and the authors’ initial study shows it compares favorably against tools that have been trained for specific domains, use specialized lexicons, or resource-heavy machine learning techniques. That said, sentiment analysis continues to struggle to capture complex sentiments like irony, sarcasm, and mockery, when the average reader would be able to make the distinction between the literal text and its intended meaning.\n",
    "\n",
    "A few more caveats: while VADER is a good general purpose tool for English language texts, VADER only provides partial native support for non-English texts (it detects emojis/capitalization/etc., but not word choice). The developers encourage users to use automatic translation to pre-process non-English texts and then input the results into VADER. There might be better tools for non-English language texts. \n",
    "\n",
    "### Some examples of hard-to-classify sentences ###\n",
    "\n",
    "“The premise of the film was great, but it could have been better.”\n",
    "\n",
    "* What words would you identify as being associated with either positive or negative sentiment?\n",
    "* Would you say that this sentence have a positive or negative seniment? \n",
    "* What are some reasons that this sentence might be tricky for a sentiment analysis tool?"
   ]
  },
  {
   "cell_type": "code",
   "execution_count": null,
   "metadata": {},
   "outputs": [],
   "source": []
  },
  {
   "cell_type": "code",
   "execution_count": null,
   "metadata": {},
   "outputs": [],
   "source": []
  },
  {
   "cell_type": "code",
   "execution_count": null,
   "metadata": {},
   "outputs": [],
   "source": []
  },
  {
   "cell_type": "markdown",
   "metadata": {},
   "source": [
    "“The best I can say about the movie is that it was interesting.”\n",
    "\n",
    "* What words would you identify as being associated with either positive or negative sentiment?\n",
    "* Would you say that this sentence have a positive or negative seniment? \n",
    "* What are some reasons that this sentence might be tricky for a sentiment analysis tool?"
   ]
  },
  {
   "cell_type": "markdown",
   "metadata": {},
   "source": [
    "### Enough Talk, Time for Action! ###\n",
    "\n",
    "To use VADER, we need to import the nltk library and download and install the VADER lexicon. You do it like this:"
   ]
  },
  {
   "cell_type": "code",
   "execution_count": 2,
   "metadata": {},
   "outputs": [
    {
     "name": "stdout",
     "output_type": "stream",
     "text": [
      "[nltk_data] Downloading package vader_lexicon to\n",
      "[nltk_data]     /Users/lauren/nltk_data...\n",
      "[nltk_data]   Package vader_lexicon is already up-to-date!\n"
     ]
    },
    {
     "data": {
      "text/plain": [
       "True"
      ]
     },
     "execution_count": 2,
     "metadata": {},
     "output_type": "execute_result"
    }
   ],
   "source": [
    "import nltk\n",
    "nltk.download('vader_lexicon')"
   ]
  },
  {
   "cell_type": "markdown",
   "metadata": {},
   "source": [
    "In order to get a sense of what VADER can do, let’s calculate the sentiment scores for one of the songs we scraped from Genius.com.\n",
    "\n",
    "The main component of VADER is its SentimentIntensityAnalyzer, so let's import that too:"
   ]
  },
  {
   "cell_type": "code",
   "execution_count": 3,
   "metadata": {},
   "outputs": [
    {
     "name": "stderr",
     "output_type": "stream",
     "text": [
      "/Users/lauren/anaconda3/lib/python3.7/site-packages/nltk/twitter/__init__.py:20: UserWarning: The twython library has not been installed. Some functionality from the twitter package will not be available.\n",
      "  warnings.warn(\"The twython library has not been installed. \"\n"
     ]
    }
   ],
   "source": [
    "from nltk.sentiment.vader import SentimentIntensityAnalyzer"
   ]
  },
  {
   "cell_type": "markdown",
   "metadata": {},
   "source": [
    "(You can ignore the warning, if you get it, about not having twython installed). \n",
    "\n",
    "Technically, SentimentIntensityAnalyzer is a class, which we will use to build our own sentiment analyzer object.\n",
    "\n",
    "To do so, we call SentimentIntensityAnalyzer() and assign the output - our brand-new sentiment analyzer - to a variable, which we will name ‘sid’."
   ]
  },
  {
   "cell_type": "code",
   "execution_count": 4,
   "metadata": {},
   "outputs": [],
   "source": [
    "sid = SentimentIntensityAnalyzer()"
   ]
  },
  {
   "cell_type": "markdown",
   "metadata": {},
   "source": [
    "By doing this we have given \"sid\" all of the features of the VADER sentiment analysis object. It has become our sentiment analysis tool, but by a shorter name."
   ]
  },
  {
   "cell_type": "markdown",
   "metadata": {},
   "source": [
    "The method associated with the VADER sentiment analysis object that we want to use is what's called ‘polarity scores.’\n",
    "\n",
    "Calling the `polarity_scores` method on sid with our lyrics (or any string) outputs a dictionary with negative, neutral, positive, and compound scores for the input text. \n",
    "\n",
    "Let's do a quick test of how this works with some recent political slogans:"
   ]
  },
  {
   "cell_type": "code",
   "execution_count": 7,
   "metadata": {},
   "outputs": [
    {
     "name": "stdout",
     "output_type": "stream",
     "text": [
      "neg: 0.0\n",
      "neu: 0.423\n",
      "pos: 0.577\n",
      "compound: 0.6249\n"
     ]
    }
   ],
   "source": [
    "scores = sid.polarity_scores(\"Make America Great Again\")\n",
    "\n",
    "for key in scores:\n",
    "    print(key + \": \" + str(scores[key]))"
   ]
  },
  {
   "cell_type": "markdown",
   "metadata": {},
   "source": [
    "Amazing! We just performed our first text analysis! \n",
    "\n",
    "But how do we analyze the analysis?\n",
    "\n",
    "VADER collects and scores negative, neutral, and positive words and features (and accounts for factors like negation along the way). The “neg”, “neu”, and “pos” values describe the fraction of weighted scores that fall into each category. So in this case, this song contains 0% negative features, 42.3% netural featurs, and 57.7% features. \n",
    "\n",
    "But what does the \"compound\" score mean? Clearly, this is not just the sum of the other three. It's more accurately described as a holistic score of the sentiment of whatever text has been passed in. It ranges from -1 to 1, and if you're curious, [here is one detailed explanation of how it's calculated](https://stackoverflow.com/questions/40325980/how-is-the-vader-compound-polarity-score-calculated-in-python-nltk). \n",
    "\n",
    "Now that we (sort of) know what these scores mean, let's try a few more politcal slogans just for kicks:"
   ]
  },
  {
   "cell_type": "code",
   "execution_count": 8,
   "metadata": {},
   "outputs": [
    {
     "name": "stdout",
     "output_type": "stream",
     "text": [
      "neg: 0.0\n",
      "neu: 0.278\n",
      "pos: 0.722\n",
      "compound: 0.3818\n"
     ]
    }
   ],
   "source": [
    "scores = sid.polarity_scores(\"Stronger Together\")\n",
    "\n",
    "for key in scores:\n",
    "    print(key + \": \" + str(scores[key]))"
   ]
  },
  {
   "cell_type": "code",
   "execution_count": 9,
   "metadata": {},
   "outputs": [
    {
     "name": "stdout",
     "output_type": "stream",
     "text": [
      "neg: 0.0\n",
      "neu: 0.408\n",
      "pos: 0.592\n",
      "compound: 0.4404\n"
     ]
    }
   ],
   "source": [
    "scores = sid.polarity_scores(\"Hope and Change\")\n",
    "\n",
    "for key in scores:\n",
    "    print(key + \": \" + str(scores[key]))"
   ]
  },
  {
   "cell_type": "markdown",
   "metadata": {},
   "source": [
    "So this is (hopefully) starting to make sense. Now let's open up one of the lyrics files we created: "
   ]
  },
  {
   "cell_type": "code",
   "execution_count": 17,
   "metadata": {},
   "outputs": [
    {
     "name": "stdout",
     "output_type": "stream",
     "text": [
      "What you want, baby, I got it\n",
      "What you need, do you know I got it?\n",
      "\n",
      "All I'm askin' is for a little respect when you come home\n",
      "(Just a little bit) Hey baby\n",
      "(Just a little bit) when you get home\n",
      "(Just a little bit) mister\n",
      "(Just a little bit)\n",
      "\n",
      "I ain't gonna do you wrong while you're gone\n",
      "Ain't gon' do you wrong 'cause I don't wanna\n",
      "\n",
      "All I'm askin' is for a little respect when you come home\n",
      "(Just a little bit) Baby\n",
      "(Just a little bit) When you get home\n",
      "(Just a little bit) Yeah\n",
      "(Just a little bit)\n",
      "\n",
      "I'm about to give you all of my money\n",
      "And all I'm askin' in return, honey\n",
      "Is to give me my propers when you get home\n",
      "\n",
      "(Just a, just a, just a, just a) Yeah, baby\n",
      "(Just a, just a, just a, just a) When you get home\n",
      "(Just a little bit) Yeah\n",
      "(Just a little bit)\n",
      "\n",
      "Ooh, your kisses, sweeter than honey\n",
      "And guess what? So is my money\n",
      "\n",
      "All I want you to do for me, is give it to me when you get home\n",
      "(Re, re, re ,re) Yeah baby\n",
      "(Re, re, re ,re) Whip it to me\n",
      "(Respect, just a little bit) When you get home, now\n",
      "(Just a little bit)\n",
      "\n",
      "R-E-S-P-E-C-T, find out what it means to me\n",
      "R-E-S-P-E-C-T, take care, TCB, oh\n",
      "\n",
      "(Sock it to me, sock it to me, sock it to me, sock it to me)\n",
      "A little respect\n",
      "(sock it to me, sock it to me, sock it to me, sock it to me)\n",
      "Whoa, babe\n",
      "(Just a little bit) A little respect\n",
      "(Just a little bit) I get tired\n",
      "(Just a little bit) Keep on tryin'\n",
      "(Just a little bit) You're runnin' out of fools\n",
      "(Just a little bit) And I ain't lyin'\n",
      "(Just a little bit)\n",
      "(Re, re, re, re) Start when you come home\n",
      "(Re, re, re, respect) Or you might walk in\n",
      "(Just a little bit) And find out I'm gone\n",
      "(Just a little bit) I gotta have\n",
      "(Just a little bit) A little respect\n",
      "(Just a little bit)\n",
      "\n",
      "\n"
     ]
    }
   ],
   "source": [
    "with open(\"../corpora/lyrics/Aretha-franklin-respect.txt\", \"r\") as file: \n",
    "    lyrics = file.read()\n",
    "\n",
    "# and just to be sure, print out what we've loaded in:\n",
    "print(lyrics)"
   ]
  },
  {
   "cell_type": "markdown",
   "metadata": {},
   "source": [
    "And now let's see what its sentiment turns out to be:"
   ]
  },
  {
   "cell_type": "code",
   "execution_count": 11,
   "metadata": {},
   "outputs": [
    {
     "name": "stdout",
     "output_type": "stream",
     "text": [
      "neg: 0.035\n",
      "neu: 0.875\n",
      "pos: 0.09\n",
      "compound: 0.9342\n"
     ]
    }
   ],
   "source": [
    "scores = sid.polarity_scores(lyrics)\n",
    "\n",
    "for key in scores:\n",
    "    print(key + \": \" + str(scores[key]))"
   ]
  },
  {
   "cell_type": "markdown",
   "metadata": {},
   "source": [
    "What do these nummbers tell us?\n",
    "\n",
    "Let's [listen to the song](https://www.youtube.com/watch?v=6FOUqQt3Kg0) and see if we agree. \n",
    "\n",
    "### A Quick Note on Thresholds ###\n",
    "\n",
    "It can be helpful to set a minimum threshold for positivity or negativity so that you can classify a string/doc/etc as either positive or negative. The official VADER documentation suggests a threshold of -0.5 and 0.5, meaning to be counted negative it should be below -0.5 and as positive above 0.5. \"Respect\" easily meets the threshold for positive sentiment."
   ]
  },
  {
   "cell_type": "markdown",
   "metadata": {},
   "source": [
    "To get a sense of how \"Respect\" compares to another song, let's try \"Dis Generation\" by A Tribe Called Quest"
   ]
  },
  {
   "cell_type": "code",
   "execution_count": 19,
   "metadata": {},
   "outputs": [
    {
     "name": "stdout",
     "output_type": "stream",
     "text": [
      "Handle rocks with the capital G, ball on the beat\n",
      "Status, Chris Paul and John Wall in the league\n",
      "Grabbin' mics till the knuckles would bleed\n",
      "('Cause I believe\n",
      "The potent that I'm quoting will have you geeked like speed)\n",
      "If rationale is naturale or a weave\n",
      "It's all edges and peas\n",
      "Settin' press, we on a permanent steeze\n",
      "I'm in a world where my princess is Leia\n",
      "And she's feeling my Vader\n",
      "And my lure grows greater and greater\n",
      "Chem trails, droppin' poisonous vapors\n",
      "Have you shaking like Gator\n",
      "Been trill, nigga, process the data\n",
      "Blu-ray, wave file, or a Beta, I'll DVR it for later\n",
      "Kappo Masa with a G to my waiter\n",
      "You can't define us, XY us, or Z us\n",
      "You generational elitists\n",
      "Have your chi in virtual think pieces\n",
      "(See, these written words are poetical science\n",
      "Brain's defiant, thoughts heavy, baby\n",
      "They're a major appliance)Leave a dent when drop with the flyness, fluent giant\n",
      "Dude's nice, he tight, screwed in with some pliers\n",
      "Cool with some buyers\n",
      "Yeah, nigga, cool with some growers\n",
      "(Never no tattletales, only I don't knowers)\n",
      "We a show me generation, show us what you gon' show us\n",
      "So listen, mami, see we could collude with a boing\n",
      "Mouthpiece like Goines, with a jubilant noise\n",
      "Dudes rude and as useless as coins, shoot 'em boys\n",
      "Versed in, rehearsed in the soothing of loins\n",
      "Talk to Joey, Earl, Kendrick, and Cole, gatekeepers of flow\n",
      "They are extensions of instinctual soulIt's the highest in commodity grade\n",
      "And you could get it today\n",
      "\n",
      "Dis generation, dis generation, dis generation\n",
      "Dis generation, dis generation, dis generation\n",
      "Rules di nation\n",
      "\n",
      "One hitting reading pages of Poe\n",
      "Telly is low, cuddle bunny ready to go\n",
      "Day of the dead\n",
      "Bury all the zombies instead\n",
      "And it's just your aftermath, Busta cuttin' your dreads\n",
      "Bruce Leein' niggas, while you niggas UFC\n",
      "Smoke tree on niggas, sizzle out your USB\n",
      "(Surge pricing on these Ubers, I'mma get me a cab)\n",
      "Yo, where Jarobi at?\n",
      "Imbibing on impeccable grass\n",
      "I be in NYC waiting for that law to pass\n",
      "(Pass shit, been waiting for a Jet's title since last\n",
      "Richard Todd, Todd Bowles, gang green on that ass)\n",
      "Magic Mike on the mic, David Blaine, Douglass Henning\n",
      "In the church of Busta Rhymes, it's my sermon you're getting\n",
      "Horizontal spittin', I'm the exorcist of your writtens\n",
      "Don't interrupt me, nigga, sorry, that's a sin unforgivenLike how we be skipping on beats like cooking crack in the kitchen\n",
      "B-b-b-b-b-b-but wait\n",
      "Just spit the package, dry it, bag up the wet\n",
      "This mad city's not a game, easy, quiet on set, Phife\n",
      "(Student of the past trailblazing a daze\n",
      "Not acknowledging a trend or swept up in a phase\n",
      "We still the highest of commodity grade\n",
      "And you could get it, get it, get it, get it today)\n",
      "\n",
      "Dis generation, dis generation, dis generation\n",
      "Dis generation, dis generation, dis generation\n",
      "Rules di nation\n",
      "\n",
      "This is our generation, generation, uh huh, yeah\n",
      "This our generation, generation, uh huh\n",
      "This our generation, generation, uh huh\n",
      "\n",
      "\n"
     ]
    }
   ],
   "source": [
    "with open(\"../corpora/lyrics/A-tribe-called-quest-dis-generation.txt\", \"r\") as file:\n",
    "    lyrics2 = file.read()\n",
    "    \n",
    "# and just to be sure, print out what we've loaded in:\n",
    "print(lyrics2)"
   ]
  },
  {
   "cell_type": "code",
   "execution_count": 20,
   "metadata": {},
   "outputs": [
    {
     "name": "stdout",
     "output_type": "stream",
     "text": [
      "neg: 0.1\n",
      "neu: 0.828\n",
      "pos: 0.072\n",
      "compound: -0.94\n"
     ]
    }
   ],
   "source": [
    "scores2 = sid.polarity_scores(lyrics2)\n",
    "\n",
    "for key in scores2:\n",
    "    print(key + \": \" + str(scores2[key]))"
   ]
  },
  {
   "cell_type": "markdown",
   "metadata": {},
   "source": [
    "Wow! VADER sees \"Dis Generation\" as very negative. Listen for yourself [here](https://www.youtube.com/watch?v=kQaSDJYwdh4). Do you agree?"
   ]
  },
  {
   "cell_type": "markdown",
   "metadata": {},
   "source": [
    "It's a complex song that identifies negative aspects of contemporary life but also celebrates aspects of the young generation. To call it very negative would seem to miss the point."
   ]
  },
  {
   "cell_type": "markdown",
   "metadata": {},
   "source": [
    "### Determining Appropriate Scope ###"
   ]
  },
  {
   "cell_type": "markdown",
   "metadata": {},
   "source": [
    "There isn't much calibration, or pre-processing, required of sentiment analysis. But there is one important aspect of calibration to consider when employing sentiment analysis: the unit of the text being analyzed.\n",
    "\n",
    "In the case of song lyrics, for example, we might want to analyze the entire song as a single unit, or we might want to analyze each line. \n",
    "\n",
    "* What are some research questions for which you might want to look at the entire song as a whole?\n",
    "* What are some research questions for which you might want to look at each line at a time?"
   ]
  },
  {
   "cell_type": "markdown",
   "metadata": {},
   "source": []
  },
  {
   "cell_type": "code",
   "execution_count": null,
   "metadata": {},
   "outputs": [],
   "source": []
  },
  {
   "cell_type": "code",
   "execution_count": null,
   "metadata": {},
   "outputs": [],
   "source": []
  },
  {
   "cell_type": "markdown",
   "metadata": {},
   "source": [
    "Let's redo our sentiment analysis so that we look at each line of the song individually."
   ]
  },
  {
   "cell_type": "code",
   "execution_count": 22,
   "metadata": {},
   "outputs": [
    {
     "data": {
      "text/plain": [
       "['Handle rocks with the capital G, ball on the beat',\n",
       " 'Status, Chris Paul and John Wall in the league',\n",
       " \"Grabbin' mics till the knuckles would bleed\",\n",
       " \"('Cause I believe\",\n",
       " \"The potent that I'm quoting will have you geeked like speed)\",\n",
       " 'If rationale is naturale or a weave',\n",
       " \"It's all edges and peas\",\n",
       " \"Settin' press, we on a permanent steeze\",\n",
       " \"I'm in a world where my princess is Leia\",\n",
       " \"And she's feeling my Vader\",\n",
       " 'And my lure grows greater and greater',\n",
       " \"Chem trails, droppin' poisonous vapors\",\n",
       " 'Have you shaking like Gator',\n",
       " 'Been trill, nigga, process the data',\n",
       " \"Blu-ray, wave file, or a Beta, I'll DVR it for later\",\n",
       " 'Kappo Masa with a G to my waiter',\n",
       " \"You can't define us, XY us, or Z us\",\n",
       " 'You generational elitists',\n",
       " 'Have your chi in virtual think pieces',\n",
       " '(See, these written words are poetical science',\n",
       " \"Brain's defiant, thoughts heavy, baby\",\n",
       " \"They're a major appliance)Leave a dent when drop with the flyness, fluent giant\",\n",
       " \"Dude's nice, he tight, screwed in with some pliers\",\n",
       " 'Cool with some buyers',\n",
       " 'Yeah, nigga, cool with some growers',\n",
       " \"(Never no tattletales, only I don't knowers)\",\n",
       " \"We a show me generation, show us what you gon' show us\",\n",
       " 'So listen, mami, see we could collude with a boing',\n",
       " 'Mouthpiece like Goines, with a jubilant noise',\n",
       " \"Dudes rude and as useless as coins, shoot 'em boys\",\n",
       " 'Versed in, rehearsed in the soothing of loins',\n",
       " 'Talk to Joey, Earl, Kendrick, and Cole, gatekeepers of flow',\n",
       " \"They are extensions of instinctual soulIt's the highest in commodity grade\",\n",
       " 'And you could get it today',\n",
       " '',\n",
       " 'Dis generation, dis generation, dis generation',\n",
       " 'Dis generation, dis generation, dis generation',\n",
       " 'Rules di nation',\n",
       " '',\n",
       " 'One hitting reading pages of Poe',\n",
       " 'Telly is low, cuddle bunny ready to go',\n",
       " 'Day of the dead',\n",
       " 'Bury all the zombies instead',\n",
       " \"And it's just your aftermath, Busta cuttin' your dreads\",\n",
       " \"Bruce Leein' niggas, while you niggas UFC\",\n",
       " 'Smoke tree on niggas, sizzle out your USB',\n",
       " \"(Surge pricing on these Ubers, I'mma get me a cab)\",\n",
       " 'Yo, where Jarobi at?',\n",
       " 'Imbibing on impeccable grass',\n",
       " 'I be in NYC waiting for that law to pass',\n",
       " \"(Pass shit, been waiting for a Jet's title since last\",\n",
       " 'Richard Todd, Todd Bowles, gang green on that ass)',\n",
       " 'Magic Mike on the mic, David Blaine, Douglass Henning',\n",
       " \"In the church of Busta Rhymes, it's my sermon you're getting\",\n",
       " \"Horizontal spittin', I'm the exorcist of your writtens\",\n",
       " \"Don't interrupt me, nigga, sorry, that's a sin unforgivenLike how we be skipping on beats like cooking crack in the kitchen\",\n",
       " 'B-b-b-b-b-b-but wait',\n",
       " 'Just spit the package, dry it, bag up the wet',\n",
       " \"This mad city's not a game, easy, quiet on set, Phife\",\n",
       " '(Student of the past trailblazing a daze',\n",
       " 'Not acknowledging a trend or swept up in a phase',\n",
       " 'We still the highest of commodity grade',\n",
       " 'And you could get it, get it, get it, get it today)',\n",
       " '',\n",
       " 'Dis generation, dis generation, dis generation',\n",
       " 'Dis generation, dis generation, dis generation',\n",
       " 'Rules di nation',\n",
       " '',\n",
       " 'This is our generation, generation, uh huh, yeah',\n",
       " 'This our generation, generation, uh huh',\n",
       " 'This our generation, generation, uh huh',\n",
       " '',\n",
       " '']"
      ]
     },
     "execution_count": 22,
     "metadata": {},
     "output_type": "execute_result"
    }
   ],
   "source": [
    "# re-intialize VADER\n",
    "sid = SentimentIntensityAnalyzer()\n",
    "\n",
    "# then split our song lyrics into lines broken up by newlines \n",
    "lines = lyrics2.split('\\n') # note handy built-in python string function! \n",
    "\n",
    "# let's take a look\n",
    "lines"
   ]
  },
  {
   "cell_type": "code",
   "execution_count": 26,
   "metadata": {},
   "outputs": [
    {
     "name": "stdout",
     "output_type": "stream",
     "text": [
      "Comp. score: 0.0 Handle rocks with the capital G, ball on the beat\n",
      "Comp. score: 0.0 Status, Chris Paul and John Wall in the league\n",
      "Comp. score: 0.0 Grabbin' mics till the knuckles would bleed\n",
      "Comp. score: 0.0 ('Cause I believe\n",
      "Comp. score: 0.3612 The potent that I'm quoting will have you geeked like speed)\n",
      "Comp. score: 0.0 If rationale is naturale or a weave\n",
      "Comp. score: 0.0 It's all edges and peas\n",
      "Comp. score: 0.0 Settin' press, we on a permanent steeze\n",
      "Comp. score: 0.0 I'm in a world where my princess is Leia\n",
      "Comp. score: 0.128 And she's feeling my Vader\n",
      "Comp. score: 0.6124 And my lure grows greater and greater\n",
      "Comp. score: -0.5719 Chem trails, droppin' poisonous vapors\n",
      "Comp. score: 0.2023 Have you shaking like Gator\n",
      "Comp. score: 0.0 Been trill, nigga, process the data\n",
      "Comp. score: 0.0 Blu-ray, wave file, or a Beta, I'll DVR it for later\n",
      "Comp. score: 0.0 Kappo Masa with a G to my waiter\n",
      "Comp. score: 0.0 You can't define us, XY us, or Z us\n",
      "Comp. score: 0.0 You generational elitists\n",
      "Comp. score: 0.0 Have your chi in virtual think pieces\n",
      "Comp. score: 0.0 (See, these written words are poetical science\n",
      "Comp. score: -0.2263 Brain's defiant, thoughts heavy, baby\n",
      "Comp. score: -0.2732 They're a major appliance)Leave a dent when drop with the flyness, fluent giant\n",
      "Comp. score: -0.1027 Dude's nice, he tight, screwed in with some pliers\n",
      "Comp. score: 0.3182 Cool with some buyers\n",
      "Comp. score: 0.5423 Yeah, nigga, cool with some growers\n",
      "Comp. score: -0.296 (Never no tattletales, only I don't knowers)\n",
      "Comp. score: 0.0 We a show me generation, show us what you gon' show us\n",
      "Comp. score: 0.0 So listen, mami, see we could collude with a boing\n",
      "Comp. score: 0.7579 Mouthpiece like Goines, with a jubilant noise\n",
      "Comp. score: -0.802 Dudes rude and as useless as coins, shoot 'em boys\n",
      "Comp. score: 0.3182 Versed in, rehearsed in the soothing of loins\n",
      "Comp. score: 0.0 Talk to Joey, Earl, Kendrick, and Cole, gatekeepers of flow\n",
      "Comp. score: 0.0 They are extensions of instinctual soulIt's the highest in commodity grade\n",
      "Comp. score: 0.0 And you could get it today\n",
      "Comp. score: 0.0 \n",
      "Comp. score: 0.0 Dis generation, dis generation, dis generation\n",
      "Comp. score: 0.0 Dis generation, dis generation, dis generation\n",
      "Comp. score: 0.0 Rules di nation\n",
      "Comp. score: 0.0 \n",
      "Comp. score: 0.0 One hitting reading pages of Poe\n",
      "Comp. score: 0.1027 Telly is low, cuddle bunny ready to go\n",
      "Comp. score: -0.6486 Day of the dead\n",
      "Comp. score: 0.0 Bury all the zombies instead\n",
      "Comp. score: -0.34 And it's just your aftermath, Busta cuttin' your dreads\n",
      "Comp. score: -0.5859 Bruce Leein' niggas, while you niggas UFC\n",
      "Comp. score: -0.34 Smoke tree on niggas, sizzle out your USB\n",
      "Comp. score: 0.0 (Surge pricing on these Ubers, I'mma get me a cab)\n",
      "Comp. score: 0.0 Yo, where Jarobi at?\n",
      "Comp. score: 0.0 Imbibing on impeccable grass\n",
      "Comp. score: 0.0 I be in NYC waiting for that law to pass\n",
      "Comp. score: -0.5574 (Pass shit, been waiting for a Jet's title since last\n",
      "Comp. score: 0.0 Richard Todd, Todd Bowles, gang green on that ass)\n",
      "Comp. score: 0.0 Magic Mike on the mic, David Blaine, Douglass Henning\n",
      "Comp. score: 0.0 In the church of Busta Rhymes, it's my sermon you're getting\n",
      "Comp. score: 0.0 Horizontal spittin', I'm the exorcist of your writtens\n",
      "Comp. score: -0.0936 Don't interrupt me, nigga, sorry, that's a sin unforgivenLike how we be skipping on beats like cooking crack in the kitchen\n",
      "Comp. score: 0.0 B-b-b-b-b-b-but wait\n",
      "Comp. score: 0.0 Just spit the package, dry it, bag up the wet\n",
      "Comp. score: -0.6814 This mad city's not a game, easy, quiet on set, Phife\n",
      "Comp. score: -0.1779 (Student of the past trailblazing a daze\n",
      "Comp. score: 0.0 Not acknowledging a trend or swept up in a phase\n",
      "Comp. score: 0.0 We still the highest of commodity grade\n",
      "Comp. score: 0.0 And you could get it, get it, get it, get it today)\n",
      "Comp. score: 0.0 \n",
      "Comp. score: 0.0 Dis generation, dis generation, dis generation\n",
      "Comp. score: 0.0 Dis generation, dis generation, dis generation\n",
      "Comp. score: 0.0 Rules di nation\n",
      "Comp. score: 0.0 \n",
      "Comp. score: 0.296 This is our generation, generation, uh huh, yeah\n",
      "Comp. score: 0.0 This our generation, generation, uh huh\n",
      "Comp. score: 0.0 This our generation, generation, uh huh\n",
      "Comp. score: 0.0 \n",
      "Comp. score: 0.0 \n"
     ]
    }
   ],
   "source": [
    "# We add the additional step of iterating through the list of lines and \n",
    "# calculating and printing polarity scores for each one.\n",
    "\n",
    "for line in lines:\n",
    "    scores = sid.polarity_scores(line)\n",
    "    print(\"Comp. score: \" + str(scores['compound']) + \" \" + line)"
   ]
  },
  {
   "cell_type": "markdown",
   "metadata": {},
   "source": [
    "Here you’ll note a much more detailed picture of the sentiment in the song. \n",
    "\n",
    "* What seems interesting?\n",
    "* Did you notice any errors?\n",
    "* What are some research questions we could ask of our song lyrics corpus with sentiment analysis?"
   ]
  },
  {
   "cell_type": "markdown",
   "metadata": {},
   "source": []
  }
 ],
 "metadata": {
  "kernelspec": {
   "display_name": "Python 3",
   "language": "python",
   "name": "python3"
  },
  "language_info": {
   "codemirror_mode": {
    "name": "ipython",
    "version": 3
   },
   "file_extension": ".py",
   "mimetype": "text/x-python",
   "name": "python",
   "nbconvert_exporter": "python",
   "pygments_lexer": "ipython3",
   "version": "3.7.2"
  }
 },
 "nbformat": 4,
 "nbformat_minor": 2
}
