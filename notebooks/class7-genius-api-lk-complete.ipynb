{
 "cells": [
  {
   "cell_type": "markdown",
   "metadata": {},
   "source": [
    "## Fun with the Genius API\n",
    "\n",
    "*I wrote version 1.0 of this notebook in Fall 2019. It has since been supplemented with material from Melanie Walsh's chapter [Song Genius API](https://melaniewalsh.github.io/Intro-Cultural-Analytics/features/Data-Collection/Genius-API.html) from her online textbook [_Introduction to Cultural Analytics & Python_](https://melaniewalsh.github.io/Intro-Cultural-Analytics/features/welcome.html) as well as from Prof. Dan Sinykin's 2020 iteration of QTM 340. I last revised this notebook in Fall 2021*.\n",
    "\n",
    "Many web sites and organizations offer web APIs. We're going to go over how one API in particular works---the [Genius API](https://docs.genius.com/). By introducing you to this one API, you'll learn the tools necessary to sign up for, query, and interpret APIs from other providers.\n",
    "\n",
    "### Signing up for an API Key (aka Client Access Token)\n",
    "\n",
    "Before you can use the Genius API, you need to sign up for a \"client access token,\" which is another name for an API key. Do so by filling out the [New API Client form](https://genius.com/api-clients/new). If you don't yet have an account on Genius.com, you'll be prompted to register first. \n",
    "\n",
    "The next questions don't really apply to our use in class, but they're required to get your token. You'll be prompted to fill out a short form about the \"App\" that you need the Genius API for. You only need to fill out \"App Name\" and \"App Website URL.\" You can enter any words you want in \"App Name.\" Similarly, you can enter any URL in the \"App Website URL,\" like so:\n",
    "\n",
    "<img src=\"http://lklein.com/wp-content/uploads/2021/09/Screen-Shot-2021-09-15-at-11.21.25-AM.png\" style=\"width:400px\">\n",
    "\n",
    "When you click \"Save,\" you'll be given a series of API keys: a \"Client ID\" and a \"Client Secret.\" To generate your \"Client Access Token,\" which is the API key that we'll be using in this notebook, you need to click \"Generate Access Token\".\n",
    "\n",
    "The token is just a string of letters and numbers. It'll look something like this:\n",
    "\n",
    "    6617c28c371f0a138f7912a35365564afe538605\n",
    "    \n",
    "That's your \"key\" for that API. Whenever you make a request to that API, you'll need to include your key in the request. The exact method for including the key will be explained below. (Note: the key above is just something I made up; it's not a valid key; don't try using it in actual requests.)"
   ]
  },
  {
   "cell_type": "code",
   "execution_count": null,
   "metadata": {},
   "outputs": [],
   "source": [
    "# sign up for a client access token from Genius"
   ]
  },
  {
   "cell_type": "markdown",
   "metadata": {},
   "source": [
    "copy and paste your \"Client Access Token\" into the quotation marks below, and run the cell to save your variable"
   ]
  },
  {
   "cell_type": "code",
   "execution_count": 1,
   "metadata": {},
   "outputs": [],
   "source": [
    "client_access_token = \"\"\n",
    "\n"
   ]
  },
  {
   "cell_type": "markdown",
   "metadata": {},
   "source": [
    "### Making an API Request\n",
    "\n",
    "Remember: making an API request looks a lot like typing a specially-formatted URL. That's kind of what it is. But instead of getting a rendered HTML web page in return, you get some data in return.\n",
    "\n",
    "There are a few different ways that we can query the Genius API, all of which are discussed in the [Genius API documentation](https://docs.genius.com/#/getting-started-h1). (In general, an API's documentation will explain how to use the API.) The way we're going to cover in this lesson is the [basic search](https://docs.genius.com/#songs-h2), which allows you to get a bunch of Genius data about any artist or songs that you search for, and it looks something like this:\n",
    "\n",
    "`http://api.genius.com/search?q={search_term}&access_token={client_access_token}`\n",
    "\n",
    "Let's break it down. But first, we need to: "
   ]
  },
  {
   "cell_type": "code",
   "execution_count": 7,
   "metadata": {},
   "outputs": [],
   "source": [
    "import requests # requests again"
   ]
  },
  {
   "cell_type": "markdown",
   "metadata": {},
   "source": [
    "Then we need the base URL for the Genius API. We'll assign it like this:"
   ]
  },
  {
   "cell_type": "code",
   "execution_count": 18,
   "metadata": {},
   "outputs": [
    {
     "data": {
      "text/plain": [
       "'http://api.genius.com'"
      ]
     },
     "execution_count": 18,
     "metadata": {},
     "output_type": "execute_result"
    }
   ],
   "source": [
    "base_url = \"http://api.genius.com\" # this is the URL for the Genius API; we're just storing it as a string\n",
    "base_url"
   ]
  },
  {
   "cell_type": "markdown",
   "metadata": {},
   "source": [
    "Up next, we add '/search', which is what we learned about from reading the documentation. It tells the Genius API that we want to do a basic search. We'll add it to the end of the base_url (which is just a string) like so:"
   ]
  },
  {
   "cell_type": "code",
   "execution_count": 19,
   "metadata": {},
   "outputs": [
    {
     "data": {
      "text/plain": [
       "'http://api.genius.com/search'"
      ]
     },
     "execution_count": 19,
     "metadata": {},
     "output_type": "execute_result"
    }
   ],
   "source": [
    "search_url = base_url + \"/search\" \n",
    "search_url"
   ]
  },
  {
   "cell_type": "markdown",
   "metadata": {},
   "source": [
    "Next, we have '?q={search term}'. \n",
    "\n",
    "The \"q\" is Genius's search paramater; it tells Genius that what follows is what we're searching _for_. Let's search for the first song in our candidate playlist: Aretha Franklin's \"Respect.\""
   ]
  },
  {
   "cell_type": "code",
   "execution_count": 20,
   "metadata": {},
   "outputs": [],
   "source": [
    "search_term = \"Respect\" "
   ]
  },
  {
   "cell_type": "markdown",
   "metadata": {},
   "source": [
    "Finally, we have '&access_token={client_access_token}'. You've already defined this term above with your own token!\n",
    "\n",
    "We can put it all back together now:"
   ]
  },
  {
   "cell_type": "code",
   "execution_count": 21,
   "metadata": {},
   "outputs": [],
   "source": [
    "genius_search_url = f'http://api.genius.com/search?q={search_term}&access_token={client_access_token}'"
   ]
  },
  {
   "cell_type": "markdown",
   "metadata": {},
   "source": [
    "But wait? What's that 'f' doing in front of the URL? \n",
    "\n",
    "This yet another way of formatting strings, known as a [formatted string literal or f-string](https://cito.github.io/blog/f-strings/). \n",
    "\n",
    "What it means is that, if you preface a string with an \"f\", any variables placed in curly braces ( `{}` ) will be interpreted inline. So in this case, {search_term} will be replaced by our search_term, and {client_access_token} will be replaced by our client_access_token.\n",
    "\n",
    "Note that you could *also* do: "
   ]
  },
  {
   "cell_type": "code",
   "execution_count": 22,
   "metadata": {},
   "outputs": [],
   "source": [
    "genius_search_url2 = search_url + \"?q=\" + search_term + \"&access_token=\" + client_access_token"
   ]
  },
  {
   "cell_type": "markdown",
   "metadata": {},
   "source": [
    "But in this case the f-string is a bit more legible.\n",
    "\n",
    "So now here we go with the API call!"
   ]
  },
  {
   "cell_type": "code",
   "execution_count": 26,
   "metadata": {},
   "outputs": [
    {
     "data": {
      "text/plain": [
       "{'meta': {'status': 200},\n",
       " 'response': {'hits': [{'highlights': [],\n",
       "    'index': 'song',\n",
       "    'type': 'song',\n",
       "    'result': {'annotation_count': 23,\n",
       "     'api_path': '/songs/4007572',\n",
       "     'full_title': \"Respect My Cryppin' by\\xa0Blueface\",\n",
       "     'header_image_thumbnail_url': 'https://images.genius.com/8abd9b34eae9e1d97e3862287337532f.300x300x1.jpg',\n",
       "     'header_image_url': 'https://images.genius.com/8abd9b34eae9e1d97e3862287337532f.1000x1000x1.jpg',\n",
       "     'id': 4007572,\n",
       "     'lyrics_owner_id': 1532287,\n",
       "     'lyrics_state': 'complete',\n",
       "     'path': '/Blueface-respect-my-cryppin-lyrics',\n",
       "     'pyongs_count': 24,\n",
       "     'song_art_image_thumbnail_url': 'https://images.genius.com/8abd9b34eae9e1d97e3862287337532f.300x300x1.jpg',\n",
       "     'song_art_image_url': 'https://images.genius.com/8abd9b34eae9e1d97e3862287337532f.1000x1000x1.jpg',\n",
       "     'stats': {'unreviewed_annotations': 13,\n",
       "      'concurrents': 2,\n",
       "      'hot': False,\n",
       "      'pageviews': 578895},\n",
       "     'title': 'Respect My Cryppin’',\n",
       "     'title_with_featured': \"Respect My Cryppin'\",\n",
       "     'url': 'https://genius.com/Blueface-respect-my-cryppin-lyrics',\n",
       "     'primary_artist': {'api_path': '/artists/1195330',\n",
       "      'header_image_url': 'https://images.genius.com/079cac5f37a18a24a2a34d1707b0edd8.801x1000x1.jpg',\n",
       "      'id': 1195330,\n",
       "      'image_url': 'https://images.genius.com/265da60a7224ca77b070634b6ed14306.1000x1000x1.jpg',\n",
       "      'is_meme_verified': False,\n",
       "      'is_verified': True,\n",
       "      'name': 'Blueface',\n",
       "      'url': 'https://genius.com/artists/Blueface',\n",
       "      'iq': 3655}}},\n",
       "   {'highlights': [],\n",
       "    'index': 'song',\n",
       "    'type': 'song',\n",
       "    'result': {'annotation_count': 34,\n",
       "     'api_path': '/songs/3042955',\n",
       "     'full_title': 'N. J Respect R by\\xa0Damso',\n",
       "     'header_image_thumbnail_url': 'https://images.genius.com/14ca128d4ebb8fba259428db966b198e.300x169x1.jpg',\n",
       "     'header_image_url': 'https://images.genius.com/14ca128d4ebb8fba259428db966b198e.1000x563x1.jpg',\n",
       "     'id': 3042955,\n",
       "     'lyrics_owner_id': 4012897,\n",
       "     'lyrics_state': 'complete',\n",
       "     'path': '/Damso-n-j-respect-r-lyrics',\n",
       "     'pyongs_count': 27,\n",
       "     'song_art_image_thumbnail_url': 'https://images.genius.com/1a572edbf6da198c99dacd7c19282804.300x300x1.jpg',\n",
       "     'song_art_image_url': 'https://images.genius.com/1a572edbf6da198c99dacd7c19282804.1000x1000x1.jpg',\n",
       "     'stats': {'unreviewed_annotations': 0, 'hot': False, 'pageviews': 552710},\n",
       "     'title': 'N. J Respect R',\n",
       "     'title_with_featured': 'N. J Respect R',\n",
       "     'url': 'https://genius.com/Damso-n-j-respect-r-lyrics',\n",
       "     'primary_artist': {'api_path': '/artists/45855',\n",
       "      'header_image_url': 'https://images.genius.com/b2581d587cc672b6cbb4930135795e2a.667x1000x1.jpg',\n",
       "      'id': 45855,\n",
       "      'image_url': 'https://images.genius.com/57aa49f445bb856c82f4a8e6e5bffe55.1000x1000x1.jpg',\n",
       "      'is_meme_verified': False,\n",
       "      'is_verified': True,\n",
       "      'name': 'Damso',\n",
       "      'url': 'https://genius.com/artists/Damso',\n",
       "      'iq': 30793}}},\n",
       "   {'highlights': [],\n",
       "    'index': 'song',\n",
       "    'type': 'song',\n",
       "    'result': {'annotation_count': 10,\n",
       "     'api_path': '/songs/2353',\n",
       "     'full_title': 'Respect by\\xa0Aretha\\xa0Franklin',\n",
       "     'header_image_thumbnail_url': 'https://images.genius.com/4aa109dc682d5938e9cd160b3c19cf48.300x300x1.jpg',\n",
       "     'header_image_url': 'https://images.genius.com/4aa109dc682d5938e9cd160b3c19cf48.1000x1000x1.jpg',\n",
       "     'id': 2353,\n",
       "     'lyrics_owner_id': 7,\n",
       "     'lyrics_state': 'complete',\n",
       "     'path': '/Aretha-franklin-respect-lyrics',\n",
       "     'pyongs_count': 19,\n",
       "     'song_art_image_thumbnail_url': 'https://images.genius.com/ce98cca792d9ba567d2b5d4ffecbd013.300x300x1.jpg',\n",
       "     'song_art_image_url': 'https://images.genius.com/ce98cca792d9ba567d2b5d4ffecbd013.400x400x1.jpg',\n",
       "     'stats': {'unreviewed_annotations': 2, 'hot': False, 'pageviews': 401729},\n",
       "     'title': 'Respect',\n",
       "     'title_with_featured': 'Respect',\n",
       "     'url': 'https://genius.com/Aretha-franklin-respect-lyrics',\n",
       "     'primary_artist': {'api_path': '/artists/1108',\n",
       "      'header_image_url': 'https://images.genius.com/93b32f6e4353e7ea3b2f6b4c93f06579.1000x226x1.jpg',\n",
       "      'id': 1108,\n",
       "      'image_url': 'https://images.genius.com/67byn02d5gwo513bs0b25pogx.474x559x1.jpg',\n",
       "      'is_meme_verified': False,\n",
       "      'is_verified': False,\n",
       "      'name': 'Aretha Franklin',\n",
       "      'url': 'https://genius.com/artists/Aretha-franklin'}}},\n",
       "   {'highlights': [],\n",
       "    'index': 'song',\n",
       "    'type': 'song',\n",
       "    'result': {'annotation_count': 4,\n",
       "     'api_path': '/songs/4125749',\n",
       "     'full_title': 'Respect the Game by\\xa0Meek\\xa0Mill',\n",
       "     'header_image_thumbnail_url': 'https://images.genius.com/1246cb60d912dacabde8979152512c95.300x300x1.png',\n",
       "     'header_image_url': 'https://images.genius.com/1246cb60d912dacabde8979152512c95.1000x1000x1.png',\n",
       "     'id': 4125749,\n",
       "     'lyrics_owner_id': 498964,\n",
       "     'lyrics_state': 'complete',\n",
       "     'path': '/Meek-mill-respect-the-game-lyrics',\n",
       "     'pyongs_count': 12,\n",
       "     'song_art_image_thumbnail_url': 'https://images.genius.com/1246cb60d912dacabde8979152512c95.300x300x1.png',\n",
       "     'song_art_image_url': 'https://images.genius.com/1246cb60d912dacabde8979152512c95.1000x1000x1.png',\n",
       "     'stats': {'unreviewed_annotations': 2, 'hot': False, 'pageviews': 284633},\n",
       "     'title': 'Respect the Game',\n",
       "     'title_with_featured': 'Respect the Game',\n",
       "     'url': 'https://genius.com/Meek-mill-respect-the-game-lyrics',\n",
       "     'primary_artist': {'api_path': '/artists/1319',\n",
       "      'header_image_url': 'https://images.genius.com/970b10079e25b736971f7810c98ab751.1000x210x1.png',\n",
       "      'id': 1319,\n",
       "      'image_url': 'https://images.genius.com/a76fe899c81d80eff572ae952b671146.800x800x1.jpg',\n",
       "      'is_meme_verified': True,\n",
       "      'is_verified': True,\n",
       "      'name': 'Meek Mill',\n",
       "      'url': 'https://genius.com/artists/Meek-mill',\n",
       "      'iq': 4558}}},\n",
       "   {'highlights': [],\n",
       "    'index': 'song',\n",
       "    'type': 'song',\n",
       "    'result': {'annotation_count': 16,\n",
       "     'api_path': '/songs/1174',\n",
       "     'full_title': 'Respect by\\xa0The\\xa0Notorious B.I.G. (Ft.\\xa0Diana\\xa0King)',\n",
       "     'header_image_thumbnail_url': 'https://images.genius.com/e6cce6ad5c26175653cd5e5590b6e235.300x300x1.jpg',\n",
       "     'header_image_url': 'https://images.genius.com/e6cce6ad5c26175653cd5e5590b6e235.1000x1000x1.jpg',\n",
       "     'id': 1174,\n",
       "     'lyrics_owner_id': 175,\n",
       "     'lyrics_state': 'complete',\n",
       "     'path': '/The-notorious-big-respect-lyrics',\n",
       "     'pyongs_count': 26,\n",
       "     'song_art_image_thumbnail_url': 'https://images.genius.com/e6cce6ad5c26175653cd5e5590b6e235.300x300x1.jpg',\n",
       "     'song_art_image_url': 'https://images.genius.com/e6cce6ad5c26175653cd5e5590b6e235.1000x1000x1.jpg',\n",
       "     'stats': {'unreviewed_annotations': 6, 'hot': False, 'pageviews': 247316},\n",
       "     'title': 'Respect',\n",
       "     'title_with_featured': 'Respect (Ft.\\xa0Diana\\xa0King)',\n",
       "     'url': 'https://genius.com/The-notorious-big-respect-lyrics',\n",
       "     'primary_artist': {'api_path': '/artists/22',\n",
       "      'header_image_url': 'https://images.genius.com/1b66a66f14427bb384ff3c8ccecc05f7.1000x333x1.jpg',\n",
       "      'id': 22,\n",
       "      'image_url': 'https://images.genius.com/664976b54a605d6ac0df2415a8ccac16.564x564x1.jpg',\n",
       "      'is_meme_verified': False,\n",
       "      'is_verified': False,\n",
       "      'name': 'The Notorious B.I.G.',\n",
       "      'url': 'https://genius.com/artists/The-notorious-big'}}},\n",
       "   {'highlights': [],\n",
       "    'index': 'song',\n",
       "    'type': 'song',\n",
       "    'result': {'annotation_count': 10,\n",
       "     'api_path': '/songs/5268080',\n",
       "     'full_title': 'BTS - Respect (English Translation) by\\xa0Genius\\xa0English Translations',\n",
       "     'header_image_thumbnail_url': 'https://images.genius.com/41ae07b40e80b9ff97955bc41cbabfb2.300x300x1.jpg',\n",
       "     'header_image_url': 'https://images.genius.com/41ae07b40e80b9ff97955bc41cbabfb2.1000x1000x1.jpg',\n",
       "     'id': 5268080,\n",
       "     'lyrics_owner_id': 4650044,\n",
       "     'lyrics_state': 'complete',\n",
       "     'path': '/Genius-english-translations-bts-respect-english-translation-lyrics',\n",
       "     'pyongs_count': 5,\n",
       "     'song_art_image_thumbnail_url': 'https://images.genius.com/41ae07b40e80b9ff97955bc41cbabfb2.300x300x1.jpg',\n",
       "     'song_art_image_url': 'https://images.genius.com/41ae07b40e80b9ff97955bc41cbabfb2.1000x1000x1.jpg',\n",
       "     'stats': {'unreviewed_annotations': 1, 'hot': False, 'pageviews': 211082},\n",
       "     'title': 'BTS - Respect (English Translation)',\n",
       "     'title_with_featured': 'BTS - Respect (English Translation)',\n",
       "     'url': 'https://genius.com/Genius-english-translations-bts-respect-english-translation-lyrics',\n",
       "     'primary_artist': {'api_path': '/artists/196943',\n",
       "      'header_image_url': 'https://images.genius.com/38f8fc30844014c124b4e4a28a39ec40.39x35x1.png',\n",
       "      'id': 196943,\n",
       "      'image_url': 'https://images.genius.com/03131b2068adac6028ecefed2c657d97.222x222x1.png',\n",
       "      'is_meme_verified': False,\n",
       "      'is_verified': False,\n",
       "      'name': 'Genius English Translations',\n",
       "      'url': 'https://genius.com/artists/Genius-english-translations'}}},\n",
       "   {'highlights': [],\n",
       "    'index': 'song',\n",
       "    'type': 'song',\n",
       "    'result': {'annotation_count': 7,\n",
       "     'api_path': '/songs/3112299',\n",
       "     'full_title': 'No Respect Freestyle by\\xa0Lil\\xa0Peep',\n",
       "     'header_image_thumbnail_url': 'https://images.genius.com/ec8757505cb0a3b759d1217787963f36.300x169x1.jpg',\n",
       "     'header_image_url': 'https://images.genius.com/ec8757505cb0a3b759d1217787963f36.1000x563x1.jpg',\n",
       "     'id': 3112299,\n",
       "     'lyrics_owner_id': 4710895,\n",
       "     'lyrics_state': 'complete',\n",
       "     'path': '/Lil-peep-no-respect-freestyle-lyrics',\n",
       "     'pyongs_count': 35,\n",
       "     'song_art_image_thumbnail_url': 'https://images.genius.com/cb3f2d0314e496644449a8fbada01c0e.300x300x1.jpg',\n",
       "     'song_art_image_url': 'https://images.genius.com/cb3f2d0314e496644449a8fbada01c0e.500x500x1.jpg',\n",
       "     'stats': {'unreviewed_annotations': 2, 'hot': False, 'pageviews': 193907},\n",
       "     'title': 'No Respect Freestyle',\n",
       "     'title_with_featured': 'No Respect Freestyle',\n",
       "     'url': 'https://genius.com/Lil-peep-no-respect-freestyle-lyrics',\n",
       "     'primary_artist': {'api_path': '/artists/569922',\n",
       "      'header_image_url': 'https://images.genius.com/a96e46116bde9fb32a9bd302615f1cde.1000x563x1.jpg',\n",
       "      'id': 569922,\n",
       "      'image_url': 'https://images.genius.com/919c7ba130d3861740cbe7fbd7f83c59.1000x1000x1.jpg',\n",
       "      'is_meme_verified': False,\n",
       "      'is_verified': True,\n",
       "      'name': 'Lil Peep',\n",
       "      'url': 'https://genius.com/artists/Lil-peep',\n",
       "      'iq': 2243}}},\n",
       "   {'highlights': [],\n",
       "    'index': 'song',\n",
       "    'type': 'song',\n",
       "    'result': {'annotation_count': 44,\n",
       "     'api_path': '/songs/551346',\n",
       "     'full_title': 'All Due Respect by\\xa0Run\\xa0The Jewels (Ft.\\xa0Travis\\xa0Barker)',\n",
       "     'header_image_thumbnail_url': 'https://images.genius.com/94c83514d5589ff98ec3194ba5a694d1.300x300x1.jpg',\n",
       "     'header_image_url': 'https://images.genius.com/94c83514d5589ff98ec3194ba5a694d1.1000x1000x1.jpg',\n",
       "     'id': 551346,\n",
       "     'lyrics_owner_id': 292760,\n",
       "     'lyrics_state': 'complete',\n",
       "     'path': '/Run-the-jewels-all-due-respect-lyrics',\n",
       "     'pyongs_count': 11,\n",
       "     'song_art_image_thumbnail_url': 'https://images.genius.com/94c83514d5589ff98ec3194ba5a694d1.300x300x1.jpg',\n",
       "     'song_art_image_url': 'https://images.genius.com/94c83514d5589ff98ec3194ba5a694d1.1000x1000x1.jpg',\n",
       "     'stats': {'unreviewed_annotations': 2, 'hot': False, 'pageviews': 85861},\n",
       "     'title': 'All Due Respect',\n",
       "     'title_with_featured': 'All Due Respect (Ft.\\xa0Travis\\xa0Barker)',\n",
       "     'url': 'https://genius.com/Run-the-jewels-all-due-respect-lyrics',\n",
       "     'primary_artist': {'api_path': '/artists/48147',\n",
       "      'header_image_url': 'https://images.genius.com/500ec6a92b72c8679fa632ef10bcaf30.610x250x1.jpg',\n",
       "      'id': 48147,\n",
       "      'image_url': 'https://images.genius.com/b8813cdda31f4ffae924413bc037239e.1000x1000x1.jpg',\n",
       "      'is_meme_verified': False,\n",
       "      'is_verified': True,\n",
       "      'name': 'Run The Jewels',\n",
       "      'url': 'https://genius.com/artists/Run-the-jewels',\n",
       "      'iq': 100}}},\n",
       "   {'highlights': [],\n",
       "    'index': 'song',\n",
       "    'type': 'song',\n",
       "    'result': {'annotation_count': 9,\n",
       "     'api_path': '/songs/991',\n",
       "     'full_title': \"Money, Power & Respect by\\xa0The\\xa0LOX (Ft.\\xa0DMX & Lil'\\xa0Kim)\",\n",
       "     'header_image_thumbnail_url': 'https://images.genius.com/4aa47931d9f3da607c85b9cf6e6fd71a.300x298x1.jpg',\n",
       "     'header_image_url': 'https://images.genius.com/4aa47931d9f3da607c85b9cf6e6fd71a.1000x992x1.jpg',\n",
       "     'id': 991,\n",
       "     'lyrics_owner_id': 484,\n",
       "     'lyrics_state': 'complete',\n",
       "     'path': '/The-lox-money-power-and-respect-lyrics',\n",
       "     'pyongs_count': 8,\n",
       "     'song_art_image_thumbnail_url': 'https://images.genius.com/d6af7bb13f698c7aceff0457a27ded89.300x292x1.jpg',\n",
       "     'song_art_image_url': 'https://images.genius.com/d6af7bb13f698c7aceff0457a27ded89.500x487x1.jpg',\n",
       "     'stats': {'unreviewed_annotations': 2, 'hot': False, 'pageviews': 61044},\n",
       "     'title': 'Money, Power & Respect',\n",
       "     'title_with_featured': \"Money, Power & Respect (Ft.\\xa0DMX & Lil'\\xa0Kim)\",\n",
       "     'url': 'https://genius.com/The-lox-money-power-and-respect-lyrics',\n",
       "     'primary_artist': {'api_path': '/artists/233',\n",
       "      'header_image_url': 'https://images.genius.com/fabb7e5e1d4af079779b25b498387d8d.599x253x1.jpg',\n",
       "      'id': 233,\n",
       "      'image_url': 'https://images.genius.com/61c8e0f30bb5f000e4ea69a44248474b.640x640x1.jpg',\n",
       "      'is_meme_verified': False,\n",
       "      'is_verified': True,\n",
       "      'name': 'The LOX',\n",
       "      'url': 'https://genius.com/artists/The-lox',\n",
       "      'iq': 100}}},\n",
       "   {'highlights': [],\n",
       "    'index': 'song',\n",
       "    'type': 'song',\n",
       "    'result': {'annotation_count': 2,\n",
       "     'api_path': '/songs/2490173',\n",
       "     'full_title': 'Money, Power, Respect by\\xa0Travis\\xa0Scott',\n",
       "     'header_image_thumbnail_url': 'https://images.genius.com/5d19fecdb3828ca9ec89dda588e2eb7d.300x300x1.jpg',\n",
       "     'header_image_url': 'https://images.genius.com/5d19fecdb3828ca9ec89dda588e2eb7d.1000x1000x1.jpg',\n",
       "     'id': 2490173,\n",
       "     'lyrics_owner_id': 1077840,\n",
       "     'lyrics_state': 'complete',\n",
       "     'path': '/Travis-scott-money-power-respect-lyrics',\n",
       "     'pyongs_count': 46,\n",
       "     'song_art_image_thumbnail_url': 'https://images.genius.com/5d19fecdb3828ca9ec89dda588e2eb7d.300x300x1.jpg',\n",
       "     'song_art_image_url': 'https://images.genius.com/5d19fecdb3828ca9ec89dda588e2eb7d.1000x1000x1.jpg',\n",
       "     'stats': {'unreviewed_annotations': 0, 'hot': False, 'pageviews': 66626},\n",
       "     'title': 'Money, Power, Respect',\n",
       "     'title_with_featured': 'Money, Power, Respect',\n",
       "     'url': 'https://genius.com/Travis-scott-money-power-respect-lyrics',\n",
       "     'primary_artist': {'api_path': '/artists/20185',\n",
       "      'header_image_url': 'https://images.genius.com/77659552bac452cb5dee1ac1d68c62a9.480x288x24.gif',\n",
       "      'id': 20185,\n",
       "      'image_url': 'https://images.genius.com/5d19fecdb3828ca9ec89dda588e2eb7d.1000x1000x1.jpg',\n",
       "      'is_meme_verified': True,\n",
       "      'is_verified': True,\n",
       "      'name': 'Travis Scott',\n",
       "      'url': 'https://genius.com/artists/Travis-scott',\n",
       "      'iq': 4625}}}]}}"
      ]
     },
     "execution_count": 26,
     "metadata": {},
     "output_type": "execute_result"
    }
   ],
   "source": [
    "# and here's the API call\n",
    "resp = requests.get(genius_search_url)\n",
    "data = resp.json()\n",
    "\n",
    "data"
   ]
  },
  {
   "cell_type": "markdown",
   "metadata": {},
   "source": [
    "This request is finding all songs that include the search string `Respect`. \n",
    "\n",
    "As described in the [documentation](https://docs.genius.com/#/response-format-h1), the results take the form of a dictionary with two keys: `response` (which points to a dictionary of a list of dictionaries; phew!) and `meta`, whose value is a string (`'status'`), which gives you the HTML status code for the response (i.e. whether the request was successful). "
   ]
  },
  {
   "cell_type": "markdown",
   "metadata": {},
   "source": [
    "Because the response is a dictionary, we can isolate the two top-level keys to get an overall view of the response:"
   ]
  },
  {
   "cell_type": "code",
   "execution_count": 27,
   "metadata": {},
   "outputs": [
    {
     "data": {
      "text/plain": [
       "dict_keys(['meta', 'response'])"
      ]
     },
     "execution_count": 27,
     "metadata": {},
     "output_type": "execute_result"
    }
   ],
   "source": [
    "data.keys()"
   ]
  },
  {
   "cell_type": "markdown",
   "metadata": {},
   "source": [
    "So we know that the response was successful. \n",
    "\n",
    "But let's dig a little deeper into the `response` key. It itself is a dictionary, so we can look at _its_ keys."
   ]
  },
  {
   "cell_type": "code",
   "execution_count": 28,
   "metadata": {},
   "outputs": [
    {
     "data": {
      "text/plain": [
       "dict_keys(['hits'])"
      ]
     },
     "execution_count": 28,
     "metadata": {},
     "output_type": "execute_result"
    }
   ],
   "source": [
    "data['response'].keys()"
   ]
  },
  {
   "cell_type": "markdown",
   "metadata": {},
   "source": [
    "So there is only one key, `hits`, which I will tell you contains a _further_ list of dictionaries: one for each of the hits in the search result.\n",
    "\n",
    "Let's take a look at the first result:"
   ]
  },
  {
   "cell_type": "code",
   "execution_count": 29,
   "metadata": {},
   "outputs": [
    {
     "data": {
      "text/plain": [
       "{'highlights': [],\n",
       " 'index': 'song',\n",
       " 'type': 'song',\n",
       " 'result': {'annotation_count': 23,\n",
       "  'api_path': '/songs/4007572',\n",
       "  'full_title': \"Respect My Cryppin' by\\xa0Blueface\",\n",
       "  'header_image_thumbnail_url': 'https://images.genius.com/8abd9b34eae9e1d97e3862287337532f.300x300x1.jpg',\n",
       "  'header_image_url': 'https://images.genius.com/8abd9b34eae9e1d97e3862287337532f.1000x1000x1.jpg',\n",
       "  'id': 4007572,\n",
       "  'lyrics_owner_id': 1532287,\n",
       "  'lyrics_state': 'complete',\n",
       "  'path': '/Blueface-respect-my-cryppin-lyrics',\n",
       "  'pyongs_count': 24,\n",
       "  'song_art_image_thumbnail_url': 'https://images.genius.com/8abd9b34eae9e1d97e3862287337532f.300x300x1.jpg',\n",
       "  'song_art_image_url': 'https://images.genius.com/8abd9b34eae9e1d97e3862287337532f.1000x1000x1.jpg',\n",
       "  'stats': {'unreviewed_annotations': 13,\n",
       "   'concurrents': 2,\n",
       "   'hot': False,\n",
       "   'pageviews': 578895},\n",
       "  'title': 'Respect My Cryppin’',\n",
       "  'title_with_featured': \"Respect My Cryppin'\",\n",
       "  'url': 'https://genius.com/Blueface-respect-my-cryppin-lyrics',\n",
       "  'primary_artist': {'api_path': '/artists/1195330',\n",
       "   'header_image_url': 'https://images.genius.com/079cac5f37a18a24a2a34d1707b0edd8.801x1000x1.jpg',\n",
       "   'id': 1195330,\n",
       "   'image_url': 'https://images.genius.com/265da60a7224ca77b070634b6ed14306.1000x1000x1.jpg',\n",
       "   'is_meme_verified': False,\n",
       "   'is_verified': True,\n",
       "   'name': 'Blueface',\n",
       "   'url': 'https://genius.com/artists/Blueface',\n",
       "   'iq': 3655}}}"
      ]
     },
     "execution_count": 29,
     "metadata": {},
     "output_type": "execute_result"
    }
   ],
   "source": [
    "data['response']['hits'][0]"
   ]
  },
  {
   "cell_type": "markdown",
   "metadata": {},
   "source": [
    "So this is what we want: the dictionary for each of the search results.\n",
    "\n",
    "But lo and behold, it contains additional levels of data, and they each appear to be dictionaries! \n",
    "\n",
    "Three of the four-- `highlights`, `index`, and `type`-- each only have one item.\n",
    "\n",
    "But the `result` dictionary is where the good stuff is. \n",
    "\n",
    "Important items in this dictionary are the song title itself (`title`), the URL for the song lyrics (`url`), and the `primary artist` key, which points to *another* dictionary with the name of the artist (`name`). \n",
    "\n",
    "The artist name could be used with a different API endpoint to get more detail about a particular artist. But this information is enough for our purposes today."
   ]
  },
  {
   "cell_type": "markdown",
   "metadata": {},
   "source": [
    "To get a more compact view of the results of our initial query, for song titles with \"Respect\" in them, let's see if we can print out the full song title for each search hit:"
   ]
  },
  {
   "cell_type": "code",
   "execution_count": 31,
   "metadata": {},
   "outputs": [
    {
     "data": {
      "text/plain": [
       "['Respect My Cryppin’',\n",
       " 'N. J Respect R',\n",
       " 'Respect',\n",
       " 'Respect the Game',\n",
       " 'Respect',\n",
       " 'BTS - Respect (English Translation)',\n",
       " 'No Respect Freestyle',\n",
       " 'All Due Respect',\n",
       " 'Money, Power & Respect',\n",
       " 'Money, Power, Respect']"
      ]
     },
     "execution_count": 31,
     "metadata": {},
     "output_type": "execute_result"
    }
   ],
   "source": [
    "# Remember list comprehension format: [ predicate expression FOR temporary variable name IN source list ]\n",
    "\n",
    "titles = [song['result']['title'] for song in data['response']['hits']]\n",
    "\n",
    "titles\n",
    "\n",
    "# This means, for each song in data['response']['hits'], add its ['result']['title'] to a new list called \"titles\"\n"
   ]
  },
  {
   "cell_type": "markdown",
   "metadata": {},
   "source": [
    "**Question:** What key would we change to list the URLs for the lyrics of each of these songs?"
   ]
  },
  {
   "cell_type": "code",
   "execution_count": 34,
   "metadata": {},
   "outputs": [
    {
     "data": {
      "text/plain": [
       "['https://genius.com/Blueface-respect-my-cryppin-lyrics',\n",
       " 'https://genius.com/Damso-n-j-respect-r-lyrics',\n",
       " 'https://genius.com/Aretha-franklin-respect-lyrics',\n",
       " 'https://genius.com/Meek-mill-respect-the-game-lyrics',\n",
       " 'https://genius.com/The-notorious-big-respect-lyrics',\n",
       " 'https://genius.com/Genius-english-translations-bts-respect-english-translation-lyrics',\n",
       " 'https://genius.com/Lil-peep-no-respect-freestyle-lyrics',\n",
       " 'https://genius.com/Run-the-jewels-all-due-respect-lyrics',\n",
       " 'https://genius.com/The-lox-money-power-and-respect-lyrics',\n",
       " 'https://genius.com/Travis-scott-money-power-respect-lyrics']"
      ]
     },
     "execution_count": 34,
     "metadata": {},
     "output_type": "execute_result"
    }
   ],
   "source": [
    "urls = [song['result']['url'] for song in data['response']['hits']]\n",
    "\n",
    "urls"
   ]
  },
  {
   "cell_type": "markdown",
   "metadata": {},
   "source": [
    "**Exercise:** Adapting the syntax above, list the name of the artist for each of these songs.\n",
    "    \n",
    "**Hint:** Remember that the artist `name` is contained within the dictionary `primary artist`"
   ]
  },
  {
   "cell_type": "code",
   "execution_count": 15,
   "metadata": {},
   "outputs": [
    {
     "data": {
      "text/plain": [
       "['Blueface',\n",
       " 'Damso',\n",
       " 'Meek Mill',\n",
       " 'Aretha Franklin',\n",
       " 'The Notorious B.I.G.',\n",
       " 'Lil Peep',\n",
       " 'Genius English Translations',\n",
       " 'Run The Jewels',\n",
       " 'Travis Scott',\n",
       " 'Wiz Khalifa']"
      ]
     },
     "execution_count": 15,
     "metadata": {},
     "output_type": "execute_result"
    }
   ],
   "source": [
    "[song['result']['primary_artist']['name'] for song in data['response']['hits']]"
   ]
  },
  {
   "cell_type": "markdown",
   "metadata": {},
   "source": [
    "### Working with responses\n",
    "\n",
    "Now we have a response from the API, and we've parsed it into a Python data structure that we know how to use (a dictionary). But now what do we do with it?\n",
    "\n",
    "Let's find the URL for the lyrics for Aretha Franklin's \"Respect\"\n",
    "\n",
    "Remember that we've already got `search_term` stored from way back up at the top: it's what we searched for in our initial query:"
   ]
  },
  {
   "cell_type": "code",
   "execution_count": 35,
   "metadata": {},
   "outputs": [
    {
     "data": {
      "text/plain": [
       "'Respect'"
      ]
     },
     "execution_count": 35,
     "metadata": {},
     "output_type": "execute_result"
    }
   ],
   "source": [
    "search_term"
   ]
  },
  {
   "cell_type": "code",
   "execution_count": 36,
   "metadata": {},
   "outputs": [],
   "source": [
    "artist=\"Aretha Franklin\" # you should already be thinking: how can I hook this up with the NYT article data...\n",
    "lyrics_url = []"
   ]
  },
  {
   "cell_type": "code",
   "execution_count": 37,
   "metadata": {},
   "outputs": [
    {
     "name": "stdout",
     "output_type": "stream",
     "text": [
      "https://genius.com/Aretha-franklin-respect-lyrics\n"
     ]
    }
   ],
   "source": [
    "for song in data['response']['hits']:\n",
    "    if song['result']['primary_artist']['name'] == artist:\n",
    "        lyrics_url = (song['result']['url'])\n",
    "print(lyrics_url)"
   ]
  },
  {
   "cell_type": "markdown",
   "metadata": {},
   "source": [
    "We've got our URL!"
   ]
  }
 ],
 "metadata": {
  "kernelspec": {
   "display_name": "Python 3",
   "language": "python",
   "name": "python3"
  },
  "language_info": {
   "codemirror_mode": {
    "name": "ipython",
    "version": 3
   },
   "file_extension": ".py",
   "mimetype": "text/x-python",
   "name": "python",
   "nbconvert_exporter": "python",
   "pygments_lexer": "ipython3",
   "version": "3.7.2"
  }
 },
 "nbformat": 4,
 "nbformat_minor": 1
}
