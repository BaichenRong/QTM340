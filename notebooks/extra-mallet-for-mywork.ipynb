{
 "cells": [
  {
   "cell_type": "markdown",
   "metadata": {},
   "source": [
    "# Topic Modeling with MALLET"
   ]
  },
  {
   "cell_type": "markdown",
   "metadata": {},
   "source": [
    "For our topic modeling analysis, we're going to use a tool called [MALLET](http://mallet.cs.umass.edu/topics.php). MALLET, short for **MA**chine **L**earning for **L**anguag**E** **T**oolkit, is a software package for  topic modeling and other natural language processing techniques."
   ]
  },
  {
   "cell_type": "markdown",
   "metadata": {},
   "source": [
    "MALLET is great, but it's written in Java, another programming language. It also means that MALLET isn't typically ideal for Python and Jupyter notebooks.\n",
    "\n",
    "Luckily, Maria Antoniak, whom we (virtually) met, has written a convenient Python package that will allow us to use MALLET in this Jupyter notebook. This package is called [Little MALLET Wrapper](https://github.com/maria-antoniak/little-mallet-wrapper).\n",
    "\n",
    "Note: A \"wrapper\" is a Python package that makes complicated code easier to use and/or makes code from a different programming language accessible in Python."
   ]
  },
  {
   "cell_type": "markdown",
   "metadata": {},
   "source": [
    "## *New York Times* Obituaries\n",
    "\n",
    "In this lesson, we're going to use [Little MALLET Wrapper](https://github.com/maria-antoniak/little-mallet-wrapper) to topic model 378 obituaries published by *The New York Times*. This dataset is based on data originally collected by Matt Lavin for his *Programming Historian* [TF-IDF tutorial](https://programminghistorian.org/en/lessons/analyzing-documents-with-tfidf#lesson-dataset). Melanie Walsh re-scraped the obituaries so that the subject's name and death year are included in each text file name; she also added 12 more [\"Overlooked\"](https://www.nytimes.com/interactive/2018/obituaries/overlooked.html) obituaries."
   ]
  },
  {
   "cell_type": "markdown",
   "metadata": {},
   "source": [
    "## Download MALLET\n",
    "\n",
    "*Note: If you're working in this Jupyter notebook on your own computer, you'll need to install both the Java Development Kit and MALLET. For set up instructions, please see [this lesson](http://melaniewalsh.github.io/Intro-Cultural-Analytics/Text-Analysis/Topic-Modeling-Set-Up.html).*\n",
    "\n",
    "If you're working on JupyterHub, then the Java Development Kit is already installed. You will still, however, need to install mallet. To do so follow these instructions:\n",
    "\n",
    "1. Go to the [home page](http://ec2-35-153-110-194.compute-1.amazonaws.com/) of your JupyterHub\n",
    "2. At the top right, click the box that says \"New\" and then select \"Terminal.\"\n",
    "3. In the terminal, type `wget http://mallet.cs.umass.edu/dist/mallet-2.0.8.tar.gz` and press return.\n",
    "4. In the terimal, type `tar -xf mallet-2.0.8.tar.gz`\n",
    "5. Mallet should be installed! If you type `ls` it should show you the contents of your JupyterHub, including the new mallet folder which you've just created.\n",
    "\n",
    "\n",
    "## Setup MALLET path \n",
    "Now we need to tell the little-mallet-wrapper where the bigger, Java-based MALLET lives.\n",
    "\n",
    "We're going to make a variable called `path_to_mallet` and assign it the file path of our MALLET program. We need to point it, specifically, to the \"mallet\" file inside the \"bin\" folder inside the \"mallet-2.0.8\" folder."
   ]
  },
  {
   "cell_type": "code",
   "execution_count": 16,
   "metadata": {},
   "outputs": [],
   "source": [
    "path_to_mallet = '../mallet-2.0.8/bin/mallet'"
   ]
  },
  {
   "cell_type": "markdown",
   "metadata": {},
   "source": [
    "If MALLET is located in another directory, then set your `path_to_mallet` to that file path."
   ]
  },
  {
   "cell_type": "markdown",
   "metadata": {},
   "source": [
    "## Install Packages"
   ]
  },
  {
   "cell_type": "code",
   "execution_count": null,
   "metadata": {},
   "outputs": [],
   "source": [
    "# these are pre-installed in JupyterHub\n",
    "#!pip install little_mallet_wrapper\n",
    "#!pip install seaborn"
   ]
  },
  {
   "cell_type": "markdown",
   "metadata": {},
   "source": [
    "## Import Packages"
   ]
  },
  {
   "cell_type": "markdown",
   "metadata": {},
   "source": [
    "Now let's `import` the `little_mallet_wrapper` and the data viz library `seaborn`."
   ]
  },
  {
   "cell_type": "code",
   "execution_count": 2,
   "metadata": {},
   "outputs": [],
   "source": [
    "import little_mallet_wrapper\n",
    "import seaborn\n",
    "import glob\n",
    "from pathlib import Path"
   ]
  },
  {
   "cell_type": "markdown",
   "metadata": {},
   "source": [
    "We're also going to import [`glob`](https://docs.python.org/3/library/glob.html) and [`pathlib`](https://docs.python.org/3/library/pathlib.html#basic-use) for working with files and the file system."
   ]
  },
  {
   "cell_type": "markdown",
   "metadata": {},
   "source": [
    "## Get Training Data "
   ]
  },
  {
   "cell_type": "markdown",
   "metadata": {},
   "source": [
    "Before we topic model the *NYT* obituaries, we need to pre-process the text files to prepare them for analysis. \n",
    "\n",
    "```{note}\n",
    "We're calling these text files our *training data*, because we're *training* our topic model with these texts. The topic model will be learning and extracting topics based on these texts.\n",
    "```"
   ]
  },
  {
   "cell_type": "markdown",
   "metadata": {},
   "source": [
    "To get the necessary text files, we're going to make a variable and assign it the file path for the directory that contains the text files. \n",
    "\n",
    "_If the below line doesn't work, you might need to [download](https://canvas.emory.edu/courses/76593/files/4268875?module_item_id=1056761) the files from Canvas and direct to the path where it lives_"
   ]
  },
  {
   "cell_type": "code",
   "execution_count": 3,
   "metadata": {},
   "outputs": [],
   "source": [
    "directory = \"../QTM340-Fall21/corpora/NYT-Obituaries/\""
   ]
  },
  {
   "cell_type": "markdown",
   "metadata": {},
   "source": [
    "Then we're going to use the `glob.gob()` function to make a list of all (`*`) the `.txt` files in that directory."
   ]
  },
  {
   "cell_type": "code",
   "execution_count": 4,
   "metadata": {},
   "outputs": [],
   "source": [
    "files = glob.glob(f\"{directory}/*.txt\")"
   ]
  },
  {
   "cell_type": "code",
   "execution_count": 5,
   "metadata": {},
   "outputs": [
    {
     "data": {
      "text/plain": [
       "['../QTM340-Fall21/corpora/NYT-Obituaries/1994-Jacqueline-Kennedy.txt',\n",
       " '../QTM340-Fall21/corpora/NYT-Obituaries/1955-Walter-White.txt',\n",
       " '../QTM340-Fall21/corpora/NYT-Obituaries/1907-Qiu-Jin.txt',\n",
       " '../QTM340-Fall21/corpora/NYT-Obituaries/1994-Linus-C-Pauling.txt',\n",
       " '../QTM340-Fall21/corpora/NYT-Obituaries/1919-Carnegie-Started.txt',\n",
       " '../QTM340-Fall21/corpora/NYT-Obituaries/1926-Harry-Houdini.txt',\n",
       " '../QTM340-Fall21/corpora/NYT-Obituaries/1959-Ross-G-Harrison.txt',\n",
       " '../QTM340-Fall21/corpora/NYT-Obituaries/1954-Enrico-Fermi.txt',\n",
       " '../QTM340-Fall21/corpora/NYT-Obituaries/1928-Mabel-Craty.txt',\n",
       " '../QTM340-Fall21/corpora/NYT-Obituaries/1954-Getulio-Vargas.txt',\n",
       " '../QTM340-Fall21/corpora/NYT-Obituaries/1993-Arthur-Ashe.txt',\n",
       " '../QTM340-Fall21/corpora/NYT-Obituaries/1971-Dean-Acheson.txt',\n",
       " '../QTM340-Fall21/corpora/NYT-Obituaries/1980-Jean-Piaget.txt',\n",
       " '../QTM340-Fall21/corpora/NYT-Obituaries/1975-Chiang-Kai-shek.txt',\n",
       " '../QTM340-Fall21/corpora/NYT-Obituaries/1982-Ingrid-Bergman.txt',\n",
       " '../QTM340-Fall21/corpora/NYT-Obituaries/1979-Stan-Kenton.txt',\n",
       " '../QTM340-Fall21/corpora/NYT-Obituaries/1960-Beno-Gutenberg.txt',\n",
       " '../QTM340-Fall21/corpora/NYT-Obituaries/1971-Khrushchev.txt',\n",
       " '../QTM340-Fall21/corpora/NYT-Obituaries/1953-Joseph-Stalin.txt',\n",
       " '../QTM340-Fall21/corpora/NYT-Obituaries/1947-Willa-Cather.txt',\n",
       " '../QTM340-Fall21/corpora/NYT-Obituaries/1982-Thelonious-Monk.txt',\n",
       " '../QTM340-Fall21/corpora/NYT-Obituaries/1901-Queen-Victoria.txt',\n",
       " '../QTM340-Fall21/corpora/NYT-Obituaries/1966-Chester-Nimitz.txt',\n",
       " '../QTM340-Fall21/corpora/NYT-Obituaries/1910-Tolstoy.txt',\n",
       " '../QTM340-Fall21/corpora/NYT-Obituaries/1973-Eddie-Rickenbacker.txt',\n",
       " '../QTM340-Fall21/corpora/NYT-Obituaries/1966-Walt-Disney.txt',\n",
       " '../QTM340-Fall21/corpora/NYT-Obituaries/1972-J-Edgar-Hoover.txt',\n",
       " '../QTM340-Fall21/corpora/NYT-Obituaries/1993-Albert-Sabin.txt',\n",
       " '../QTM340-Fall21/corpora/NYT-Obituaries/1969-Mies-van-der-Rohe.txt',\n",
       " '../QTM340-Fall21/corpora/NYT-Obituaries/1885-Ulysses-Grant.txt',\n",
       " '../QTM340-Fall21/corpora/NYT-Obituaries/1966-Lenny-Bruce.txt',\n",
       " '../QTM340-Fall21/corpora/NYT-Obituaries/1987-Clare-Boothe-Luce.txt',\n",
       " '../QTM340-Fall21/corpora/NYT-Obituaries/1970-Edouard-Daladier.txt',\n",
       " '../QTM340-Fall21/corpora/NYT-Obituaries/1961-Primitive-Artist.txt',\n",
       " '../QTM340-Fall21/corpora/NYT-Obituaries/1983-Jack-Dempsey.txt',\n",
       " '../QTM340-Fall21/corpora/NYT-Obituaries/1968-Martin-Luther-King-Jr.txt',\n",
       " '../QTM340-Fall21/corpora/NYT-Obituaries/1993-Cesar-Chavez.txt',\n",
       " '../QTM340-Fall21/corpora/NYT-Obituaries/1989-Andrei-A-Gromyko.txt',\n",
       " '../QTM340-Fall21/corpora/NYT-Obituaries/1939-W-B-Yeats.txt',\n",
       " '../QTM340-Fall21/corpora/NYT-Obituaries/1995-Jonas-Salk.txt',\n",
       " '../QTM340-Fall21/corpora/NYT-Obituaries/1998-Frank-Sinatra.txt',\n",
       " '../QTM340-Fall21/corpora/NYT-Obituaries/1989-Andrei-Sakharov.txt',\n",
       " '../QTM340-Fall21/corpora/NYT-Obituaries/1945-Jerome-Kern.txt',\n",
       " '../QTM340-Fall21/corpora/NYT-Obituaries/1956-Charles-Merrill.txt',\n",
       " '../QTM340-Fall21/corpora/NYT-Obituaries/1954-Frida-Kahlo.txt',\n",
       " '../QTM340-Fall21/corpora/NYT-Obituaries/1922-Nellie-Bly.txt',\n",
       " '../QTM340-Fall21/corpora/NYT-Obituaries/1882-Charles-Darwin.txt',\n",
       " '../QTM340-Fall21/corpora/NYT-Obituaries/1940-Marcus-Garvey.txt',\n",
       " '../QTM340-Fall21/corpora/NYT-Obituaries/1969-David-Eisenhower.txt',\n",
       " '../QTM340-Fall21/corpora/NYT-Obituaries/1965-Shirley-Jackson.txt',\n",
       " '../QTM340-Fall21/corpora/NYT-Obituaries/1996-Timothy-Leary.txt',\n",
       " '../QTM340-Fall21/corpora/NYT-Obituaries/1980-Alfred-Hitchcock.txt',\n",
       " '../QTM340-Fall21/corpora/NYT-Obituaries/1990-Rex-Harrison.txt',\n",
       " '../QTM340-Fall21/corpora/NYT-Obituaries/1945-Adolf-Hitler.txt',\n",
       " '../QTM340-Fall21/corpora/NYT-Obituaries/1984-Truman-Capote.txt',\n",
       " '../QTM340-Fall21/corpora/NYT-Obituaries/1981-Robert-Moses.txt',\n",
       " '../QTM340-Fall21/corpora/NYT-Obituaries/1992-Alex-Haley.txt',\n",
       " '../QTM340-Fall21/corpora/NYT-Obituaries/1875-Andrew-Johnson.txt',\n",
       " '../QTM340-Fall21/corpora/NYT-Obituaries/1997-Allen-Ginsberg.txt',\n",
       " '../QTM340-Fall21/corpora/NYT-Obituaries/1931-Ida-B-Wells.txt',\n",
       " '../QTM340-Fall21/corpora/NYT-Obituaries/1931-Melvil-Dewey.txt',\n",
       " '../QTM340-Fall21/corpora/NYT-Obituaries/1993-Federico-Fellini.txt',\n",
       " '../QTM340-Fall21/corpora/NYT-Obituaries/1915-B-T-Washington.txt',\n",
       " '../QTM340-Fall21/corpora/NYT-Obituaries/1973-Roberto-Clemente.txt',\n",
       " '../QTM340-Fall21/corpora/NYT-Obituaries/1937-John-Rockefeller.txt',\n",
       " '../QTM340-Fall21/corpora/NYT-Obituaries/1984-Count-Basie.txt',\n",
       " '../QTM340-Fall21/corpora/NYT-Obituaries/1947-Fiorello-La-Guardia.txt',\n",
       " '../QTM340-Fall21/corpora/NYT-Obituaries/1990-Sammy-Davis-Jr.txt',\n",
       " '../QTM340-Fall21/corpora/NYT-Obituaries/1967-Langston-Hughes.txt',\n",
       " '../QTM340-Fall21/corpora/NYT-Obituaries/1965-David-O-Selznick.txt',\n",
       " '../QTM340-Fall21/corpora/NYT-Obituaries/1957-Christian-Dior.txt',\n",
       " '../QTM340-Fall21/corpora/NYT-Obituaries/1974-Sylvia-Plath.txt',\n",
       " '../QTM340-Fall21/corpora/NYT-Obituaries/1983-Earl-Hines.txt',\n",
       " '../QTM340-Fall21/corpora/NYT-Obituaries/1887-Emma-Lazarus.txt',\n",
       " '../QTM340-Fall21/corpora/NYT-Obituaries/1937-Edith-Wharton.txt',\n",
       " '../QTM340-Fall21/corpora/NYT-Obituaries/1957-Gerard-Swope.txt',\n",
       " '../QTM340-Fall21/corpora/NYT-Obituaries/1971-Hugo-Black.txt',\n",
       " '../QTM340-Fall21/corpora/NYT-Obituaries/1919-C-J-Walker.txt',\n",
       " '../QTM340-Fall21/corpora/NYT-Obituaries/1991-Miles-Davis.txt',\n",
       " '../QTM340-Fall21/corpora/NYT-Obituaries/1982-Satchel-Paige.txt',\n",
       " '../QTM340-Fall21/corpora/NYT-Obituaries/1947-Max-Planck.txt',\n",
       " '../QTM340-Fall21/corpora/NYT-Obituaries/1940-Scott-Fitzgerald.txt',\n",
       " '../QTM340-Fall21/corpora/NYT-Obituaries/1954-Henri-Matisse.txt',\n",
       " '../QTM340-Fall21/corpora/NYT-Obituaries/1974-Ed-Sullivan.txt',\n",
       " '../QTM340-Fall21/corpora/NYT-Obituaries/1984-Lillian-Hellman.txt',\n",
       " '../QTM340-Fall21/corpora/NYT-Obituaries/1987-James-Baldwin.txt',\n",
       " '../QTM340-Fall21/corpora/NYT-Obituaries/1964-Herbert-Hoover.txt',\n",
       " '../QTM340-Fall21/corpora/NYT-Obituaries/1961-Ernest-Hemingway.txt',\n",
       " '../QTM340-Fall21/corpora/NYT-Obituaries/1955-Dale-Carnegie.txt',\n",
       " '../QTM340-Fall21/corpora/NYT-Obituaries/1959-Frank-Lloyd-Wright.txt',\n",
       " '../QTM340-Fall21/corpora/NYT-Obituaries/1988-Louis-L-Amour.txt',\n",
       " '../QTM340-Fall21/corpora/NYT-Obituaries/1950-Edna-St-V-Millay.txt',\n",
       " '../QTM340-Fall21/corpora/NYT-Obituaries/1916-J-J-Hill.txt',\n",
       " '../QTM340-Fall21/corpora/NYT-Obituaries/1964-Nella-Larsen.txt',\n",
       " '../QTM340-Fall21/corpora/NYT-Obituaries/1950-A-J-Dempster.txt',\n",
       " '../QTM340-Fall21/corpora/NYT-Obituaries/1994-Richard-Nixon.txt',\n",
       " '../QTM340-Fall21/corpora/NYT-Obituaries/1990-Ralph-David-Abernathy.txt',\n",
       " '../QTM340-Fall21/corpora/NYT-Obituaries/1956-Babe-Zaharias.txt',\n",
       " '../QTM340-Fall21/corpora/NYT-Obituaries/1969-Everett-Dirksen.txt',\n",
       " '../QTM340-Fall21/corpora/NYT-Obituaries/1969-Ho-Chi-Minh.txt',\n",
       " '../QTM340-Fall21/corpora/NYT-Obituaries/1973-Otto-Klemperer.txt',\n",
       " '../QTM340-Fall21/corpora/NYT-Obituaries/1999-King-Hussein.txt',\n",
       " '../QTM340-Fall21/corpora/NYT-Obituaries/1991-Dr-Seuss.txt',\n",
       " '../QTM340-Fall21/corpora/NYT-Obituaries/1970-Walter-Reuther.txt',\n",
       " '../QTM340-Fall21/corpora/NYT-Obituaries/1852-Ada-Lovelace.txt',\n",
       " '../QTM340-Fall21/corpora/NYT-Obituaries/1980-Jesse-Owens.txt',\n",
       " '../QTM340-Fall21/corpora/NYT-Obituaries/1870-Robert-E-Lee.txt',\n",
       " '../QTM340-Fall21/corpora/NYT-Obituaries/1978-Bruce-Catton.txt',\n",
       " '../QTM340-Fall21/corpora/NYT-Obituaries/1990-Erte.txt',\n",
       " '../QTM340-Fall21/corpora/NYT-Obituaries/1992-Isaac-Asimov.txt',\n",
       " '../QTM340-Fall21/corpora/NYT-Obituaries/1995-Alfred-Eisenstaedt.txt',\n",
       " '../QTM340-Fall21/corpora/NYT-Obituaries/1967-Gregory-Pincus.txt',\n",
       " '../QTM340-Fall21/corpora/NYT-Obituaries/1891-P-T-Barnum.txt',\n",
       " '../QTM340-Fall21/corpora/NYT-Obituaries/1955-Margaret-Abbott.txt',\n",
       " '../QTM340-Fall21/corpora/NYT-Obituaries/1948-Sergei-Eisenstein.txt',\n",
       " '../QTM340-Fall21/corpora/NYT-Obituaries/1877-Bedford-Forrest.txt',\n",
       " '../QTM340-Fall21/corpora/NYT-Obituaries/1946-Lord-Keynes.txt',\n",
       " '../QTM340-Fall21/corpora/NYT-Obituaries/1961-Emily-Balch.txt',\n",
       " '../QTM340-Fall21/corpora/NYT-Obituaries/1988-John-Houseman.txt',\n",
       " '../QTM340-Fall21/corpora/NYT-Obituaries/1923-Warren-Harding.txt',\n",
       " '../QTM340-Fall21/corpora/NYT-Obituaries/1969-Coleman-Hawkins.txt',\n",
       " '../QTM340-Fall21/corpora/NYT-Obituaries/1984-Johnny-Weissmuller.txt',\n",
       " '../QTM340-Fall21/corpora/NYT-Obituaries/1999-Hassan-II.txt',\n",
       " '../QTM340-Fall21/corpora/NYT-Obituaries/1976-Mao-Tse-Tung.txt',\n",
       " '../QTM340-Fall21/corpora/NYT-Obituaries/1948-John-Pershing.txt',\n",
       " '../QTM340-Fall21/corpora/NYT-Obituaries/1999-Iris-Murdoch.txt',\n",
       " '../QTM340-Fall21/corpora/NYT-Obituaries/1945-Ernie-Pyle.txt',\n",
       " '../QTM340-Fall21/corpora/NYT-Obituaries/1959-Ethel-Barrymore.txt',\n",
       " '../QTM340-Fall21/corpora/NYT-Obituaries/1941-James-Joyce.txt',\n",
       " '../QTM340-Fall21/corpora/NYT-Obituaries/1977-Maria-Callas.txt',\n",
       " '../QTM340-Fall21/corpora/NYT-Obituaries/1989-Lucille-Ball.txt',\n",
       " '../QTM340-Fall21/corpora/NYT-Obituaries/1994-Jan-Tinbergen.txt',\n",
       " '../QTM340-Fall21/corpora/NYT-Obituaries/1987-Primo-Levi.txt',\n",
       " '../QTM340-Fall21/corpora/NYT-Obituaries/1919-Anna-H-Shaw.txt',\n",
       " '../QTM340-Fall21/corpora/NYT-Obituaries/1943-George-Washington-Carver.txt',\n",
       " '../QTM340-Fall21/corpora/NYT-Obituaries/1937-Maurice-Ravel.txt',\n",
       " '../QTM340-Fall21/corpora/NYT-Obituaries/1961-Carl-G-Jung.txt',\n",
       " '../QTM340-Fall21/corpora/NYT-Obituaries/1985-E-B-White.txt',\n",
       " '../QTM340-Fall21/corpora/NYT-Obituaries/1936-Maxim-Gorky.txt',\n",
       " '../QTM340-Fall21/corpora/NYT-Obituaries/1968-Upton-Sinclair.txt',\n",
       " '../QTM340-Fall21/corpora/NYT-Obituaries/1994-Jessica-Tandy.txt',\n",
       " '../QTM340-Fall21/corpora/NYT-Obituaries/1953-Eugene-O-Neill.txt',\n",
       " '../QTM340-Fall21/corpora/NYT-Obituaries/1906-Susan-B-Anthony.txt',\n",
       " '../QTM340-Fall21/corpora/NYT-Obituaries/1971-Coco-Chanel.txt',\n",
       " '../QTM340-Fall21/corpora/NYT-Obituaries/1947-Al-Capone.txt',\n",
       " '../QTM340-Fall21/corpora/NYT-Obituaries/1945-George-Patton.txt',\n",
       " '../QTM340-Fall21/corpora/NYT-Obituaries/1985-Roger-Maris.txt',\n",
       " '../QTM340-Fall21/corpora/NYT-Obituaries/1982-Anna-Freud.txt',\n",
       " '../QTM340-Fall21/corpora/NYT-Obituaries/1965-Churchill.txt',\n",
       " '../QTM340-Fall21/corpora/NYT-Obituaries/1967-Henry-R-Luce.txt',\n",
       " '../QTM340-Fall21/corpora/NYT-Obituaries/1935-Jane-Addams.txt',\n",
       " '../QTM340-Fall21/corpora/NYT-Obituaries/1943-J-H-Kellogg.txt',\n",
       " '../QTM340-Fall21/corpora/NYT-Obituaries/1927-Victoria-Martin.txt',\n",
       " '../QTM340-Fall21/corpora/NYT-Obituaries/1970-Erich-Maria-Remarque.txt',\n",
       " '../QTM340-Fall21/corpora/NYT-Obituaries/1995-Ginger-Rogers.txt',\n",
       " '../QTM340-Fall21/corpora/NYT-Obituaries/1945-Bela-Bartok.txt',\n",
       " '../QTM340-Fall21/corpora/NYT-Obituaries/1980-Jean-Paul-Sartre.txt',\n",
       " '../QTM340-Fall21/corpora/NYT-Obituaries/1978-Pope-Paul-VI.txt',\n",
       " '../QTM340-Fall21/corpora/NYT-Obituaries/1903-Emily-Warren-Roebling.txt',\n",
       " '../QTM340-Fall21/corpora/NYT-Obituaries/1951-Fanny-Brice.txt',\n",
       " '../QTM340-Fall21/corpora/NYT-Obituaries/1959-Cecil-De-Mille.txt',\n",
       " '../QTM340-Fall21/corpora/NYT-Obituaries/1963-W-E-B-DuBois.txt',\n",
       " '../QTM340-Fall21/corpora/NYT-Obituaries/1984-Ansel-Adams.txt',\n",
       " '../QTM340-Fall21/corpora/NYT-Obituaries/1930-William-Howard-Taft.txt',\n",
       " '../QTM340-Fall21/corpora/NYT-Obituaries/1948-Mohandas-K-Gandhi.txt',\n",
       " '../QTM340-Fall21/corpora/NYT-Obituaries/1995-Yitzhak-Rabin.txt',\n",
       " '../QTM340-Fall21/corpora/NYT-Obituaries/1981-Anwar-el-Sadat.txt',\n",
       " '../QTM340-Fall21/corpora/NYT-Obituaries/1982-Leonid-Brezhnev.txt',\n",
       " '../QTM340-Fall21/corpora/NYT-Obituaries/1920-Marlene-Dietrich.txt',\n",
       " '../QTM340-Fall21/corpora/NYT-Obituaries/1903-James-M-N-Whistler.txt',\n",
       " '../QTM340-Fall21/corpora/NYT-Obituaries/1973-Nancy-Mitford.txt',\n",
       " '../QTM340-Fall21/corpora/NYT-Obituaries/1986-James-Cagney.txt',\n",
       " '../QTM340-Fall21/corpora/NYT-Obituaries/1979-Arthur-Fiedler.txt',\n",
       " '../QTM340-Fall21/corpora/NYT-Obituaries/1989-August-A-Busch-Jr.txt',\n",
       " '../QTM340-Fall21/corpora/NYT-Obituaries/1963-John-F-Kennedy.txt',\n",
       " '../QTM340-Fall21/corpora/NYT-Obituaries/1930-Balfour.txt',\n",
       " '../QTM340-Fall21/corpora/NYT-Obituaries/1992-Menachem-Begin.txt',\n",
       " '../QTM340-Fall21/corpora/NYT-Obituaries/1986-The-Challenger.txt',\n",
       " '../QTM340-Fall21/corpora/NYT-Obituaries/1936-John-W-Heisman.txt',\n",
       " '../QTM340-Fall21/corpora/NYT-Obituaries/1998-Theodore-Schultz.txt',\n",
       " '../QTM340-Fall21/corpora/NYT-Obituaries/1996-Carl-Sagan.txt',\n",
       " '../QTM340-Fall21/corpora/NYT-Obituaries/1979-A-Philip-Randolph.txt',\n",
       " '../QTM340-Fall21/corpora/NYT-Obituaries/1968-Helen-Keller.txt',\n",
       " '../QTM340-Fall21/corpora/NYT-Obituaries/1974-Charles-Lindbergh.txt',\n",
       " '../QTM340-Fall21/corpora/NYT-Obituaries/1910-Florence-Nightingale.txt',\n",
       " '../QTM340-Fall21/corpora/NYT-Obituaries/1975-Elijah-Muhammad.txt',\n",
       " '../QTM340-Fall21/corpora/NYT-Obituaries/1992-William-Shawn.txt',\n",
       " '../QTM340-Fall21/corpora/NYT-Obituaries/1950-Henry-L-Stimson.txt',\n",
       " '../QTM340-Fall21/corpora/NYT-Obituaries/1938-George-E-Hale.txt',\n",
       " '../QTM340-Fall21/corpora/NYT-Obituaries/1981-Joe-Louis.txt',\n",
       " '../QTM340-Fall21/corpora/NYT-Obituaries/1902-Elizabeth-Cady-Stanton.txt',\n",
       " '../QTM340-Fall21/corpora/NYT-Obituaries/1951-Henrietta-Lacks.txt',\n",
       " '../QTM340-Fall21/corpora/NYT-Obituaries/1991-Peggy-Ashcroft.txt',\n",
       " '../QTM340-Fall21/corpora/NYT-Obituaries/1932-Florenz-Ziegfeld.txt',\n",
       " '../QTM340-Fall21/corpora/NYT-Obituaries/1984-Ray-A-Kroc.txt',\n",
       " '../QTM340-Fall21/corpora/NYT-Obituaries/1931-Thomas-Edison.txt',\n",
       " '../QTM340-Fall21/corpora/NYT-Obituaries/1954-Liberty-H-Bailey.txt',\n",
       " '../QTM340-Fall21/corpora/NYT-Obituaries/1994-Erik-Erikson.txt',\n",
       " '../QTM340-Fall21/corpora/NYT-Obituaries/1960-Richard-Wright.txt',\n",
       " '../QTM340-Fall21/corpora/NYT-Obituaries/1933-Louis-C-Tiffany.txt',\n",
       " '../QTM340-Fall21/corpora/NYT-Obituaries/1967-J-Robert-Oppenheimer.txt',\n",
       " '../QTM340-Fall21/corpora/NYT-Obituaries/1962-Marilyn-Monroe.txt',\n",
       " '../QTM340-Fall21/corpora/NYT-Obituaries/1989-Hirohito.txt',\n",
       " '../QTM340-Fall21/corpora/NYT-Obituaries/2000-Charles-M-Schulz.txt',\n",
       " '../QTM340-Fall21/corpora/NYT-Obituaries/1986-Benny-Goodman.txt',\n",
       " '../QTM340-Fall21/corpora/NYT-Obituaries/1965-Adlai-Ewing-Stevenson.txt',\n",
       " '../QTM340-Fall21/corpora/NYT-Obituaries/1953-Jim-Thorpe.txt',\n",
       " '../QTM340-Fall21/corpora/NYT-Obituaries/1960-Emily-Post.txt',\n",
       " '../QTM340-Fall21/corpora/NYT-Obituaries/1934-T-A-Watson.txt',\n",
       " '../QTM340-Fall21/corpora/NYT-Obituaries/1965-Albert-Schweitzer.txt',\n",
       " '../QTM340-Fall21/corpora/NYT-Obituaries/1886-Mary-Ewing-Outerbridge.txt',\n",
       " '../QTM340-Fall21/corpora/NYT-Obituaries/1900-Stephen-Crane.txt',\n",
       " '../QTM340-Fall21/corpora/NYT-Obituaries/1965-Edward-R-Murrow.txt',\n",
       " '../QTM340-Fall21/corpora/NYT-Obituaries/1998-Helen-Moody.txt',\n",
       " '../QTM340-Fall21/corpora/NYT-Obituaries/1993-Dizzy-Gillespie.txt',\n",
       " '../QTM340-Fall21/corpora/NYT-Obituaries/1986-Kate-Smith.txt',\n",
       " '../QTM340-Fall21/corpora/NYT-Obituaries/1880-Lucretia-Mott.txt',\n",
       " '../QTM340-Fall21/corpora/NYT-Obituaries/1989-Ferdinand-Marcos.txt',\n",
       " '../QTM340-Fall21/corpora/NYT-Obituaries/1976-J-Paul-Getty.txt',\n",
       " '../QTM340-Fall21/corpora/NYT-Obituaries/1952-Eva-Peron.txt',\n",
       " '../QTM340-Fall21/corpora/NYT-Obituaries/1987-Rita-Hayworth.txt',\n",
       " '../QTM340-Fall21/corpora/NYT-Obituaries/1974-Earl-Warren.txt',\n",
       " '../QTM340-Fall21/corpora/NYT-Obituaries/1908-Cleveland.txt',\n",
       " '../QTM340-Fall21/corpora/NYT-Obituaries/1971-Igor-Stravinsky.txt',\n",
       " '../QTM340-Fall21/corpora/NYT-Obituaries/1911-Joseph-Pulitzer.txt',\n",
       " '../QTM340-Fall21/corpora/NYT-Obituaries/1968-Robert-Francis-Kennedy.txt',\n",
       " '../QTM340-Fall21/corpora/NYT-Obituaries/1989-William-B-Shockley.txt',\n",
       " '../QTM340-Fall21/corpora/NYT-Obituaries/1997-James-Stewart.txt',\n",
       " '../QTM340-Fall21/corpora/NYT-Obituaries/1914-John-P-Holland.txt',\n",
       " '../QTM340-Fall21/corpora/NYT-Obituaries/1992-Marsha-P-Johnson.txt',\n",
       " '../QTM340-Fall21/corpora/NYT-Obituaries/1900-Nietzsche.txt',\n",
       " '../QTM340-Fall21/corpora/NYT-Obituaries/1933-Calvin-Coolidge.txt',\n",
       " '../QTM340-Fall21/corpora/NYT-Obituaries/1938-Clarence-Darrow.txt',\n",
       " '../QTM340-Fall21/corpora/NYT-Obituaries/1964-Rachel-Carson.txt',\n",
       " '../QTM340-Fall21/corpora/NYT-Obituaries/1917-Hilaire-G-E-Degas.txt',\n",
       " '../QTM340-Fall21/corpora/NYT-Obituaries/1998-Alan-B-Shepard-Jr.txt',\n",
       " '../QTM340-Fall21/corpora/NYT-Obituaries/1935-Justice-Holmes.txt',\n",
       " '../QTM340-Fall21/corpora/NYT-Obituaries/1984-Ethel-Merman.txt',\n",
       " '../QTM340-Fall21/corpora/NYT-Obituaries/1914-John-Muir.txt',\n",
       " '../QTM340-Fall21/corpora/NYT-Obituaries/1946-C-E-M-Clung.txt',\n",
       " '../QTM340-Fall21/corpora/NYT-Obituaries/1987-Andres-Segovie.txt',\n",
       " '../QTM340-Fall21/corpora/NYT-Obituaries/1941-Frank-Conrad.txt',\n",
       " '../QTM340-Fall21/corpora/NYT-Obituaries/1972-Jackie-Robinson.txt',\n",
       " '../QTM340-Fall21/corpora/NYT-Obituaries/1959-Billie-Holiday.txt',\n",
       " '../QTM340-Fall21/corpora/NYT-Obituaries/1987-John-Huston.txt',\n",
       " '../QTM340-Fall21/corpora/NYT-Obituaries/1969-Judy-Garland.txt',\n",
       " '../QTM340-Fall21/corpora/NYT-Obituaries/1976-Jacques-Monod.txt',\n",
       " '../QTM340-Fall21/corpora/NYT-Obituaries/1998-Bella-Abzug.txt',\n",
       " '../QTM340-Fall21/corpora/NYT-Obituaries/1963-Robert-Frost.txt',\n",
       " '../QTM340-Fall21/corpora/NYT-Obituaries/1977-Dash-Ended.txt',\n",
       " '../QTM340-Fall21/corpora/NYT-Obituaries/1984-Richard-Burton.txt',\n",
       " '../QTM340-Fall21/corpora/NYT-Obituaries/1992-Shirley-Booth.txt',\n",
       " '../QTM340-Fall21/corpora/NYT-Obituaries/1966-Margaret-Sanger.txt',\n",
       " '../QTM340-Fall21/corpora/NYT-Obituaries/1982-Arthur-Rubinstein.txt',\n",
       " '../QTM340-Fall21/corpora/NYT-Obituaries/1948-Babe-Ruth.txt',\n",
       " '../QTM340-Fall21/corpora/NYT-Obituaries/1931-Knute-Rocke.txt',\n",
       " '../QTM340-Fall21/corpora/NYT-Obituaries/1938-Constantin-Stanislavsky.txt',\n",
       " '../QTM340-Fall21/corpora/NYT-Obituaries/1960-Boris-Pasternak.txt',\n",
       " '../QTM340-Fall21/corpora/NYT-Obituaries/1991-Frank-Capra.txt',\n",
       " '../QTM340-Fall21/corpora/NYT-Obituaries/1964-Douglas-MacArthur.txt',\n",
       " '../QTM340-Fall21/corpora/NYT-Obituaries/1935-Will-Rogers.txt',\n",
       " '../QTM340-Fall21/corpora/NYT-Obituaries/1969-Sonja-Henie.txt',\n",
       " '../QTM340-Fall21/corpora/NYT-Obituaries/1947-Henry-Ford.txt',\n",
       " '../QTM340-Fall21/corpora/NYT-Obituaries/1966-Buster-Keaton.txt',\n",
       " '../QTM340-Fall21/corpora/NYT-Obituaries/1995-George-Abbott.txt',\n",
       " '../QTM340-Fall21/corpora/NYT-Obituaries/1971-Bobby-Jones.txt',\n",
       " '../QTM340-Fall21/corpora/NYT-Obituaries/1944-Alfred-E-Smith.txt',\n",
       " '../QTM340-Fall21/corpora/NYT-Obituaries/1989-Samuel-Beckett.txt',\n",
       " '../QTM340-Fall21/corpora/NYT-Obituaries/1972-Mahalia-Jackson.txt',\n",
       " '../QTM340-Fall21/corpora/NYT-Obituaries/1955-Thomas-Mann.txt',\n",
       " '../QTM340-Fall21/corpora/NYT-Obituaries/1993-Thurgood-Marshall.txt',\n",
       " '../QTM340-Fall21/corpora/NYT-Obituaries/1963-Sylvia-Plath.txt',\n",
       " '../QTM340-Fall21/corpora/NYT-Obituaries/1888-Louisa-M-Alcott.txt',\n",
       " '../QTM340-Fall21/corpora/NYT-Obituaries/1901-William-McKinley.txt',\n",
       " '../QTM340-Fall21/corpora/NYT-Obituaries/1983-Muddy-Waters.txt',\n",
       " '../QTM340-Fall21/corpora/NYT-Obituaries/1990-Leonard-Bernstein.txt',\n",
       " '../QTM340-Fall21/corpora/NYT-Obituaries/1989-Claude-Pepper.txt',\n",
       " '../QTM340-Fall21/corpora/NYT-Obituaries/1998-Galina-Ulanova.txt',\n",
       " '../QTM340-Fall21/corpora/NYT-Obituaries/1971-Louis-Armstrong.txt',\n",
       " '../QTM340-Fall21/corpora/NYT-Obituaries/1942-George-M-Cohan.txt',\n",
       " '../QTM340-Fall21/corpora/NYT-Obituaries/1915-F-W-Taylor.txt',\n",
       " '../QTM340-Fall21/corpora/NYT-Obituaries/1989-Robert-Penn-Warren.txt',\n",
       " '../QTM340-Fall21/corpora/NYT-Obituaries/1901-Benjamin-Harrison.txt',\n",
       " '../QTM340-Fall21/corpora/NYT-Obituaries/1896-Harriet-Beecher-Stowe.txt',\n",
       " '../QTM340-Fall21/corpora/NYT-Obituaries/1910-William-James.txt',\n",
       " '../QTM340-Fall21/corpora/NYT-Obituaries/1975-Franco.txt',\n",
       " '../QTM340-Fall21/corpora/NYT-Obituaries/1955-Cy-Young.txt',\n",
       " '../QTM340-Fall21/corpora/NYT-Obituaries/1935-Adolph-S-Ochs.txt',\n",
       " '../QTM340-Fall21/corpora/NYT-Obituaries/1954-Lionel-Barrymore.txt',\n",
       " '../QTM340-Fall21/corpora/NYT-Obituaries/1962-William-Faulkner.txt',\n",
       " '../QTM340-Fall21/corpora/NYT-Obituaries/1922-Alexander-Graham-Bell.txt',\n",
       " '../QTM340-Fall21/corpora/NYT-Obituaries/1971-Florence-Blanchfield.txt',\n",
       " '../QTM340-Fall21/corpora/NYT-Obituaries/1944-Ida-M-Tarbell.txt',\n",
       " '../QTM340-Fall21/corpora/NYT-Obituaries/1969-Madhubala.txt',\n",
       " '../QTM340-Fall21/corpora/NYT-Obituaries/1962-Eleanor-Roosevelt.txt',\n",
       " '../QTM340-Fall21/corpora/NYT-Obituaries/1953-Fred-Vinson.txt',\n",
       " '../QTM340-Fall21/corpora/NYT-Obituaries/1916-Jack-London.txt',\n",
       " '../QTM340-Fall21/corpora/NYT-Obituaries/1941-Virginia-Woolf.txt',\n",
       " '../QTM340-Fall21/corpora/NYT-Obituaries/1970-De-Gaulle-Rallied.txt',\n",
       " '../QTM340-Fall21/corpora/NYT-Obituaries/1952-Charles-Spaulding.txt',\n",
       " '../QTM340-Fall21/corpora/NYT-Obituaries/1977-Charles-Chaplin.txt',\n",
       " '../QTM340-Fall21/corpora/NYT-Obituaries/1952-John-Dewey.txt',\n",
       " '../QTM340-Fall21/corpora/NYT-Obituaries/1986-Bernard-Malamud.txt',\n",
       " '../QTM340-Fall21/corpora/NYT-Obituaries/1974-Katharine-Cornell.txt',\n",
       " '../QTM340-Fall21/corpora/NYT-Obituaries/1972-The-Duke-of-Windsor.txt',\n",
       " '../QTM340-Fall21/corpora/NYT-Obituaries/1945-FDR.txt',\n",
       " '../QTM340-Fall21/corpora/NYT-Obituaries/1992-John-Cage.txt',\n",
       " '../QTM340-Fall21/corpora/NYT-Obituaries/1998-Benjamin-Spock.txt',\n",
       " '../QTM340-Fall21/corpora/NYT-Obituaries/1971-Ralph-Bunche.txt',\n",
       " '../QTM340-Fall21/corpora/NYT-Obituaries/1987-Alf-Landon.txt',\n",
       " '../QTM340-Fall21/corpora/NYT-Obituaries/1976-Richard-Daley.txt',\n",
       " '../QTM340-Fall21/corpora/NYT-Obituaries/1964-Sean-O-Casey.txt',\n",
       " '../QTM340-Fall21/corpora/NYT-Obituaries/1991-Martha-Graham.txt',\n",
       " '../QTM340-Fall21/corpora/NYT-Obituaries/1993-Carlos-Montoya.txt',\n",
       " '../QTM340-Fall21/corpora/NYT-Obituaries/1976-Adolph-Zukor.txt',\n",
       " '../QTM340-Fall21/corpora/NYT-Obituaries/1989-Vladimir-Horowitz.txt',\n",
       " '../QTM340-Fall21/corpora/NYT-Obituaries/1975-Walker-Evans.txt',\n",
       " '../QTM340-Fall21/corpora/NYT-Obituaries/1964-Cole-Porter.txt',\n",
       " '../QTM340-Fall21/corpora/NYT-Obituaries/1968-Yuri-Gagarin.txt',\n",
       " '../QTM340-Fall21/corpora/NYT-Obituaries/1894-R-L-Stevenson.txt',\n",
       " '../QTM340-Fall21/corpora/NYT-Obituaries/1989-I-F-Stone.txt',\n",
       " '../QTM340-Fall21/corpora/NYT-Obituaries/1946-Gertrude-Stein.txt',\n",
       " '../QTM340-Fall21/corpora/NYT-Obituaries/1952-Chaim-Weizmann.txt',\n",
       " '../QTM340-Fall21/corpora/NYT-Obituaries/1978-Margaret-Mead.txt',\n",
       " '../QTM340-Fall21/corpora/NYT-Obituaries/1930-Conan-Doyle.txt',\n",
       " '../QTM340-Fall21/corpora/NYT-Obituaries/1976-Max-Ernst.txt',\n",
       " '../QTM340-Fall21/corpora/NYT-Obituaries/1939-Pope-Pius-XI.txt',\n",
       " '../QTM340-Fall21/corpora/NYT-Obituaries/1977-Joan-Crawford.txt',\n",
       " '../QTM340-Fall21/corpora/NYT-Obituaries/1945-Harry-S-Truman.txt',\n",
       " '../QTM340-Fall21/corpora/NYT-Obituaries/1998-Fred-W-Friendly.txt',\n",
       " '../QTM340-Fall21/corpora/NYT-Obituaries/1932-John-Philip-Sousa.txt',\n",
       " '../QTM340-Fall21/corpora/NYT-Obituaries/1936-Anne-Macy.txt',\n",
       " '../QTM340-Fall21/corpora/NYT-Obituaries/1982-Lee-Strasberg.txt',\n",
       " '../QTM340-Fall21/corpora/NYT-Obituaries/1956-Thomas-J-Watson-Sr.txt',\n",
       " '../QTM340-Fall21/corpora/NYT-Obituaries/1985-Orson-Welles.txt',\n",
       " '../QTM340-Fall21/corpora/NYT-Obituaries/1909-Geronimo.txt',\n",
       " '../QTM340-Fall21/corpora/NYT-Obituaries/1979-Richard-Rodgers.txt',\n",
       " '../QTM340-Fall21/corpora/NYT-Obituaries/1955-Albert-Einstein.txt',\n",
       " '../QTM340-Fall21/corpora/NYT-Obituaries/1984-Indira-Gandhi.txt',\n",
       " '../QTM340-Fall21/corpora/NYT-Obituaries/1941-Lou-Gehrig.txt',\n",
       " '../QTM340-Fall21/corpora/NYT-Obituaries/1961-Hammarskjold.txt',\n",
       " '../QTM340-Fall21/corpora/NYT-Obituaries/1991-Leo-Durocher.txt',\n",
       " '../QTM340-Fall21/corpora/NYT-Obituaries/1978-Golda-Meir.txt',\n",
       " '../QTM340-Fall21/corpora/NYT-Obituaries/1975-Haile-Selassie.txt',\n",
       " '../QTM340-Fall21/corpora/NYT-Obituaries/1997-Deng-Xiaoping.txt',\n",
       " '../QTM340-Fall21/corpora/NYT-Obituaries/1973-Jeanette-Rankin.txt',\n",
       " '../QTM340-Fall21/corpora/NYT-Obituaries/1914-Alfred-Thayer-Mahan.txt',\n",
       " '../QTM340-Fall21/corpora/NYT-Obituaries/1998-Bob-Kane.txt',\n",
       " '../QTM340-Fall21/corpora/NYT-Obituaries/1929-Marie-Curie.txt',\n",
       " '../QTM340-Fall21/corpora/NYT-Obituaries/1939-Howard-Carter.txt',\n",
       " '../QTM340-Fall21/corpora/NYT-Obituaries/1953-Marjorie-Rawlings.txt',\n",
       " '../QTM340-Fall21/corpora/NYT-Obituaries/1965-Branch-Rickey.txt',\n",
       " '../QTM340-Fall21/corpora/NYT-Obituaries/1949-Mitchell.txt',\n",
       " '../QTM340-Fall21/corpora/NYT-Obituaries/1986-Jorge-Luis-Borges.txt',\n",
       " '../QTM340-Fall21/corpora/NYT-Obituaries/1996-Gene-Kelly.txt',\n",
       " '../QTM340-Fall21/corpora/NYT-Obituaries/1979-John-Wayne.txt',\n",
       " '../QTM340-Fall21/corpora/NYT-Obituaries/1909-Sarah-Orne-Jewett.txt',\n",
       " '../QTM340-Fall21/corpora/NYT-Obituaries/1969-Maureen-Connolly.txt',\n",
       " '../QTM340-Fall21/corpora/NYT-Obituaries/1971-Diane-Arbus.txt',\n",
       " '../QTM340-Fall21/corpora/NYT-Obituaries/2000-Pierre-Trudeau.txt',\n",
       " '../QTM340-Fall21/corpora/NYT-Obituaries/1933-Ring-Lardner.txt',\n",
       " '../QTM340-Fall21/corpora/NYT-Obituaries/1961-Sam-Rayburn.txt',\n",
       " '../QTM340-Fall21/corpora/NYT-Obituaries/1965-Martin-Buber.txt',\n",
       " '../QTM340-Fall21/corpora/NYT-Obituaries/1954-Anne-O-Hare-McCormick.txt',\n",
       " '../QTM340-Fall21/corpora/NYT-Obituaries/1990-Greta-Garbo.txt',\n",
       " '../QTM340-Fall21/corpora/NYT-Obituaries/1959-John-Dulles.txt',\n",
       " '../QTM340-Fall21/corpora/NYT-Obituaries/1994-Thomas-P-O-Neill-Jr.txt',\n",
       " '../QTM340-Fall21/corpora/NYT-Obituaries/2000-Elliot-Richardson.txt',\n",
       " '../QTM340-Fall21/corpora/NYT-Obituaries/1993-William-Golding.txt',\n",
       " '../QTM340-Fall21/corpora/NYT-Obituaries/1895-Fred-Douglass.txt',\n",
       " '../QTM340-Fall21/corpora/NYT-Obituaries/1930-Elmer-Sperry.txt',\n",
       " '../QTM340-Fall21/corpora/NYT-Obituaries/1986-Georgia-O-Keeffe.txt',\n",
       " '../QTM340-Fall21/corpora/NYT-Obituaries/1916-Martian-Theory.txt',\n",
       " '../QTM340-Fall21/corpora/NYT-Obituaries/1966-Alfred-P-Sloan-Jr.txt',\n",
       " '../QTM340-Fall21/corpora/NYT-Obituaries/1958-W-C-Handy.txt',\n",
       " '../QTM340-Fall21/corpora/NYT-Obituaries/1973-Pablo-Picasso.txt',\n",
       " '../QTM340-Fall21/corpora/NYT-Obituaries/1973-Lyndon-Johnson.txt',\n",
       " '../QTM340-Fall21/corpora/NYT-Obituaries/1998-Maureen-O-Sullivan.txt']"
      ]
     },
     "execution_count": 5,
     "metadata": {},
     "output_type": "execute_result"
    }
   ],
   "source": [
    "files"
   ]
  },
  {
   "cell_type": "markdown",
   "metadata": {},
   "source": [
    "## Preprocessing"
   ]
  },
  {
   "cell_type": "markdown",
   "metadata": {},
   "source": [
    "Next we process our texts with the function `little_mallet_wrapper.process_string()`. This function will take every individual text file, transform all the text to lowercase as well as remove stopwords, punctuation, and numbers, and then add the processed text to our master list `training_data`.\n",
    "\n",
    "Python Review!\n",
    "Take a moment to study this code and reflect about what's happening here. This is a very common Python pattern! We make an empty list, iterate through every file, open and read each text file, process the texts, and finally append them to the previously empty list."
   ]
  },
  {
   "cell_type": "code",
   "execution_count": 17,
   "metadata": {},
   "outputs": [],
   "source": [
    "training_data = []\n",
    "for file in files:\n",
    "    text = open(file, encoding='utf-8').read()\n",
    "    processed_text = little_mallet_wrapper.process_string(text, numbers='remove')\n",
    "    training_data.append(processed_text)"
   ]
  },
  {
   "cell_type": "markdown",
   "metadata": {},
   "source": [
    "We're also making a master list of the original text of the obituaries for future reference."
   ]
  },
  {
   "cell_type": "code",
   "execution_count": 7,
   "metadata": {},
   "outputs": [],
   "source": [
    "original_texts = []\n",
    "for file in files:\n",
    "    text = open(file, encoding='utf-8').read()\n",
    "    original_texts.append(text)"
   ]
  },
  {
   "cell_type": "markdown",
   "metadata": {},
   "source": [
    "## Process Titles"
   ]
  },
  {
   "cell_type": "markdown",
   "metadata": {},
   "source": [
    "Here we extract the relevant part of each file name by using [`Path().stem`](https://docs.python.org/3/library/pathlib.html#pathlib.PurePath.stem), which conveniently extracts just the last part of the file path without the \".txt\" file extension. Because each file name includes the obituary subject's name as well as the year that the subject died, we're going to use this information as a title or label for each obituary."
   ]
  },
  {
   "cell_type": "code",
   "execution_count": 8,
   "metadata": {},
   "outputs": [],
   "source": [
    "obit_titles = [Path(file).stem for file in files]"
   ]
  },
  {
   "cell_type": "code",
   "execution_count": 9,
   "metadata": {},
   "outputs": [
    {
     "data": {
      "text/plain": [
       "['1994-Jacqueline-Kennedy',\n",
       " '1955-Walter-White',\n",
       " '1907-Qiu-Jin',\n",
       " '1994-Linus-C-Pauling',\n",
       " '1919-Carnegie-Started',\n",
       " '1926-Harry-Houdini',\n",
       " '1959-Ross-G-Harrison',\n",
       " '1954-Enrico-Fermi',\n",
       " '1928-Mabel-Craty',\n",
       " '1954-Getulio-Vargas',\n",
       " '1993-Arthur-Ashe',\n",
       " '1971-Dean-Acheson',\n",
       " '1980-Jean-Piaget',\n",
       " '1975-Chiang-Kai-shek',\n",
       " '1982-Ingrid-Bergman',\n",
       " '1979-Stan-Kenton',\n",
       " '1960-Beno-Gutenberg',\n",
       " '1971-Khrushchev',\n",
       " '1953-Joseph-Stalin',\n",
       " '1947-Willa-Cather',\n",
       " '1982-Thelonious-Monk',\n",
       " '1901-Queen-Victoria',\n",
       " '1966-Chester-Nimitz',\n",
       " '1910-Tolstoy',\n",
       " '1973-Eddie-Rickenbacker',\n",
       " '1966-Walt-Disney',\n",
       " '1972-J-Edgar-Hoover',\n",
       " '1993-Albert-Sabin',\n",
       " '1969-Mies-van-der-Rohe',\n",
       " '1885-Ulysses-Grant',\n",
       " '1966-Lenny-Bruce',\n",
       " '1987-Clare-Boothe-Luce',\n",
       " '1970-Edouard-Daladier',\n",
       " '1961-Primitive-Artist',\n",
       " '1983-Jack-Dempsey',\n",
       " '1968-Martin-Luther-King-Jr',\n",
       " '1993-Cesar-Chavez',\n",
       " '1989-Andrei-A-Gromyko',\n",
       " '1939-W-B-Yeats',\n",
       " '1995-Jonas-Salk',\n",
       " '1998-Frank-Sinatra',\n",
       " '1989-Andrei-Sakharov',\n",
       " '1945-Jerome-Kern',\n",
       " '1956-Charles-Merrill',\n",
       " '1954-Frida-Kahlo',\n",
       " '1922-Nellie-Bly',\n",
       " '1882-Charles-Darwin',\n",
       " '1940-Marcus-Garvey',\n",
       " '1969-David-Eisenhower',\n",
       " '1965-Shirley-Jackson',\n",
       " '1996-Timothy-Leary',\n",
       " '1980-Alfred-Hitchcock',\n",
       " '1990-Rex-Harrison',\n",
       " '1945-Adolf-Hitler',\n",
       " '1984-Truman-Capote',\n",
       " '1981-Robert-Moses',\n",
       " '1992-Alex-Haley',\n",
       " '1875-Andrew-Johnson',\n",
       " '1997-Allen-Ginsberg',\n",
       " '1931-Ida-B-Wells',\n",
       " '1931-Melvil-Dewey',\n",
       " '1993-Federico-Fellini',\n",
       " '1915-B-T-Washington',\n",
       " '1973-Roberto-Clemente',\n",
       " '1937-John-Rockefeller',\n",
       " '1984-Count-Basie',\n",
       " '1947-Fiorello-La-Guardia',\n",
       " '1990-Sammy-Davis-Jr',\n",
       " '1967-Langston-Hughes',\n",
       " '1965-David-O-Selznick',\n",
       " '1957-Christian-Dior',\n",
       " '1974-Sylvia-Plath',\n",
       " '1983-Earl-Hines',\n",
       " '1887-Emma-Lazarus',\n",
       " '1937-Edith-Wharton',\n",
       " '1957-Gerard-Swope',\n",
       " '1971-Hugo-Black',\n",
       " '1919-C-J-Walker',\n",
       " '1991-Miles-Davis',\n",
       " '1982-Satchel-Paige',\n",
       " '1947-Max-Planck',\n",
       " '1940-Scott-Fitzgerald',\n",
       " '1954-Henri-Matisse',\n",
       " '1974-Ed-Sullivan',\n",
       " '1984-Lillian-Hellman',\n",
       " '1987-James-Baldwin',\n",
       " '1964-Herbert-Hoover',\n",
       " '1961-Ernest-Hemingway',\n",
       " '1955-Dale-Carnegie',\n",
       " '1959-Frank-Lloyd-Wright',\n",
       " '1988-Louis-L-Amour',\n",
       " '1950-Edna-St-V-Millay',\n",
       " '1916-J-J-Hill',\n",
       " '1964-Nella-Larsen',\n",
       " '1950-A-J-Dempster',\n",
       " '1994-Richard-Nixon',\n",
       " '1990-Ralph-David-Abernathy',\n",
       " '1956-Babe-Zaharias',\n",
       " '1969-Everett-Dirksen',\n",
       " '1969-Ho-Chi-Minh',\n",
       " '1973-Otto-Klemperer',\n",
       " '1999-King-Hussein',\n",
       " '1991-Dr-Seuss',\n",
       " '1970-Walter-Reuther',\n",
       " '1852-Ada-Lovelace',\n",
       " '1980-Jesse-Owens',\n",
       " '1870-Robert-E-Lee',\n",
       " '1978-Bruce-Catton',\n",
       " '1990-Erte',\n",
       " '1992-Isaac-Asimov',\n",
       " '1995-Alfred-Eisenstaedt',\n",
       " '1967-Gregory-Pincus',\n",
       " '1891-P-T-Barnum',\n",
       " '1955-Margaret-Abbott',\n",
       " '1948-Sergei-Eisenstein',\n",
       " '1877-Bedford-Forrest',\n",
       " '1946-Lord-Keynes',\n",
       " '1961-Emily-Balch',\n",
       " '1988-John-Houseman',\n",
       " '1923-Warren-Harding',\n",
       " '1969-Coleman-Hawkins',\n",
       " '1984-Johnny-Weissmuller',\n",
       " '1999-Hassan-II',\n",
       " '1976-Mao-Tse-Tung',\n",
       " '1948-John-Pershing',\n",
       " '1999-Iris-Murdoch',\n",
       " '1945-Ernie-Pyle',\n",
       " '1959-Ethel-Barrymore',\n",
       " '1941-James-Joyce',\n",
       " '1977-Maria-Callas',\n",
       " '1989-Lucille-Ball',\n",
       " '1994-Jan-Tinbergen',\n",
       " '1987-Primo-Levi',\n",
       " '1919-Anna-H-Shaw',\n",
       " '1943-George-Washington-Carver',\n",
       " '1937-Maurice-Ravel',\n",
       " '1961-Carl-G-Jung',\n",
       " '1985-E-B-White',\n",
       " '1936-Maxim-Gorky',\n",
       " '1968-Upton-Sinclair',\n",
       " '1994-Jessica-Tandy',\n",
       " '1953-Eugene-O-Neill',\n",
       " '1906-Susan-B-Anthony',\n",
       " '1971-Coco-Chanel',\n",
       " '1947-Al-Capone',\n",
       " '1945-George-Patton',\n",
       " '1985-Roger-Maris',\n",
       " '1982-Anna-Freud',\n",
       " '1965-Churchill',\n",
       " '1967-Henry-R-Luce',\n",
       " '1935-Jane-Addams',\n",
       " '1943-J-H-Kellogg',\n",
       " '1927-Victoria-Martin',\n",
       " '1970-Erich-Maria-Remarque',\n",
       " '1995-Ginger-Rogers',\n",
       " '1945-Bela-Bartok',\n",
       " '1980-Jean-Paul-Sartre',\n",
       " '1978-Pope-Paul-VI',\n",
       " '1903-Emily-Warren-Roebling',\n",
       " '1951-Fanny-Brice',\n",
       " '1959-Cecil-De-Mille',\n",
       " '1963-W-E-B-DuBois',\n",
       " '1984-Ansel-Adams',\n",
       " '1930-William-Howard-Taft',\n",
       " '1948-Mohandas-K-Gandhi',\n",
       " '1995-Yitzhak-Rabin',\n",
       " '1981-Anwar-el-Sadat',\n",
       " '1982-Leonid-Brezhnev',\n",
       " '1920-Marlene-Dietrich',\n",
       " '1903-James-M-N-Whistler',\n",
       " '1973-Nancy-Mitford',\n",
       " '1986-James-Cagney',\n",
       " '1979-Arthur-Fiedler',\n",
       " '1989-August-A-Busch-Jr',\n",
       " '1963-John-F-Kennedy',\n",
       " '1930-Balfour',\n",
       " '1992-Menachem-Begin',\n",
       " '1986-The-Challenger',\n",
       " '1936-John-W-Heisman',\n",
       " '1998-Theodore-Schultz',\n",
       " '1996-Carl-Sagan',\n",
       " '1979-A-Philip-Randolph',\n",
       " '1968-Helen-Keller',\n",
       " '1974-Charles-Lindbergh',\n",
       " '1910-Florence-Nightingale',\n",
       " '1975-Elijah-Muhammad',\n",
       " '1992-William-Shawn',\n",
       " '1950-Henry-L-Stimson',\n",
       " '1938-George-E-Hale',\n",
       " '1981-Joe-Louis',\n",
       " '1902-Elizabeth-Cady-Stanton',\n",
       " '1951-Henrietta-Lacks',\n",
       " '1991-Peggy-Ashcroft',\n",
       " '1932-Florenz-Ziegfeld',\n",
       " '1984-Ray-A-Kroc',\n",
       " '1931-Thomas-Edison',\n",
       " '1954-Liberty-H-Bailey',\n",
       " '1994-Erik-Erikson',\n",
       " '1960-Richard-Wright',\n",
       " '1933-Louis-C-Tiffany',\n",
       " '1967-J-Robert-Oppenheimer',\n",
       " '1962-Marilyn-Monroe',\n",
       " '1989-Hirohito',\n",
       " '2000-Charles-M-Schulz',\n",
       " '1986-Benny-Goodman',\n",
       " '1965-Adlai-Ewing-Stevenson',\n",
       " '1953-Jim-Thorpe',\n",
       " '1960-Emily-Post',\n",
       " '1934-T-A-Watson',\n",
       " '1965-Albert-Schweitzer',\n",
       " '1886-Mary-Ewing-Outerbridge',\n",
       " '1900-Stephen-Crane',\n",
       " '1965-Edward-R-Murrow',\n",
       " '1998-Helen-Moody',\n",
       " '1993-Dizzy-Gillespie',\n",
       " '1986-Kate-Smith',\n",
       " '1880-Lucretia-Mott',\n",
       " '1989-Ferdinand-Marcos',\n",
       " '1976-J-Paul-Getty',\n",
       " '1952-Eva-Peron',\n",
       " '1987-Rita-Hayworth',\n",
       " '1974-Earl-Warren',\n",
       " '1908-Cleveland',\n",
       " '1971-Igor-Stravinsky',\n",
       " '1911-Joseph-Pulitzer',\n",
       " '1968-Robert-Francis-Kennedy',\n",
       " '1989-William-B-Shockley',\n",
       " '1997-James-Stewart',\n",
       " '1914-John-P-Holland',\n",
       " '1992-Marsha-P-Johnson',\n",
       " '1900-Nietzsche',\n",
       " '1933-Calvin-Coolidge',\n",
       " '1938-Clarence-Darrow',\n",
       " '1964-Rachel-Carson',\n",
       " '1917-Hilaire-G-E-Degas',\n",
       " '1998-Alan-B-Shepard-Jr',\n",
       " '1935-Justice-Holmes',\n",
       " '1984-Ethel-Merman',\n",
       " '1914-John-Muir',\n",
       " '1946-C-E-M-Clung',\n",
       " '1987-Andres-Segovie',\n",
       " '1941-Frank-Conrad',\n",
       " '1972-Jackie-Robinson',\n",
       " '1959-Billie-Holiday',\n",
       " '1987-John-Huston',\n",
       " '1969-Judy-Garland',\n",
       " '1976-Jacques-Monod',\n",
       " '1998-Bella-Abzug',\n",
       " '1963-Robert-Frost',\n",
       " '1977-Dash-Ended',\n",
       " '1984-Richard-Burton',\n",
       " '1992-Shirley-Booth',\n",
       " '1966-Margaret-Sanger',\n",
       " '1982-Arthur-Rubinstein',\n",
       " '1948-Babe-Ruth',\n",
       " '1931-Knute-Rocke',\n",
       " '1938-Constantin-Stanislavsky',\n",
       " '1960-Boris-Pasternak',\n",
       " '1991-Frank-Capra',\n",
       " '1964-Douglas-MacArthur',\n",
       " '1935-Will-Rogers',\n",
       " '1969-Sonja-Henie',\n",
       " '1947-Henry-Ford',\n",
       " '1966-Buster-Keaton',\n",
       " '1995-George-Abbott',\n",
       " '1971-Bobby-Jones',\n",
       " '1944-Alfred-E-Smith',\n",
       " '1989-Samuel-Beckett',\n",
       " '1972-Mahalia-Jackson',\n",
       " '1955-Thomas-Mann',\n",
       " '1993-Thurgood-Marshall',\n",
       " '1963-Sylvia-Plath',\n",
       " '1888-Louisa-M-Alcott',\n",
       " '1901-William-McKinley',\n",
       " '1983-Muddy-Waters',\n",
       " '1990-Leonard-Bernstein',\n",
       " '1989-Claude-Pepper',\n",
       " '1998-Galina-Ulanova',\n",
       " '1971-Louis-Armstrong',\n",
       " '1942-George-M-Cohan',\n",
       " '1915-F-W-Taylor',\n",
       " '1989-Robert-Penn-Warren',\n",
       " '1901-Benjamin-Harrison',\n",
       " '1896-Harriet-Beecher-Stowe',\n",
       " '1910-William-James',\n",
       " '1975-Franco',\n",
       " '1955-Cy-Young',\n",
       " '1935-Adolph-S-Ochs',\n",
       " '1954-Lionel-Barrymore',\n",
       " '1962-William-Faulkner',\n",
       " '1922-Alexander-Graham-Bell',\n",
       " '1971-Florence-Blanchfield',\n",
       " '1944-Ida-M-Tarbell',\n",
       " '1969-Madhubala',\n",
       " '1962-Eleanor-Roosevelt',\n",
       " '1953-Fred-Vinson',\n",
       " '1916-Jack-London',\n",
       " '1941-Virginia-Woolf',\n",
       " '1970-De-Gaulle-Rallied',\n",
       " '1952-Charles-Spaulding',\n",
       " '1977-Charles-Chaplin',\n",
       " '1952-John-Dewey',\n",
       " '1986-Bernard-Malamud',\n",
       " '1974-Katharine-Cornell',\n",
       " '1972-The-Duke-of-Windsor',\n",
       " '1945-FDR',\n",
       " '1992-John-Cage',\n",
       " '1998-Benjamin-Spock',\n",
       " '1971-Ralph-Bunche',\n",
       " '1987-Alf-Landon',\n",
       " '1976-Richard-Daley',\n",
       " '1964-Sean-O-Casey',\n",
       " '1991-Martha-Graham',\n",
       " '1993-Carlos-Montoya',\n",
       " '1976-Adolph-Zukor',\n",
       " '1989-Vladimir-Horowitz',\n",
       " '1975-Walker-Evans',\n",
       " '1964-Cole-Porter',\n",
       " '1968-Yuri-Gagarin',\n",
       " '1894-R-L-Stevenson',\n",
       " '1989-I-F-Stone',\n",
       " '1946-Gertrude-Stein',\n",
       " '1952-Chaim-Weizmann',\n",
       " '1978-Margaret-Mead',\n",
       " '1930-Conan-Doyle',\n",
       " '1976-Max-Ernst',\n",
       " '1939-Pope-Pius-XI',\n",
       " '1977-Joan-Crawford',\n",
       " '1945-Harry-S-Truman',\n",
       " '1998-Fred-W-Friendly',\n",
       " '1932-John-Philip-Sousa',\n",
       " '1936-Anne-Macy',\n",
       " '1982-Lee-Strasberg',\n",
       " '1956-Thomas-J-Watson-Sr',\n",
       " '1985-Orson-Welles',\n",
       " '1909-Geronimo',\n",
       " '1979-Richard-Rodgers',\n",
       " '1955-Albert-Einstein',\n",
       " '1984-Indira-Gandhi',\n",
       " '1941-Lou-Gehrig',\n",
       " '1961-Hammarskjold',\n",
       " '1991-Leo-Durocher',\n",
       " '1978-Golda-Meir',\n",
       " '1975-Haile-Selassie',\n",
       " '1997-Deng-Xiaoping',\n",
       " '1973-Jeanette-Rankin',\n",
       " '1914-Alfred-Thayer-Mahan',\n",
       " '1998-Bob-Kane',\n",
       " '1929-Marie-Curie',\n",
       " '1939-Howard-Carter',\n",
       " '1953-Marjorie-Rawlings',\n",
       " '1965-Branch-Rickey',\n",
       " '1949-Mitchell',\n",
       " '1986-Jorge-Luis-Borges',\n",
       " '1996-Gene-Kelly',\n",
       " '1979-John-Wayne',\n",
       " '1909-Sarah-Orne-Jewett',\n",
       " '1969-Maureen-Connolly',\n",
       " '1971-Diane-Arbus',\n",
       " '2000-Pierre-Trudeau',\n",
       " '1933-Ring-Lardner',\n",
       " '1961-Sam-Rayburn',\n",
       " '1965-Martin-Buber',\n",
       " '1954-Anne-O-Hare-McCormick',\n",
       " '1990-Greta-Garbo',\n",
       " '1959-John-Dulles',\n",
       " '1994-Thomas-P-O-Neill-Jr',\n",
       " '2000-Elliot-Richardson',\n",
       " '1993-William-Golding',\n",
       " '1895-Fred-Douglass',\n",
       " '1930-Elmer-Sperry',\n",
       " '1986-Georgia-O-Keeffe',\n",
       " '1916-Martian-Theory',\n",
       " '1966-Alfred-P-Sloan-Jr',\n",
       " '1958-W-C-Handy',\n",
       " '1973-Pablo-Picasso',\n",
       " '1973-Lyndon-Johnson',\n",
       " '1998-Maureen-O-Sullivan']"
      ]
     },
     "execution_count": 9,
     "metadata": {},
     "output_type": "execute_result"
    }
   ],
   "source": [
    "obit_titles"
   ]
  },
  {
   "cell_type": "markdown",
   "metadata": {},
   "source": [
    "## Get Training Data Stats"
   ]
  },
  {
   "cell_type": "markdown",
   "metadata": {},
   "source": [
    "We can get training data summary statistics by using the function ```little_mallet_wrapper.print_dataset_stats()```."
   ]
  },
  {
   "cell_type": "code",
   "execution_count": 10,
   "metadata": {},
   "outputs": [
    {
     "name": "stdout",
     "output_type": "stream",
     "text": [
      "Number of Documents: 378\n",
      "Mean Number of Words per Document: 1316.5\n",
      "Vocabulary Size: 35955\n"
     ]
    }
   ],
   "source": [
    "little_mallet_wrapper.print_dataset_stats(training_data)"
   ]
  },
  {
   "cell_type": "markdown",
   "metadata": {},
   "source": [
    "According to this little report, we have 378 documents (or obituaries) that average 1316.5 words in length."
   ]
  },
  {
   "cell_type": "markdown",
   "metadata": {},
   "source": [
    "## Training the Topic Model"
   ]
  },
  {
   "cell_type": "markdown",
   "metadata": {},
   "source": [
    "We're going to train our topic model with the `little_mallet_wrapper.train_topic_model()` function. As you can see above, however, this function requires 6 different arguments and file paths to run properly. "
   ]
  },
  {
   "cell_type": "markdown",
   "metadata": {},
   "source": [
    "### Set Number of Topics"
   ]
  },
  {
   "cell_type": "markdown",
   "metadata": {},
   "source": [
    "We need to make a variable `num_topics` and assign it the number of topics we want returned."
   ]
  },
  {
   "cell_type": "code",
   "execution_count": 12,
   "metadata": {},
   "outputs": [],
   "source": [
    "num_topics = 10"
   ]
  },
  {
   "cell_type": "markdown",
   "metadata": {},
   "source": [
    "### Set Training Data"
   ]
  },
  {
   "cell_type": "markdown",
   "metadata": {},
   "source": [
    "We already made a variable called `training_data`, which includes all of our processed obituary texts, so we can just set it equal to itself."
   ]
  },
  {
   "cell_type": "code",
   "execution_count": 13,
   "metadata": {},
   "outputs": [],
   "source": [
    "training_data = training_data"
   ]
  },
  {
   "cell_type": "markdown",
   "metadata": {},
   "source": [
    "### Set Topic Model Output Files"
   ]
  },
  {
   "cell_type": "markdown",
   "metadata": {},
   "source": [
    "Finally, we need to tell Little MALLET Wrapper where to find and output all of our topic modeling results. The code below will set Little MALLET Wrapper up to output your results inside a directory called \"topic-model-output\" and a subdirectory called \"NYT-Obits\", all of which will be inside your current directory.\n",
    "\n",
    "If you'd like to change this output location, simply change `output_directory_path` below."
   ]
  },
  {
   "cell_type": "code",
   "execution_count": 21,
   "metadata": {},
   "outputs": [],
   "source": [
    "#Change to your desired output directory\n",
    "output_directory_path = 'topic-model-output/NYT-Obits'\n",
    "\n",
    "#No need to change anything below here\n",
    "Path(f\"{output_directory_path}\").mkdir(parents=True, exist_ok=True)\n",
    "\n",
    "path_to_training_data           = f\"{output_directory_path}/training.txt\"\n",
    "path_to_formatted_training_data = f\"{output_directory_path}/mallet.training\"\n",
    "path_to_model                   = f\"{output_directory_path}/mallet.model.{str(num_topics)}\"\n",
    "path_to_topic_keys              = f\"{output_directory_path}/mallet.topic_keys.{str(num_topics)}\"\n",
    "path_to_topic_distributions     = f\"{output_directory_path}/mallet.topic_distributions.{str(num_topics)}\"\n",
    "path_to_diagnostics             = f\"{output_directory_path}/diagnostics.xml\"\n",
    "path_to_word_weights            = f\"{output_directory_path}/word.weights\""
   ]
  },
  {
   "cell_type": "markdown",
   "metadata": {},
   "source": [
    "### Import Data"
   ]
  },
  {
   "cell_type": "markdown",
   "metadata": {},
   "source": [
    "Now we import our training data with `little_mallet_wrapper.import_data()`."
   ]
  },
  {
   "cell_type": "code",
   "execution_count": 19,
   "metadata": {},
   "outputs": [
    {
     "name": "stdout",
     "output_type": "stream",
     "text": [
      "Importing data...\n",
      "Complete\n"
     ]
    }
   ],
   "source": [
    "little_mallet_wrapper.import_data(path_to_mallet,\n",
    "                path_to_training_data,\n",
    "                path_to_formatted_training_data,\n",
    "                training_data)"
   ]
  },
  {
   "cell_type": "markdown",
   "metadata": {},
   "source": [
    "### Train Topic Model"
   ]
  },
  {
   "cell_type": "markdown",
   "metadata": {},
   "source": [
    "Finally, we train our topic model with `little_mallet_wrapper.train_topic_model()`. The topic model should take about 45 seconds to 1 minute to fully train and complete. If you want, you can look at your Terminal or PowerShell while it's running and see what the model looks like as it trains."
   ]
  },
  {
   "cell_type": "code",
   "execution_count": 22,
   "metadata": {},
   "outputs": [
    {
     "name": "stdout",
     "output_type": "stream",
     "text": [
      "Training topic model...\n"
     ]
    },
    {
     "name": "stderr",
     "output_type": "stream",
     "text": [
      "Mallet LDA: 10 topics, 4 topic bits, 1111 topic mask\n",
      "Data loaded.\n",
      "max tokens: 19800\n",
      "total tokens: 497642\n",
      "<10> LL/token: -10.02457\n",
      "<20> LL/token: -9.70448\n",
      "<30> LL/token: -9.59392\n",
      "<40> LL/token: -9.53124\n",
      "\n",
      "0\t0.5\tgeneral united war states army time king american gen secretary took made policy later president military peace washington chief nations \n",
      "1\t0.5\tlife new wrote years work miss book many one published later time american story york books women art woman writing \n",
      "2\t0.5\tsaid first one made company years man called never business old came john two chicago new father get york great \n",
      "3\t0.5\tmrs said one men would death people home day white last went kennedy much south times see old two national \n",
      "4\t0.5\tsoviet one would could grant time union life long great mao day end communist never party china world also sent \n",
      "5\t0.5\tpresident state party political government roosevelt new court first house years public said congress leader many justice became truman campaign \n",
      "6\t0.5\tmiss film played play television stage won theater movie broadway said films hollywood director role later movies actor star baseball \n",
      "7\t0.5\twar years world french france british german hitler united germany states power great first however europe britain queen became june \n",
      "8\t0.5\tworld university said writer son first century research critics work author states died professor age heart picasso academy carnegie scientific \n",
      "9\t0.5\tnew times years york music one would band series made could world first public paper began career time jazz news \n",
      "\n",
      "<50> LL/token: -9.49476\n",
      "<60> LL/token: -9.46786\n",
      "<70> LL/token: -9.45007\n",
      "<80> LL/token: -9.43266\n",
      "<90> LL/token: -9.4216\n",
      "\n",
      "0\t0.5\tgeneral war united states army american king gen secretary took president policy first peace military washington later israel men nations \n",
      "1\t0.5\tlife new years wrote miss one work book published later said became york many story american women books art born \n",
      "2\t0.5\tfirst one said made years man company two new business time year old york called great three john louis came \n",
      "3\t0.5\tmrs would said death people could white one men always life day last never times son much home kennedy family \n",
      "4\t0.5\tsoviet could union party one would grant years long mao communist world seemed china great found time received even people \n",
      "5\t0.5\tpresident state new roosevelt public court became political house later said congress party justice government truman campaign many city first \n",
      "6\t0.5\tmiss film said stage theater movie broadway films won hollywood television movies career actor role played star director baseball years \n",
      "7\t0.5\twar world french france british german hitler germany government one years time power united minister became father made britain europe \n",
      "8\t0.5\tworld university professor modern work research human first said picasso states scientific united received also two later age poet prize \n",
      "9\t0.5\tmusic new times york band years one jazz first paper would public news american made pulitzer world ochs began piano \n",
      "\n",
      "<100> LL/token: -9.40873\n",
      "<110> LL/token: -9.39787\n",
      "<120> LL/token: -9.38941\n",
      "<130> LL/token: -9.37633\n",
      "<140> LL/token: -9.36623\n",
      "\n",
      "0\t0.5\tgeneral war united army states king president american gen peace secretary took nations military israel forces west later said foreign \n",
      "1\t0.5\tlife wrote miss new years book said work published one story women later became books time many also woman york \n",
      "2\t0.5\tfirst one made years york new said two man company time business world came name later great died old many \n",
      "3\t0.5\tsaid mrs would one people death could times life day made men went never last always years way old began \n",
      "4\t0.5\tsoviet one would man union could party grant great found long mao communist world life time much china however new \n",
      "5\t0.5\tpresident state roosevelt new public became court house later party political national congress city justice law years truman states would \n",
      "6\t0.5\tmiss film said theater movie won broadway films stage television hollywood career played years movies actor role year baseball director \n",
      "7\t0.5\twar france british german world french hitler government years minister germany became time power britain gandhi queen europe prime first \n",
      "8\t0.5\tuniversity work art professor world research modern united institute picasso science human scientific paris said two poet states age three \n",
      "9\t0.5\tmusic new times band york years first jazz pulitzer ochs paper piano news american began newspaper could would musical style \n",
      "\n",
      "<150> LL/token: -9.35761\n",
      "<160> LL/token: -9.35019\n",
      "<170> LL/token: -9.34104\n",
      "<180> LL/token: -9.33131\n",
      "<190> LL/token: -9.32318\n",
      "\n",
      "0\t0.5\tgeneral war united army president states king american grant gen peace secretary israel military forces took west men washington first \n",
      "1\t0.5\twrote life miss new years work book published one york also books women writing woman became later story said child \n",
      "2\t0.5\tfirst years new one york made said world company year business came three time later name two man father john \n",
      "3\t0.5\tsaid one mrs would could made death never people way time last went times day years always little family men \n",
      "4\t0.5\tsoviet would party life also time found union long however first world new two upon could man mao communist china \n",
      "5\t0.5\tpresident state roosevelt court states public house political united black justice became truman many city law campaign later new congress \n",
      "6\t0.5\tmiss film said theater movie broadway films years hollywood won stage movies actor play later role played career baseball two \n",
      "7\t0.5\twar british france french german hitler government world germany years minister became europe power gandhi queen time prime one britain \n",
      "8\t0.5\tuniversity professor art work research united world institute picasso science scientific american states received human two medal member nobel modern \n",
      "9\t0.5\tmusic new band times jazz york ochs news first piano musical pulitzer paper newspaper composer played began goodman style american \n",
      "\n",
      "<200> LL/token: -9.31941\n",
      "[beta: 0.03564] \n",
      "<210> LL/token: -9.27442\n",
      "[beta: 0.04476] \n",
      "<220> LL/token: -9.33999\n",
      "[beta: 0.04857] \n",
      "<230> LL/token: -9.35859\n",
      "[beta: 0.05065] \n",
      "<240> LL/token: -9.35943\n",
      "\n",
      "0\t0.39114\tgeneral war united army grant gen president states peace secretary israel american military nations first west many forces foreign command \n",
      "1\t0.6661\tmiss wrote life new book years published said work books writing many women also york writer author world american war \n",
      "2\t0.90829\tnew first york years one world company business time became later came two born man year american made many said \n",
      "3\t1.05079\tone said made would mrs life could time times death never man year people years last way old went great \n",
      "4\t0.73142\tsoviet time party new also world however first would even union years one two came early mao communist power china \n",
      "5\t0.4501\tpresident state roosevelt house court united public black states justice truman law became republican congress kennedy many new political democratic \n",
      "6\t0.30871\tfilm miss theater movie films said broadway hollywood won stage also movies years actor played baseball director two role star \n",
      "7\t0.29221\twar hitler government france french minister german british germany gandhi political prime chiang years became prince queen india later world \n",
      "8\t0.339\tart university world work research picasso science institute professor received later scientific paris two american modern medal died oppenheimer society \n",
      "9\t0.1937\tmusic band jazz new ochs years piano musical sinatra composer goodman first played concert york orchestra stravinsky bernstein armstrong playing \n",
      "\n",
      "[beta: 0.05168] \n",
      "<250> LL/token: -9.35382\n",
      "[beta: 0.05247] \n",
      "<260> LL/token: -9.34477\n",
      "[beta: 0.053] \n",
      "<270> LL/token: -9.33673\n",
      "[beta: 0.05355] \n",
      "<280> LL/token: -9.32537\n",
      "[beta: 0.05442] \n",
      "<290> LL/token: -9.31361\n",
      "\n",
      "0\t0.23156\tgeneral war army grant gen president israel united american secretary states military peace command first troops men west macarthur arab \n",
      "1\t0.56263\tmiss wrote new book life published said years work books many writing also york first writer author two later american \n",
      "2\t0.96189\tnew york first years world company two business louis became war one many later died also home money young million \n",
      "3\t1.47263\tone said time would made life years man could times great year never came last much death mrs people long \n",
      "4\t0.63805\tsoviet party world united union political mao communist china two states also years first new even foreign economic leader policy \n",
      "5\t0.37486\tpresident state roosevelt court house black justice truman law republican new united first states kennedy white war senator governor nixon \n",
      "6\t0.26763\tfilm said miss years theater films movie broadway won first hollywood stage movies actor television baseball also played director role \n",
      "7\t0.20185\twar hitler minister king german government british french france germany gandhi prime first queen world india prince britain churchill later \n",
      "8\t0.25811\tart university work world research picasso science institute professor scientific modern american also years artist paris oppenheimer murrow received died \n",
      "9\t0.13449\tmusic band jazz new piano musical sinatra composer years first goodman concert playing orchestra stravinsky two played bernstein armstrong songs \n",
      "\n",
      "[beta: 0.05519] \n",
      "<300> LL/token: -9.30363\n",
      "[beta: 0.05544] \n",
      "<310> LL/token: -9.29025\n",
      "[beta: 0.05618] \n",
      "<320> LL/token: -9.27756\n",
      "[beta: 0.05665] \n",
      "<330> LL/token: -9.26872\n",
      "[beta: 0.05671] \n",
      "<340> LL/token: -9.25354\n",
      "\n",
      "0\t0.17915\tgeneral gen grant war army israel president united military peace states secretary macarthur command arab men american pershing forces israeli \n",
      "1\t0.50674\tmiss wrote book new said life published mrs work york writing many years also writer books two author woman story \n",
      "2\t0.82236\tnew york first business times company years two american world louis many states united died president also year ford war \n",
      "3\t1.72529\tone said time years would made life man could later new year came never long first much people great last \n",
      "4\t0.38222\tsoviet party united war mao communist china states union political world foreign military also truman american chinese stalin leader moscow \n",
      "5\t0.36419\tpresident roosevelt state court justice house states black law united republican mrs political kennedy many governor white senator party washington \n",
      "6\t0.2655\tfilm miss said first movie broadway films theater won years hollywood television two movies actor stage baseball also star made \n",
      "7\t0.17995\twar hitler king german france british minister gandhi germany government queen prince french prime india two churchill sir england britain \n",
      "8\t0.22915\tart university research work picasso professor science institute also world scientific received artist modern years oppenheimer two united paris murrow \n",
      "9\t0.1107\tmusic band jazz new musical piano sinatra years composer miss york goodman two played also first concert stravinsky orchestra bernstein \n",
      "\n",
      "[beta: 0.05749] \n",
      "<350> LL/token: -9.24303\n",
      "[beta: 0.05787] \n",
      "<360> LL/token: -9.23278\n",
      "[beta: 0.0581] \n",
      "<370> LL/token: -9.22653\n",
      "[beta: 0.0587] \n",
      "<380> LL/token: -9.21767\n",
      "[beta: 0.0589] \n",
      "<390> LL/token: -9.20713\n",
      "\n",
      "0\t0.14803\tgeneral gen grant army war israel president peace military american united men command macarthur forces pershing secretary israeli troops arab \n",
      "1\t0.44032\tmiss wrote book new mrs published said life writing books two also writer author york work story american novel mother \n",
      "2\t0.58821\tyork times company new business two louis years first world news paper ford american newspaper oil ochs president year million \n",
      "3\t1.87673\tone said years time first made would later new life man could many came never great people went long became \n",
      "4\t0.26557\tsoviet party united mao communist states china union political truman military foreign war nations chinese leader stalin also moscow deng \n",
      "5\t0.35648\tpresident state roosevelt court united house states justice black mrs law republican congress party political senator governor rights white american \n",
      "6\t0.25696\tfilm miss said won two broadway theater movie films hollywood television first movies actor years stage also played baseball role \n",
      "7\t0.1682\thitler war german british king gandhi minister germany government france queen prince india prime french sir lord england churchill two \n",
      "8\t0.23744\tart university work also picasso research world science professor institute scientific modern american two artist died oppenheimer paris society united \n",
      "9\t0.12432\tmusic band jazz new piano miss musical sinatra years composer goodman also york played concert two orchestra stravinsky playing bernstein \n",
      "\n",
      "[beta: 0.0591] \n",
      "<400> LL/token: -9.19925\n",
      "[beta: 0.05951] \n",
      "<410> LL/token: -9.18673\n",
      "[beta: 0.05973] \n",
      "<420> LL/token: -9.18241\n",
      "[beta: 0.06025] \n",
      "<430> LL/token: -9.17665\n",
      "[beta: 0.06052] \n",
      "<440> LL/token: -9.17088\n",
      "\n",
      "0\t0.13718\tgeneral gen grant army war israel president military peace command men american arab pershing secretary macarthur troops israeli washington forces \n",
      "1\t0.3892\tmiss wrote book published new life york writing mrs books said writer women author novel work magazine american story woman \n",
      "2\t0.40562\tcompany york times business new louis paper news ford oil ochs american newspaper rockefeller pulitzer president hill interest world carnegie \n",
      "3\t1.97853\tone years said first time new would made later many life man could became world year two came great never \n",
      "4\t0.20615\tsoviet party united mao communist china political states military war union nations foreign leader truman stalin chinese moscow economic deng \n",
      "5\t0.34427\tpresident roosevelt state court house justice mrs black united american states republican law white national political senator governor party rights \n",
      "6\t0.27815\tfilm won movie films broadway theater hollywood miss said movies television stage actor york years baseball two game star played \n",
      "7\t0.16053\thitler war german france government gandhi british queen germany minister prince king india french lord churchill britain england sir power \n",
      "8\t0.22647\twork university art professor research picasso science institute american modern scientific paris society world oppenheimer died human received artist age \n",
      "9\t0.12359\tmusic band jazz musical miss piano sinatra new york composer goodman years played orchestra concert stravinsky bernstein playing armstrong style \n",
      "\n",
      "[beta: 0.06076] \n",
      "<450> LL/token: -9.16229\n",
      "[beta: 0.06103] \n",
      "<460> LL/token: -9.15325\n",
      "[beta: 0.06125] \n",
      "<470> LL/token: -9.15199\n",
      "[beta: 0.06178] \n",
      "<480> LL/token: -9.14848\n",
      "[beta: 0.06199] \n",
      "<490> LL/token: -9.14113\n",
      "\n",
      "0\t0.13999\tgeneral gen grant war army israel president american military peace command pershing men troops forces israeli secretary macarthur arab sadat \n",
      "1\t0.34413\tmiss book wrote published life mrs writing books new writer said author work novel york story american magazine women literary \n",
      "2\t0.28999\tyork company business new times louis ford news ochs oil paper american rockefeller pulitzer newspaper hill million carnegie money space \n",
      "3\t2.04021\tone years said first time new would later made two many life world man year could became great also came \n",
      "4\t0.18434\tsoviet party united mao communist china political union war truman military states foreign chinese stalin american deng moscow policy nations \n",
      "5\t0.32617\tpresident state roosevelt court justice house black republican law states political united party washington mrs senator national white governor rights \n",
      "6\t0.26076\tfilm miss said won movie theater broadway films hollywood years movies actor stage television baseball american york star role director \n",
      "7\t0.14762\thitler war king france british german gandhi government minister germany queen prince india england britain sir lord french prime churchill \n",
      "8\t0.21312\tuniversity art work professor picasso research science paris institute american modern scientific world also artist died human oppenheimer society york \n",
      "9\t0.12239\tmusic band jazz new musical miss piano sinatra composer goodman york orchestra played concert stravinsky bernstein works armstrong dance playing \n",
      "\n",
      "[beta: 0.06184] \n",
      "<500> LL/token: -9.13146\n",
      "[beta: 0.0621] \n",
      "<510> LL/token: -9.13304\n",
      "[beta: 0.06251] \n",
      "<520> LL/token: -9.13515\n",
      "[beta: 0.0619] \n",
      "<530> LL/token: -9.1266\n",
      "[beta: 0.06221] \n",
      "<540> LL/token: -9.13363\n",
      "\n",
      "0\t0.14102\tgeneral gen grant army war israel president military american peace command men macarthur pershing arab secretary israeli troops upon forces \n",
      "1\t0.32068\tmiss book wrote published new life mrs said writer writing author books story novel york american work magazine women stories \n",
      "2\t0.24229\tcompany business times york louis new ochs news paper ford oil american rockefeller pulitzer newspaper hill carnegie lindbergh murrow space \n",
      "3\t2.05895\tone years said first time new would later made world many two life man year became could also great came \n",
      "4\t0.17941\tsoviet party united mao communist china war union political states truman foreign nations stalin chinese moscow military deng economic policy \n",
      "5\t0.31063\tpresident state roosevelt court justice black law house states republican political united party kennedy senator governor rights national white american \n",
      "6\t0.25819\tfilm miss won movie films broadway theater hollywood said movies actor television stage director york baseball played role years game \n",
      "7\t0.14137\thitler war german gandhi government germany france queen king minister british prince india britain french churchill prime lord england sir \n",
      "8\t0.21538\tuniversity art work professor picasso research science american paris institute scientific modern also artist society oppenheimer died world human theory \n",
      "9\t0.11266\tmusic band jazz musical new piano miss sinatra composer goodman york orchestra concert stravinsky bernstein dance armstrong playing style musicians \n",
      "\n",
      "[beta: 0.06251] \n",
      "<550> LL/token: -9.13001\n",
      "[beta: 0.06239] \n",
      "<560> LL/token: -9.13142\n",
      "[beta: 0.06237] \n",
      "<570> LL/token: -9.127\n",
      "[beta: 0.06267] \n",
      "<580> LL/token: -9.12498\n",
      "[beta: 0.06262] \n",
      "<590> LL/token: -9.12469\n",
      "\n",
      "0\t0.12918\tgeneral gen grant army war israel president military peace command macarthur arab pershing men american troops israeli forces sadat secretary \n",
      "1\t0.29317\tmiss book wrote published new life mrs writing books writer author said york novel work story magazine stories women literary \n",
      "2\t0.22912\tcompany business new times york louis ford oil ochs news paper newspaper rockefeller pulitzer carnegie hill lindbergh million money murrow \n",
      "3\t2.05867\tone years said first time new would later two made many world life man year became could also great never \n",
      "4\t0.17165\tsoviet party united mao communist china union political states war military foreign economic chinese nations stalin policy moscow truman deng \n",
      "5\t0.31584\tpresident roosevelt state court house justice black political republican law united national white party senator states congress governor campaign democratic \n",
      "6\t0.23676\tfilm won miss said movie broadway theater films hollywood actor movies television stage baseball director york played role game show \n",
      "7\t0.14579\thitler war german gandhi germany government british king france queen prince minister india sir england french lord churchill prime britain \n",
      "8\t0.21184\tart university work professor picasso research science paris scientific institute artist oppenheimer received human society york american also world modern \n",
      "9\t0.11616\tmusic band jazz miss musical piano new sinatra composer york goodman orchestra concert playing played works stravinsky bernstein song armstrong \n",
      "\n",
      "[beta: 0.06274] \n",
      "<600> LL/token: -9.12532\n",
      "[beta: 0.06267] \n",
      "<610> LL/token: -9.12595\n",
      "[beta: 0.06305] \n",
      "<620> LL/token: -9.12746\n",
      "[beta: 0.06301] \n",
      "<630> LL/token: -9.12497\n",
      "[beta: 0.06282] \n",
      "<640> LL/token: -9.12176\n",
      "\n",
      "0\t0.13297\tgeneral gen grant army war israel president military peace men command arab pershing israeli troops secretary upon macarthur forces king \n",
      "1\t0.29045\tmiss book wrote published new mrs writing writer life work york said books author novel story stories magazine literary read \n",
      "2\t0.22256\tcompany times business york new louis ochs paper oil news ford rockefeller pulitzer newspaper hill carnegie lindbergh space murrow chicago \n",
      "3\t2.06547\tyears one said first time new later would made two many world year life man became could also never came \n",
      "4\t0.17659\tsoviet party mao communist united china political union truman foreign war chinese stalin economic military moscow deng states nations leader \n",
      "5\t0.31688\tpresident roosevelt state court house justice black united republican white law states party office political senator kennedy government governor campaign \n",
      "6\t0.24379\tfilm miss movie won films broadway said hollywood theater movies actor television stage baseball york played three first star role \n",
      "7\t0.14282\thitler war france german gandhi government british germany minister queen king prince india french lord prime britain power england sir \n",
      "8\t0.20748\tuniversity art professor work research picasso science world institute paris scientific also oppenheimer society artist modern theory atomic painting age \n",
      "9\t0.10828\tmusic band jazz miss musical piano sinatra composer new goodman orchestra played concert york stravinsky bernstein armstrong playing musicians songs \n",
      "\n",
      "[beta: 0.06282] \n",
      "<650> LL/token: -9.12595\n",
      "[beta: 0.06261] \n",
      "<660> LL/token: -9.12095\n",
      "[beta: 0.0631] \n",
      "<670> LL/token: -9.12399\n",
      "[beta: 0.06309] \n",
      "<680> LL/token: -9.12271\n",
      "[beta: 0.06297] \n",
      "<690> LL/token: -9.12496\n",
      "\n",
      "0\t0.12121\tgeneral gen grant war army israel president military peace command men pershing arab secretary israeli king macarthur forces troops sadat \n",
      "1\t0.27833\tmiss book wrote published life writing author writer new york books novel mrs work story said magazine stories literary woman \n",
      "2\t0.22339\tcompany business times york louis ford paper new ochs oil news rockefeller newspaper pulitzer hill carnegie lindbergh murrow getty barnum \n",
      "3\t2.07477\tone years said first time new later made would two many life world year man also could became american great \n",
      "4\t0.18366\tsoviet party united mao communist china political foreign union states war truman nations military leader chinese stalin moscow policy deng \n",
      "5\t0.3118\tpresident roosevelt state court house justice black states law united republican mrs political senator white party office governor rights democratic \n",
      "6\t0.23743\tfilm miss said films movie won broadway theater hollywood television movies actor stage baseball years first played york director star \n",
      "7\t0.1545\thitler war german government france british gandhi germany minister queen prince king french india sir britain lord england churchill prime \n",
      "8\t0.2088\tuniversity work art professor picasso research institute science scientific paris world human artist modern oppenheimer society medal atomic philosophy arts \n",
      "9\t0.10568\tmusic band jazz miss musical piano sinatra composer york goodman new played orchestra stravinsky bernstein concert playing works armstrong dance \n",
      "\n",
      "[beta: 0.06274] \n",
      "<700> LL/token: -9.12547\n",
      "[beta: 0.06302] \n",
      "<710> LL/token: -9.12109\n",
      "[beta: 0.063] \n",
      "<720> LL/token: -9.12417\n",
      "[beta: 0.06311] \n",
      "<730> LL/token: -9.12368\n",
      "[beta: 0.0633] \n",
      "<740> LL/token: -9.12164\n",
      "\n",
      "0\t0.12761\tgeneral gen grant army war israel president military men peace command secretary pershing arab troops israeli macarthur forces upon sadat \n",
      "1\t0.27449\tmiss book wrote published writing said life writer books author mrs york new novel magazine work story literary stories read \n",
      "2\t0.20757\tcompany business times york new paper louis ochs ford news oil rockefeller pulitzer newspaper hill carnegie lindbergh million space murrow \n",
      "3\t2.07864\tone years said first time new later made would world many two life man year became could also american great \n",
      "4\t0.18074\tsoviet party united mao communist china political union foreign truman nations military war chinese stalin states economic moscow deng leader \n",
      "5\t0.30887\tpresident roosevelt state court house black justice law states republican party mrs political senator governor congress kennedy white campaign democratic \n",
      "6\t0.23968\tfilm miss said movie theater won broadway films hollywood movies actor york stage baseball director television game role star played \n",
      "7\t0.14474\thitler war german france gandhi british germany king government queen minister prince india french lord england churchill prime britain gaulle \n",
      "8\t0.2237\tart university work professor research picasso science institute scientific paris modern artist oppenheimer society world york medal human atomic age \n",
      "9\t0.11019\tmusic band jazz musical miss piano sinatra new composer goodman york played orchestra concert stravinsky bernstein armstrong dance musicians song \n",
      "\n",
      "[beta: 0.06343] \n",
      "<750> LL/token: -9.12415\n",
      "[beta: 0.06329] \n",
      "<760> LL/token: -9.12431\n",
      "[beta: 0.06322] \n",
      "<770> LL/token: -9.1187\n",
      "[beta: 0.06299] \n",
      "<780> LL/token: -9.11921\n",
      "[beta: 0.06303] \n",
      "<790> LL/token: -9.11966\n",
      "\n",
      "0\t0.13437\tgeneral gen grant army war israel president peace military command arab troops men pershing upon israeli macarthur secretary union king \n",
      "1\t0.27373\tmiss book wrote published writing life new books mrs said writer novel author work story york magazine stories literary read \n",
      "2\t0.21611\ttimes company business york louis new ford ochs oil news paper rockefeller newspaper pulitzer hill carnegie lindbergh murrow space million \n",
      "3\t2.07057\tone years said first time new later made world two would many life man year became american also could great \n",
      "4\t0.17037\tsoviet party united mao communist china political union war foreign states military truman nations policy stalin chinese moscow economic deng \n",
      "5\t0.303\tpresident roosevelt state court justice house black states republican white mrs political law office senator governor rights party democratic election \n",
      "6\t0.23682\tfilm miss said won broadway movie films theater hollywood years movies actor stage television baseball director york role star played \n",
      "7\t0.13416\thitler war german france gandhi british government germany queen minister prince french india king england lord churchill britain sir gaulle \n",
      "8\t0.20863\tuniversity art professor work research picasso science institute scientific paris modern artist also world oppenheimer society human medal theory york \n",
      "9\t0.10555\tmusic band jazz musical piano miss sinatra composer goodman york played concert stravinsky orchestra bernstein armstrong singer dance musicians songs \n",
      "\n",
      "[beta: 0.0633] \n",
      "<800> LL/token: -9.12077\n",
      "[beta: 0.06321] \n",
      "<810> LL/token: -9.11544\n",
      "[beta: 0.06344] \n",
      "<820> LL/token: -9.11933\n",
      "[beta: 0.06328] \n",
      "<830> LL/token: -9.1204\n",
      "[beta: 0.06346] \n",
      "<840> LL/token: -9.11759\n",
      "\n",
      "0\t0.14464\tgeneral gen grant army war israel president military peace command men king macarthur pershing arab troops secretary israeli union sadat \n",
      "1\t0.26826\tmiss book wrote published writing books life writer new mrs said author novel york story magazine stories literary work women \n",
      "2\t0.19715\tcompany times new business york louis ford ochs oil paper news rockefeller newspaper pulitzer hill carnegie lindbergh space murrow getty \n",
      "3\t2.06881\tone years said first time new later would made two world many life year man became could american also great \n",
      "4\t0.16711\tsoviet party united mao communist china union political truman foreign war states nations stalin military chinese moscow deng economic president \n",
      "5\t0.30267\tpresident roosevelt state court justice house black states republican united law party mrs governor white senator kennedy office democratic nixon \n",
      "6\t0.22915\tfilm miss said won films movie theater broadway hollywood movies actor television baseball stage played york first role years director \n",
      "7\t0.14438\thitler war german british gandhi government france queen germany prince india minister french king britain sir churchill lord england prime \n",
      "8\t0.21227\tart university work professor research picasso science institute paris human scientific modern world artist oppenheimer arts society age medal atomic \n",
      "9\t0.10578\tmusic band jazz musical miss piano sinatra new composer goodman york orchestra concert stravinsky bernstein armstrong dance songs playing musicians \n",
      "\n",
      "[beta: 0.06324] \n",
      "<850> LL/token: -9.1185\n",
      "[beta: 0.06329] \n",
      "<860> LL/token: -9.11749\n",
      "[beta: 0.06351] \n",
      "<870> LL/token: -9.11998\n",
      "[beta: 0.0634] \n",
      "<880> LL/token: -9.11901\n",
      "[beta: 0.0635] \n",
      "<890> LL/token: -9.11578\n",
      "\n",
      "0\t0.13448\tgeneral gen grant army war israel president peace military men command arab forces pershing troops macarthur upon israeli states secretary \n",
      "1\t0.26987\tmiss book wrote published writer books life writing mrs novel author york story said new work magazine literary stories read \n",
      "2\t0.18335\tcompany york business times louis ochs ford new oil news paper rockefeller pulitzer newspaper hill carnegie lindbergh murrow money getty \n",
      "3\t2.06675\tyears one said first time new later would made two many life world man year american became could also great \n",
      "4\t0.1781\tsoviet party united mao communist china political union foreign states military war truman nations stalin chinese moscow deng economic leader \n",
      "5\t0.28494\tpresident roosevelt state court justice house states black republican law mrs political united party senator rights governor white kennedy congress \n",
      "6\t0.23433\tfilm miss movie broadway films said theater won hollywood york movies stage actor role baseball director television star played first \n",
      "7\t0.14911\thitler war german france british gandhi germany minister king queen government prince india french england prime lord sir churchill britain \n",
      "8\t0.21609\tuniversity art work professor picasso research science institute paris scientific world modern artist human oppenheimer society age arts prize died \n",
      "9\t0.10755\tmusic band jazz musical miss piano sinatra new composer goodman york concert playing orchestra stravinsky played bernstein armstrong musicians dance \n",
      "\n",
      "[beta: 0.06349] \n",
      "<900> LL/token: -9.11677\n",
      "[beta: 0.06293] \n",
      "<910> LL/token: -9.11313\n",
      "[beta: 0.06328] \n",
      "<920> LL/token: -9.1189\n",
      "[beta: 0.0634] \n",
      "<930> LL/token: -9.11763\n",
      "[beta: 0.06329] \n",
      "<940> LL/token: -9.11955\n",
      "\n",
      "0\t0.14764\tgeneral grant gen army war israel president military peace men macarthur arab command pershing troops upon israeli states forces union \n",
      "1\t0.26527\tmiss book wrote published life writer writing author books novel work mrs york story said magazine literary stories read editor \n",
      "2\t0.19638\tcompany business times york louis ochs ford oil paper new rockefeller news newspaper pulitzer hill carnegie president lindbergh million murrow \n",
      "3\t2.07379\tone years said first new time would later two made many life world man year american became could also old \n",
      "4\t0.16651\tsoviet party united mao communist china political union nations truman foreign military states economic stalin chinese leader war deng moscow \n",
      "5\t0.30258\tpresident roosevelt state court house justice black republican law united mrs political congress governor states campaign senator party democratic office \n",
      "6\t0.2365\tfilm won movie miss broadway theater said films hollywood movies actor york stage television baseball played director role actress made \n",
      "7\t0.13336\thitler war german gandhi france king government british queen minister germany prince india sir french england lord britain churchill power \n",
      "8\t0.22791\tart university work professor research picasso science institute paris scientific modern society world received artist human oppenheimer age atomic theory \n",
      "9\t0.11088\tmusic band jazz musical miss piano sinatra composer goodman orchestra played concert stravinsky york bernstein armstrong style musicians playing works \n",
      "\n",
      "[beta: 0.06339] \n",
      "<950> LL/token: -9.1195\n",
      "[beta: 0.06301] \n",
      "<960> LL/token: -9.11576\n",
      "[beta: 0.06325] \n",
      "<970> LL/token: -9.12066\n",
      "[beta: 0.06307] \n",
      "<980> LL/token: -9.11851\n",
      "[beta: 0.06327] \n",
      "<990> LL/token: -9.11615\n",
      "\n",
      "0\t0.1422\tgeneral gen grant army israel war president military peace command men arab pershing upon israeli macarthur troops forces secretary sadat \n",
      "1\t0.26424\tmiss book wrote published life writing new author books writer novel said york mrs work magazine story stories literary written \n",
      "2\t0.20495\tcompany business times york louis ford ochs news new oil paper newspaper rockefeller pulitzer hill carnegie lindbergh murrow space flight \n",
      "3\t2.08013\tone years said first time new later would made two world many life man year became american could also great \n",
      "4\t0.17499\tsoviet party united mao communist china political union truman foreign military nations war leader stalin chinese states moscow deng economic \n",
      "5\t0.29367\tpresident state roosevelt court house justice black mrs states republican party law political senator governor united democratic congress campaign white \n",
      "6\t0.24208\tfilm miss movie films broadway theater won said hollywood actor movies television first stage baseball director career played role made \n",
      "7\t0.14813\thitler war german british france gandhi government minister king germany queen prince india power england french prime lord churchill britain \n",
      "8\t0.20766\tuniversity art work professor research picasso science institute scientific modern paris society artist oppenheimer also human age medal nature world \n",
      "9\t0.10676\tmusic band jazz miss musical piano sinatra composer goodman new played orchestra concert stravinsky armstrong bernstein works dance musicians playing \n",
      "\n",
      "[beta: 0.06371] \n",
      "<1000> LL/token: -9.11941\n",
      "\n",
      "Total time: 46 seconds\n"
     ]
    },
    {
     "name": "stdout",
     "output_type": "stream",
     "text": [
      "Complete\n"
     ]
    }
   ],
   "source": [
    "little_mallet_wrapper.train_topic_model(path_to_mallet,\n",
    "                      path_to_formatted_training_data,\n",
    "                      path_to_model,\n",
    "                      path_to_topic_keys,\n",
    "                      path_to_topic_distributions,\n",
    "                      path_to_word_weights,\n",
    "                      path_to_diagnostics,\n",
    "                      num_topics)"
   ]
  },
  {
   "cell_type": "markdown",
   "metadata": {},
   "source": [
    "When the topic model finishes, it will output your results to your `output_directory_path`."
   ]
  },
  {
   "cell_type": "markdown",
   "metadata": {},
   "source": [
    "## Display Topics and Top Words"
   ]
  },
  {
   "cell_type": "markdown",
   "metadata": {},
   "source": [
    "To examine the 10 topics that the topic model extracted from the *NYT* obituaries, run the cell below. This code uses the `little_mallet_wrapper.load_topic_keys()` function to read and process the MALLET topic model output from your computer, specifically the file \"mallet.topic_keys.10\".\n",
    "\n",
    ">*Take a minute to read through every topic. Reflect on what each topic seems to capture as well as how well you think the topics capture the broad themes of the entire collection. Note any oddities, outliers, or inconsistencies.*"
   ]
  },
  {
   "cell_type": "code",
   "execution_count": 23,
   "metadata": {},
   "outputs": [
    {
     "name": "stdout",
     "output_type": "stream",
     "text": [
      "✨Topic 0✨\n",
      "\n",
      "['general', 'gen', 'grant', 'army', 'war', 'israel', 'president', 'military', 'peace', 'men', 'secretary', 'arab', 'pershing', 'command', 'israeli', 'troops', 'upon', 'macarthur', 'forces', 'union']\n",
      "\n",
      "✨Topic 1✨\n",
      "\n",
      "['miss', 'book', 'wrote', 'published', 'life', 'writing', 'books', 'author', 'writer', 'new', 'novel', 'said', 'mrs', 'york', 'work', 'story', 'magazine', 'stories', 'literary', 'read']\n",
      "\n",
      "✨Topic 2✨\n",
      "\n",
      "['company', 'business', 'times', 'york', 'louis', 'new', 'ford', 'ochs', 'news', 'paper', 'oil', 'rockefeller', 'pulitzer', 'newspaper', 'hill', 'carnegie', 'lindbergh', 'murrow', 'chicago', 'building']\n",
      "\n",
      "✨Topic 3✨\n",
      "\n",
      "['one', 'years', 'said', 'first', 'time', 'new', 'later', 'would', 'made', 'two', 'many', 'world', 'life', 'year', 'man', 'became', 'american', 'could', 'also', 'great']\n",
      "\n",
      "✨Topic 4✨\n",
      "\n",
      "['soviet', 'party', 'united', 'mao', 'communist', 'china', 'political', 'truman', 'union', 'nations', 'foreign', 'military', 'states', 'chinese', 'stalin', 'moscow', 'deng', 'economic', 'policy', 'leader']\n",
      "\n",
      "✨Topic 5✨\n",
      "\n",
      "['president', 'roosevelt', 'state', 'court', 'house', 'justice', 'black', 'republican', 'law', 'states', 'senator', 'governor', 'political', 'party', 'mrs', 'congress', 'white', 'national', 'office', 'washington']\n",
      "\n",
      "✨Topic 6✨\n",
      "\n",
      "['film', 'said', 'miss', 'movie', 'broadway', 'theater', 'films', 'won', 'hollywood', 'movies', 'actor', 'stage', 'television', 'baseball', 'played', 'york', 'star', 'role', 'first', 'game']\n",
      "\n",
      "✨Topic 7✨\n",
      "\n",
      "['hitler', 'war', 'german', 'government', 'france', 'gandhi', 'british', 'germany', 'king', 'minister', 'queen', 'prince', 'india', 'prime', 'england', 'britain', 'lord', 'sir', 'churchill', 'power']\n",
      "\n",
      "✨Topic 8✨\n",
      "\n",
      "['university', 'work', 'art', 'professor', 'research', 'picasso', 'science', 'institute', 'scientific', 'paris', 'modern', 'artist', 'human', 'society', 'oppenheimer', 'world', 'age', 'received', 'also', 'theory']\n",
      "\n",
      "✨Topic 9✨\n",
      "\n",
      "['music', 'band', 'jazz', 'miss', 'piano', 'musical', 'sinatra', 'composer', 'goodman', 'york', 'orchestra', 'new', 'concert', 'stravinsky', 'played', 'dance', 'bernstein', 'armstrong', 'works', 'playing']\n",
      "\n"
     ]
    }
   ],
   "source": [
    "topics = little_mallet_wrapper.load_topic_keys(path_to_topic_keys)\n",
    "\n",
    "for topic_number, topic in enumerate(topics):\n",
    "    print(f\"✨Topic {topic_number}✨\\n\\n{topic}\\n\")"
   ]
  },
  {
   "cell_type": "markdown",
   "metadata": {},
   "source": [
    "## Load Topic Distributions"
   ]
  },
  {
   "cell_type": "markdown",
   "metadata": {},
   "source": [
    "MALLET also calculates the likely mixture of these topics for every single obituary in the corpus. This mixture is really a probability distribution, that is, the probability that each topic exists in the document. We can use these probability distributions to examine which of the above topics are strongly associated with which specific obituaries.\n",
    "\n",
    "To get the topic distributions, we're going to use the `little_mallet_wrapper.load_topic_distributions()` function, which will read and process the MALLET topic model output, specifically the file \"mallet.topic_distributions.15\"."
   ]
  },
  {
   "cell_type": "code",
   "execution_count": 24,
   "metadata": {},
   "outputs": [],
   "source": [
    "topic_distributions = little_mallet_wrapper.load_topic_distributions(path_to_topic_distributions)"
   ]
  },
  {
   "cell_type": "markdown",
   "metadata": {},
   "source": [
    "If we look at the 32nd topic distribution in this list of `topic_distributions`, which corresponds to Marilyn Monroe's obituary, we will see a list of 15 probabilities. This  list corresponds to the likelihood that each of the 15 topics exists in Marilyn Monroe's obituary."
   ]
  },
  {
   "cell_type": "code",
   "execution_count": 25,
   "metadata": {},
   "outputs": [
    {
     "data": {
      "text/plain": [
       "[0.0013685401927629355,\n",
       " 0.0015205178948515348,\n",
       " 0.0026520837385956074,\n",
       " 0.4256433985293957,\n",
       " 0.14446288697452003,\n",
       " 0.014773083778170699,\n",
       " 0.0051066923260161,\n",
       " 0.4040858826585377,\n",
       " 0.000250702100360261,\n",
       " 0.00013621180678954073]"
      ]
     },
     "execution_count": 25,
     "metadata": {},
     "output_type": "execute_result"
    }
   ],
   "source": [
    "topic_distributions[32]"
   ]
  },
  {
   "cell_type": "markdown",
   "metadata": {},
   "source": [
    "It's a bit easier to understand if we pair these probabilities with the topics themselves. As you can see below, Topic 0 \"miss film theater movie broadway films\" has a relatively high probability of existing in Marilyn Monroe's obituary `.202` while Topic 5 \"soviet hitler german germany stalin union\" has a relatively low probability `.002`. This seems to comport with what we know about Marilyn Monroe."
   ]
  },
  {
   "cell_type": "code",
   "execution_count": 26,
   "metadata": {},
   "outputs": [
    {
     "name": "stdout",
     "output_type": "stream",
     "text": [
      "Topic Distributions for 1962-Marilyn-Monroe\n",
      "\n",
      "✨Topic 0 ['general', 'gen', 'grant', 'army', 'war', 'israel'] ✨\n",
      "Probability: 0.011\n",
      "\n",
      "✨Topic 1 ['miss', 'book', 'wrote', 'published', 'life', 'writing'] ✨\n",
      "Probability: 0.078\n",
      "\n",
      "✨Topic 2 ['company', 'business', 'times', 'york', 'louis', 'new'] ✨\n",
      "Probability: 0.007\n",
      "\n",
      "✨Topic 3 ['one', 'years', 'said', 'first', 'time', 'new'] ✨\n",
      "Probability: 0.553\n",
      "\n",
      "✨Topic 4 ['soviet', 'party', 'united', 'mao', 'communist', 'china'] ✨\n",
      "Probability: 0.0\n",
      "\n",
      "✨Topic 5 ['president', 'roosevelt', 'state', 'court', 'house', 'justice'] ✨\n",
      "Probability: 0.0\n",
      "\n",
      "✨Topic 6 ['film', 'said', 'miss', 'movie', 'broadway', 'theater'] ✨\n",
      "Probability: 0.336\n",
      "\n",
      "✨Topic 7 ['hitler', 'war', 'german', 'government', 'france', 'gandhi'] ✨\n",
      "Probability: 0.0\n",
      "\n",
      "✨Topic 8 ['university', 'work', 'art', 'professor', 'research', 'picasso'] ✨\n",
      "Probability: 0.003\n",
      "\n",
      "✨Topic 9 ['music', 'band', 'jazz', 'miss', 'piano', 'musical'] ✨\n",
      "Probability: 0.011\n",
      "\n"
     ]
    }
   ],
   "source": [
    "obituary_to_check = \"1962-Marilyn-Monroe\"\n",
    "\n",
    "obit_number = obit_titles.index(obituary_to_check)\n",
    "\n",
    "print(f\"Topic Distributions for {obit_titles[obit_number]}\\n\")\n",
    "for topic_number, (topic, topic_distribution) in enumerate(zip(topics, topic_distributions[obit_number])):\n",
    "    print(f\"✨Topic {topic_number} {topic[:6]} ✨\\nProbability: {round(topic_distribution, 3)}\\n\")"
   ]
  },
  {
   "cell_type": "markdown",
   "metadata": {},
   "source": [
    "## Explore Heatmap of Topics and Texts"
   ]
  },
  {
   "cell_type": "markdown",
   "metadata": {},
   "source": [
    "We can visualize and compare these topic probability distributions with a heatmap by using the `little_mallet_wrapper.plot_categories_by_topics_heatmap()` function.\n",
    "\n",
    "We have everything we need for the heatmap except for our list of target_labels, the sample of texts that we’d like to visualize and compare with the heatmap. Below we make our list of desired target labels."
   ]
  },
  {
   "cell_type": "code",
   "execution_count": 27,
   "metadata": {},
   "outputs": [],
   "source": [
    "target_labels = ['1852-Ada-Lovelace', '1885-Ulysses-Grant',\n",
    "                 '1900-Nietzsche', '1931-Ida-B-Wells', '1940-Marcus-Garvey',\n",
    "                 '1941-Virginia-Woolf', '1954-Frida-Kahlo', '1962-Marilyn-Monroe',\n",
    "                 '1963-John-F-Kennedy', '1964-Nella-Larsen', '1972-Jackie-Robinson',\n",
    "                 '1973-Pablo-Picasso', '1984-Ray-A-Kroc','1986-Jorge-Luis-Borges', '1991-Miles-Davis',\n",
    "                 '1992-Marsha-P-Johnson', '1993-Cesar-Chavez']"
   ]
  },
  {
   "cell_type": "markdown",
   "metadata": {},
   "source": [
    "If you'd like to make a random list of target labels, you can uncomment and run the cell below."
   ]
  },
  {
   "cell_type": "code",
   "execution_count": null,
   "metadata": {},
   "outputs": [],
   "source": [
    "#import random\n",
    "#target_labels = random.sample(obit_titles, 10)"
   ]
  },
  {
   "cell_type": "code",
   "execution_count": 28,
   "metadata": {},
   "outputs": [
    {
     "data": {
      "image/png": "[encoded data removed]",
      "text/plain": [
       "<Figure size 720x648 with 2 Axes>"
      ]
     },
     "metadata": {},
     "output_type": "display_data"
    }
   ],
   "source": [
    "little_mallet_wrapper.plot_categories_by_topics_heatmap(obit_titles,\n",
    "                                      topic_distributions,\n",
    "                                      topics, \n",
    "                                      output_directory_path + '/categories_by_topics.pdf',\n",
    "                                      target_labels=target_labels,\n",
    "                                      dim= (10, 9)\n",
    "                                     )"
   ]
  },
  {
   "cell_type": "markdown",
   "metadata": {},
   "source": [
    "The darker squares in this heatmap represent a high probability for the corresponding topic (compared to everyone else in the heatmap) and the lighter squares in the heatmap represent a low probability for the corresponding topic. For example, if you scan across the row of Marilyn Monroe, you can see a dark square for the topic \"miss film theater movie theater broadway\". If you scan across the row of Ada Lovelace, an English mathematician who is now recognized as the first computer programmer, according to her [NYT obituary](https://www.nytimes.com/interactive/2018/obituaries/overlooked-ada-lovelace.html), you can see a dark square for \"university professor research science also\"."
   ]
  },
  {
   "cell_type": "markdown",
   "metadata": {},
   "source": [
    "## Display Top Titles Per Topic"
   ]
  },
  {
   "cell_type": "markdown",
   "metadata": {},
   "source": [
    "We can also display the obituaries that have the highest probability for every topic with the `little_mallet_wrapper.get_top_docs()` function.\n",
    "\n",
    "Because most of the obituaries in our corpus are pretty long, however, it will be more useful for us to simply display the title of each obituary, rather than the entire document—at least as a first step. To do so, we'll first need to make two dictionaries, which will allow us to find the corresponding obituary title and the original text from a given training document."
   ]
  },
  {
   "cell_type": "code",
   "execution_count": 29,
   "metadata": {},
   "outputs": [],
   "source": [
    "training_data_obit_titles = dict(zip(training_data, obit_titles))\n",
    "training_data_original_text = dict(zip(training_data, original_texts))"
   ]
  },
  {
   "cell_type": "markdown",
   "metadata": {},
   "source": [
    "Then we'll make our own function `display_top_titles_per_topic()` that will display the top text titles for every topic. This function accepts a given `topic_number` as well as a desired `number_of_documents` to display."
   ]
  },
  {
   "cell_type": "code",
   "execution_count": 30,
   "metadata": {},
   "outputs": [],
   "source": [
    "def display_top_titles_per_topic(topic_number=0, number_of_documents=5):\n",
    "    \n",
    "    print(f\"✨Topic {topic_number}✨\\n\\n{topics[topic_number]}\\n\")\n",
    "\n",
    "    for probability, document in little_mallet_wrapper.get_top_docs(training_data, topic_distributions, topic_number, n=number_of_documents):\n",
    "        print(round(probability, 4), training_data_obit_titles[document] + \"\\n\")\n",
    "    return"
   ]
  },
  {
   "cell_type": "markdown",
   "metadata": {},
   "source": [
    "**Topic 0**"
   ]
  },
  {
   "cell_type": "markdown",
   "metadata": {},
   "source": [
    "To display the top 5 obituary titles with the highest probability of containing Topic 0, we will run:"
   ]
  },
  {
   "cell_type": "code",
   "execution_count": 31,
   "metadata": {},
   "outputs": [
    {
     "name": "stdout",
     "output_type": "stream",
     "text": [
      "✨Topic 0✨\n",
      "\n",
      "['general', 'gen', 'grant', 'army', 'war', 'israel', 'president', 'military', 'peace', 'men', 'secretary', 'arab', 'pershing', 'command', 'israeli', 'troops', 'upon', 'macarthur', 'forces', 'union']\n",
      "\n",
      "0.4984 1877-Bedford-Forrest\n",
      "\n",
      "0.4805 1870-Robert-E-Lee\n",
      "\n",
      "0.4319 1885-Ulysses-Grant\n",
      "\n",
      "0.431 1966-Chester-Nimitz\n",
      "\n",
      "0.4228 1909-Geronimo\n",
      "\n"
     ]
    }
   ],
   "source": [
    "display_top_titles_per_topic(topic_number=0, number_of_documents=5)"
   ]
  },
  {
   "cell_type": "markdown",
   "metadata": {},
   "source": [
    "**Topic 0 Label**: What label would you give this topic?"
   ]
  },
  {
   "cell_type": "markdown",
   "metadata": {},
   "source": [
    "ANSWER HERE"
   ]
  },
  {
   "cell_type": "markdown",
   "metadata": {},
   "source": [
    "**Topic 9**"
   ]
  },
  {
   "cell_type": "markdown",
   "metadata": {},
   "source": [
    "To display the top 5 obituary titles with the highest probability of containing Topic 9, we will run:"
   ]
  },
  {
   "cell_type": "code",
   "execution_count": 32,
   "metadata": {},
   "outputs": [
    {
     "name": "stdout",
     "output_type": "stream",
     "text": [
      "✨Topic 9✨\n",
      "\n",
      "['music', 'band', 'jazz', 'miss', 'piano', 'musical', 'sinatra', 'composer', 'goodman', 'york', 'orchestra', 'new', 'concert', 'stravinsky', 'played', 'dance', 'bernstein', 'armstrong', 'works', 'playing']\n",
      "\n",
      "0.6612 1983-Earl-Hines\n",
      "\n",
      "0.622 1993-Dizzy-Gillespie\n",
      "\n",
      "0.6008 1991-Miles-Davis\n",
      "\n",
      "0.5706 1993-Carlos-Montoya\n",
      "\n",
      "0.5428 1986-Benny-Goodman\n",
      "\n"
     ]
    }
   ],
   "source": [
    "display_top_titles_per_topic(topic_number=9, number_of_documents=5)"
   ]
  },
  {
   "cell_type": "markdown",
   "metadata": {},
   "source": [
    "**Topic 9 Label**: What label would you give this topic?"
   ]
  },
  {
   "cell_type": "markdown",
   "metadata": {},
   "source": [
    "ANSWER HERE"
   ]
  },
  {
   "cell_type": "markdown",
   "metadata": {},
   "source": [
    "## Display Topic Words in Context of Original Text"
   ]
  },
  {
   "cell_type": "markdown",
   "metadata": {},
   "source": [
    "Often it's useful to actually look at the document that has ranked highly for a given topic and puzzle out why it ranks so highly."
   ]
  },
  {
   "cell_type": "markdown",
   "metadata": {},
   "source": [
    "To display the original obituary texts that rank highly for a given topic, with the relevant topic words **bolded** for emphasis, we are going to make the function `display_bolded_topic_words_in_context()`.\n",
    "\n",
    "In the cell below, we're importing two special Jupyter notebook display modules, which will allow us to make the relevant topic words **bolded**, as well as the regular expressions library `re`, which will allow us to find and replace the correct words."
   ]
  },
  {
   "cell_type": "code",
   "execution_count": 33,
   "metadata": {},
   "outputs": [],
   "source": [
    "from IPython.display import Markdown, display\n",
    "import re\n",
    "\n",
    "def display_bolded_topic_words_in_context(topic_number=3, number_of_documents=3, custom_words=None):\n",
    "\n",
    "    for probability, document in little_mallet_wrapper.get_top_docs(training_data, topic_distributions, topic_number, n=number_of_documents):\n",
    "        \n",
    "        print(f\"✨Topic {topic_number}✨\\n\\n{topics[topic_number]}\\n\")\n",
    "        \n",
    "        probability = f\"✨✨✨\\n\\n**{probability}**\"\n",
    "        obit_title = f\"**{training_data_obit_titles[document]}**\"\n",
    "        original_text = training_data_original_text[document]\n",
    "        topic_words = topics[topic_number]\n",
    "        topic_words = custom_words if custom_words != None else topic_words\n",
    "\n",
    "        for word in topic_words:\n",
    "            if word in original_text:\n",
    "                original_text = re.sub(f\"\\\\b{word}\\\\b\", f\"**{word}**\", original_text)\n",
    "\n",
    "        display(Markdown(probability)), display(Markdown(obit_title)), display(Markdown(original_text))\n",
    "    return"
   ]
  },
  {
   "cell_type": "markdown",
   "metadata": {},
   "source": [
    "**Topic 3**"
   ]
  },
  {
   "cell_type": "markdown",
   "metadata": {},
   "source": [
    "To display the top 3 original obituaries with the highest probability of containing Topic 0 and with relevant topic words bolded, we will run:"
   ]
  },
  {
   "cell_type": "code",
   "execution_count": 34,
   "metadata": {},
   "outputs": [
    {
     "name": "stdout",
     "output_type": "stream",
     "text": [
      "✨Topic 3✨\n",
      "\n",
      "['one', 'years', 'said', 'first', 'time', 'new', 'later', 'would', 'made', 'two', 'many', 'world', 'life', 'year', 'man', 'became', 'american', 'could', 'also', 'great']\n",
      "\n"
     ]
    },
    {
     "data": {
      "text/markdown": [
       "✨✨✨\n",
       "\n",
       "**0.7272408469200601**"
      ],
      "text/plain": [
       "<IPython.core.display.Markdown object>"
      ]
     },
     "metadata": {},
     "output_type": "display_data"
    },
    {
     "data": {
      "text/markdown": [
       "**1919-C-J-Walker**"
      ],
      "text/plain": [
       "<IPython.core.display.Markdown object>"
      ]
     },
     "metadata": {},
     "output_type": "display_data"
    },
    {
     "data": {
      "text/markdown": [
       "May 26, 1919\n",
       "\n",
       " OBITUARY\n",
       "\n",
       " Wealthiest Negress Dead\n",
       "\n",
       " By THE NEW YORK TIMES\n",
       "\n",
       " Mrs. C. J. Walker, known as New York's wealthiest negress, having accumulated a fortune from the sale of so-called anti-kink hair tonic and from real estate investments in the last fourteen **years**, died yesterday morning at her country estate at Irvington-on-Hudson.\n",
       "\n",
       " She was proprietor of the Madame Walker hair dressing parlors at 108 West 136th Street and other places in the city. Her death recalled the unusual story of how she rose in twelve **years** from a washerwoman making only $1.50 a day to a position of wealth and influence among members of her race.\n",
       "\n",
       " Estimates of Mrs. Walker's fortune had run up to $1,000,000. She **said** herself **two** **years** ago that she was not yet a millionaire, but hoped to be some **time**, not that she wanted the money for herself, but for the good she **could** do with it. She spent $10,000 every **year** for the education of young negro men and women in Southern colleges and sent six youths to Tuskegee Institute every **year**. She recently gave $5,000 to the National Conference on\n",
       "\n",
       " Lynching.\n",
       "\n",
       " Born fifty-**one** **years** ago, she was married at 14, and was left a widow at 20 with a little girl to support. She worked as a cook, washerwoman, and the like until she had reached the age of about 37. One morning while bending over her wash she suddenly realized that there was no prospect on her meager wage of laying away anything for old age.\n",
       "\n",
       " She had often **said** that **one** night shortly afterward she had a dream and something told her to start a hair tonic business, which she did, in Denver, Col., on a capital of $1.25.\n",
       "\n",
       " In a few **years** she had accumulated a large sum, and invested in real estate in the West and South and in New York State, nearly all the property greatly increasing in value. She then owned a $50,000 home in the northern part of this city, which some **years** ago she gave to her daughter, Mrs. Lelia Walker Robinson, associated with her in business.\n",
       "\n",
       " In 1917 Madame Walker completed at Irvington, on the banks of the Hudson, a mansion which cost $250,000, and since then had **made** her home there. The house, which is **one** of the show places in the vicinity, is three stories high and consists of thirty or more rooms. She had installed in this home an $8,000 organ with furnishings, including bronze and marble statuary, cut glass candelabra, tapestries, and paintings, **said** to be of intrinsic beauty and value.\n",
       "\n",
       " \n",
       "\n"
      ],
      "text/plain": [
       "<IPython.core.display.Markdown object>"
      ]
     },
     "metadata": {},
     "output_type": "display_data"
    },
    {
     "name": "stdout",
     "output_type": "stream",
     "text": [
      "✨Topic 3✨\n",
      "\n",
      "['one', 'years', 'said', 'first', 'time', 'new', 'later', 'would', 'made', 'two', 'many', 'world', 'life', 'year', 'man', 'became', 'american', 'could', 'also', 'great']\n",
      "\n"
     ]
    },
    {
     "data": {
      "text/markdown": [
       "✨✨✨\n",
       "\n",
       "**0.6993520875403538**"
      ],
      "text/plain": [
       "<IPython.core.display.Markdown object>"
      ]
     },
     "metadata": {},
     "output_type": "display_data"
    },
    {
     "data": {
      "text/markdown": [
       "**1922-Nellie-Bly**"
      ],
      "text/plain": [
       "<IPython.core.display.Markdown object>"
      ]
     },
     "metadata": {},
     "output_type": "display_data"
    },
    {
     "data": {
      "text/markdown": [
       "January 28, 1922\n",
       "\n",
       " OBITUARY\n",
       "\n",
       " Nellie Bly, Journalist, Dies of Pneumonia\n",
       "\n",
       " By THE NEW YORK TIMES\n",
       "\n",
       " Mrs. Elizabeth Cochrane Seaman, known to thousands of people throughout the **world** as Nellie Bly, her nom de plume, died yesterday morning of pneumonia at the age of 57 in St. Mark's Hospital, to which she was removed a few days ago from her rooms in the Hotel McAlpin. Services will be held at 2 o'clock tomorrow afternoon at the Church of the Ascension, Fifth Avenue and Tenth Street.\n",
       "\n",
       " Friends may view the body today at the funeral parlors of Herbert H. Baxter, 597 Lexington Avenue.\n",
       "\n",
       " Born at Cochrane's Mills, Pa., a town founded by her father, Judge Cochrane, Elizabeth Cochrane found herself penniless when still in her teens and began her journalistic career writing for a Pittsburgh paper at $5 a week. Later she reached a high water mark of $25,000 earned with her pen in **one** **year**.\n",
       "\n",
       " She went down into the sea in a diving bell and up in the air in a balloon and lived in an insane asylum as a patient; but the feat that **made** her famous was her trip around the **world** in 1889. She was sent by The World to beat the mark of Phileas Fogg, Jules Verne's hero of \"Around the World in Eighty Days,\" and she succeeded, making the tour in 72 days 6 hours 11 minutes. Every **one** who read newspapers followed her progress and she landed in New York a national character.\n",
       "\n",
       " In 1895, she married Robert L. Seaman, forty **years** her senior, President of the American Steel Barrel Company and the Ironclad Manufacturing Company. They lived happily together at 15 West Thirty-Seventh\n",
       "\n",
       " Street, and on Mr. Seaman's death in 1910 she took entire charge of the properties. Luck turned against her, however, and a series of forgeries by her employees, disputes of various sorts, bankruptcy and a mass of vexations and costly litigations swallowed up Nellie Bly's fortune. Her courage and liveliness remained, however, and she returned to journalism with all her old spirit. At the **time** of her death she was a member of the staff of The New York Evening Journal.\n",
       "\n",
       " \n",
       "\n"
      ],
      "text/plain": [
       "<IPython.core.display.Markdown object>"
      ]
     },
     "metadata": {},
     "output_type": "display_data"
    },
    {
     "name": "stdout",
     "output_type": "stream",
     "text": [
      "✨Topic 3✨\n",
      "\n",
      "['one', 'years', 'said', 'first', 'time', 'new', 'later', 'would', 'made', 'two', 'many', 'world', 'life', 'year', 'man', 'became', 'american', 'could', 'also', 'great']\n",
      "\n"
     ]
    },
    {
     "data": {
      "text/markdown": [
       "✨✨✨\n",
       "\n",
       "**0.6942232330226512**"
      ],
      "text/plain": [
       "<IPython.core.display.Markdown object>"
      ]
     },
     "metadata": {},
     "output_type": "display_data"
    },
    {
     "data": {
      "text/markdown": [
       "**1960-Emily-Post**"
      ],
      "text/plain": [
       "<IPython.core.display.Markdown object>"
      ]
     },
     "metadata": {},
     "output_type": "display_data"
    },
    {
     "data": {
      "text/markdown": [
       "September 27, 1960\n",
       "\n",
       " OBITUARY\n",
       "\n",
       " Emily Post Is Dead Here at 86; Writer was Arbiter of Etiquette\n",
       "\n",
       " By THE NEW YORK TIMES\n",
       "\n",
       " Mrs. Emily Post, for **many** **years** a leading authority on all matters of social good form, died Sunday in her apartment at 39 East Seventy-ninth Street after a brief illness. Her age was 86.\n",
       "\n",
       " In a **time** when **many** believed that good manners were necessarily elaborate, Mrs. Post was a pioneer in simplifying them.\n",
       "\n",
       " If you picked up the wrong fork, there was a possibility that your hostess was wrong in having too **many** forks, Mrs. Post taught. It wasn't necessarily you who were wrong. She believed that what was socially right was what was socially simple and unaffected.\n",
       "\n",
       " She taught as the basis of all correct deportment that \"no **one** should do anything that can either annoy or offend the sensibilities of others.\" Thousands found their social problems solved by her simple counsels. Her name **became** synonymous with good manners.\n",
       "\n",
       " Mrs. Post's advice was varied. She gave suggestions about how to inculcate good manners in an active 7-**year**-old boy and she **could** and did answer complicated questions about the proper way to address titled persons of Europe.\n",
       "\n",
       " But for the most part she advised the debutante, the confused suitor and the newly married couple who wished to establish themselves in good relations with the **world** about them. She always avoided giving lonelyhearts advice and never suggested ways to capture a husband or wife, although **many** young persons found courtship easier because of what she **said**.\n",
       "\n",
       " When Mrs. Post's **first** widely known book, \"Etiquette,\" was published in 1922, **many** of the existing handbooks of social usage presupposed wealth and elegance on the part of the reader. Mrs. Post offered advice to society as it was and answered basic problems that confront ordinary people who want to have good manners. Every edition of her book emphasized the basic rule of etiquette: make the other person comfortable. The book was revised ten times and was in its eighty-ninth printing.\n",
       "\n",
       " For **many** **years** Mrs. Post had a radio program and a daily column, which is still being syndicated to more than 200 newspapers. Her mail was enormous and she had to set up a special office to handle it.\n",
       "\n",
       " Chaperones Decline\n",
       "\n",
       " It was largely due to Mrs. Post's gentle guidance in the modern frame of mind that the chaperone tended to become a less important feature of society. The duties of the chapeone and, indeed, the very chaperone herself, tended to disappear from **later** editions of Mrs. Post's book. However, when a bachelor girl asked her if it was correct to visit a **man** alone in his apartment, she always **said** no.\n",
       "\n",
       " Mrs. Post never **made** capital out of her own social position, which was excellent. She had **first**-hand knowledge of the social **world** at Bar Harbor, Me., where she spent her summers, and she traveled extensively in Europe.\n",
       "\n",
       " In addition to establishing herself as a leading authority on good manners, Mrs. Post enjoyed some success as a fiction writer. She wrote a novel, \"The Title Market,\" and her short stories as well as her articles on good social usage appeared in such magazines as Scribners and Colliers.\n",
       "\n",
       " She even wrote a cook book, which was widely sold under the title, \"The Emily Post Cook Book.\" Other books by Mrs. Post include \"The Personality of a House,\" \"Children Are People,\" \"How to Behave Though a Debutante,\" \"Purple and Fine Linen,\" \"By Motor to the Golden Gate\" and \"The Eagle's Feather.\" Her **first** book, \"Flight of the Moth,\" appeared in 1904.\n",
       "\n",
       " In 1946 Mrs. Post founded the Emily Post Institute, where problems of gracious living were to be studied. Mrs. Post trained the staff herself.\n",
       "\n",
       " Born in Baltimore in 1873, Mrs. Post was a daughter of Bruce and Josephine Lee Price. Her father was an architect. She was educated privately at home and atttended a finishing school in New York, where her family moved when she was 10.\n",
       "\n",
       " Mrs. Post was about 5 feet 9 inches tall and had soft gray hair and blue eyes. Her pet dislikes were pretentious people, dirty silver and hostesses who served themselves **first**. She liked terrapin, boiled hominy and strawberry and **could** tell how they should be cooked and served and when each was appropriate in a meal.\n",
       "\n",
       " For **many** **years** she spent part of her summers in a 170-**year**-old house in Edgartown, Martha's Vineyard, Mass. She designed the decorations of the house herself and supervised its remodeling.\n",
       "\n",
       " Last **year** Mrs. Post wrote a series of columns about motor manners. She had long been appalled by the thoughtlessness of persons driving in traffic and sought to set down a few simple maxims of good manners to take the scowl and snarl out of automobile driving.\n",
       "\n",
       " Mrs. Post was the center of a notable contretemps when she spilled a spoonful of berries at a dinner of the Gourmet Society here in 1938. With faultless etiquette, the ninety-**two** members of the society pretended not to notice, and continued eating. The press, perhaps a bit less mannerly, **made** the most of the little faux pas, but Mrs. Post laughed it off.\n",
       "\n",
       " Applied Common Sense\n",
       "\n",
       " Mrs. Post seldom hesitated to answer a question in her field and often she simply applied common sense to the problem. Once she was called upon to settle the question: Is dunking doughnuts correct?\" She answered: \"Any place that **would** have doughnuts **would** be like a picnic, where, short of smearing wet doughuts from ear to ear, you **could** do pretty much as you pleased. You wouldn't have doughnuts at a formal dinner anyway.\"\n",
       "\n",
       " Elbows on the table while eating? Mrs. Post **said**: \"The rule is against elbows on the table while eating. If not using the arm as a lever swinging a fork or spoon from plate to mouth, it really doesn't make much difference.\" \"Etiquette,\" she once **said**, \"is the science of living. It embraces everything. It is the code of sportsmanship and of honor. It is ethics.\"\n",
       "\n",
       " In 1892 Emily Price was married to Edwin Main Post, a banker, member of a family widely known in social circles on Long Island. This marriage was terminated by divorce. Mr. Post drowned in a sailboat accident in Fire Island Inlet. Two sons, Edwin M. Post\n",
       "\n",
       " Jr. and Bruce Price Post were born to this marriage. Bruce Price Post died in 1927. A grandson, William Goadby Post, **also** survives.\n",
       "\n",
       " A funeral service will be held Thursday at 10.30 A.M. in St. James Protestant Episcopal Church, Madison Avenue at Seventy-**first** Street. Burial will be private.\n",
       "\n",
       " \n",
       "\n"
      ],
      "text/plain": [
       "<IPython.core.display.Markdown object>"
      ]
     },
     "metadata": {},
     "output_type": "display_data"
    }
   ],
   "source": [
    "display_bolded_topic_words_in_context(topic_number=3, number_of_documents=3)"
   ]
  },
  {
   "cell_type": "markdown",
   "metadata": {},
   "source": [
    "**Topic 8**"
   ]
  },
  {
   "cell_type": "markdown",
   "metadata": {},
   "source": [
    "To display the top 3 original obituaries with the highest probability of containing Topic 8 and with relevant topic words bolded, we will run:"
   ]
  },
  {
   "cell_type": "code",
   "execution_count": 35,
   "metadata": {},
   "outputs": [
    {
     "name": "stdout",
     "output_type": "stream",
     "text": [
      "✨Topic 8✨\n",
      "\n",
      "['university', 'work', 'art', 'professor', 'research', 'picasso', 'science', 'institute', 'scientific', 'paris', 'modern', 'artist', 'human', 'society', 'oppenheimer', 'world', 'age', 'received', 'also', 'theory']\n",
      "\n"
     ]
    },
    {
     "data": {
      "text/markdown": [
       "✨✨✨\n",
       "\n",
       "**0.5866357058680108**"
      ],
      "text/plain": [
       "<IPython.core.display.Markdown object>"
      ]
     },
     "metadata": {},
     "output_type": "display_data"
    },
    {
     "data": {
      "text/markdown": [
       "**1959-Ross-G-Harrison**"
      ],
      "text/plain": [
       "<IPython.core.display.Markdown object>"
      ]
     },
     "metadata": {},
     "output_type": "display_data"
    },
    {
     "data": {
      "text/markdown": [
       "October 1, 1959\n",
       "\n",
       " OBITUARY\n",
       "\n",
       " Ross G. Harrison, Yale Zoologist, 89\n",
       "\n",
       " Special to The New York Times\n",
       "\n",
       " NEW HAVEN, Sept. 30--retired director of the Osborn Zoological Laboratory of Yale University and a pioneer in the embryonic transplantation and culture of animal tissue outside the organism, died at his home here today. He was 89 years old.\n",
       "\n",
       " Dr. Harrison, who was Sterling Professor of Biology Emeritus at Yale, had earned international fame as a zoologist and biologist. He formerly served as chairman of the National Research Council and headed that body from 1938 to 1946.\n",
       "\n",
       " In 1907 Dr. Harrison first adopted the hanging drop culture method to the study of embryonic tissues. His observation that the outgrowth of the nerve from the parent cell body demonstrated that the outgrowth was a form of protoplasmic movement settled a long-standing controversy as to the formation and fundamental nature of nerve fibers.\n",
       "\n",
       " An outgrowth of the tissue-culture technique was the growth of poliomyelitis virus on monkey kidney cells. The technique was cited in an $8,000 award Dr. Harrison **received** in 1956 from the Academia Nazionale dei Lincei, the oldest of Italy's scholarly national societies.\n",
       "\n",
       " Through his successful development of a method of transplanting organs by removing embryonic cells at early stages of development from their normal positions and placing them either in another part of the same embryo or even another embryo it became possible to trace the subsequent development of the particular cells or organ that had been transplanted.\n",
       "\n",
       " Dr. Harrison had served for seventeen years as Sterling Professor at Yale. He was born in Germantown, Philadelphia, a son of Samuel and Katherine Diggs Harrison, on Jan. 13, 1870. He was graduated from\n",
       "\n",
       " Johns Hopkins University with a Bachelor of Arts degree in 1889 and **received** a Ph.D. there in 1894.\n",
       "\n",
       " Five years later he **received** a Doctor of Medicine degree at Bonn University in Germany. He subsequently was granted honorary degrees by Yale, Harvard and Columbia Universities and the Universities of\n",
       "\n",
       " Cincinnati, Michigan, Dublin, Chicago, Freiburg and Budapest.\n",
       "\n",
       " Dr. Harrison began his teaching career at Bryn Mawr College as a lecturer in morphology in 1894.\n",
       "\n",
       " For many years Dr. Harrison, who wrote numerous papers in his fields of study, was the editor of The Journal of Experimental Zoology. He served **also** as a trustee of the Marine Biological Laboratory at\n",
       "\n",
       " Woods Hole, Mass., and the Bermuda Biological Station.\n",
       "\n",
       " Surviving Dr. Harrison are his widow, the former Ida Lange; three daughters, Miss Dorothea Harrison of Concord, Mass; Dr. Elizabeth Ross Harrison, a New Haven pediatrician, and Mrs. Rufus Putney of Boulder,\n",
       "\n",
       " Col.; two sons, Ross Granville Harrison Jr., of Darien, Conn., and Richard Edes Harrison of New York; seven grandchildren and one great-grandchild.\n",
       "\n",
       " \n",
       "\n"
      ],
      "text/plain": [
       "<IPython.core.display.Markdown object>"
      ]
     },
     "metadata": {},
     "output_type": "display_data"
    },
    {
     "name": "stdout",
     "output_type": "stream",
     "text": [
      "✨Topic 8✨\n",
      "\n",
      "['university', 'work', 'art', 'professor', 'research', 'picasso', 'science', 'institute', 'scientific', 'paris', 'modern', 'artist', 'human', 'society', 'oppenheimer', 'world', 'age', 'received', 'also', 'theory']\n",
      "\n"
     ]
    },
    {
     "data": {
      "text/markdown": [
       "✨✨✨\n",
       "\n",
       "**0.5830294970064629**"
      ],
      "text/plain": [
       "<IPython.core.display.Markdown object>"
      ]
     },
     "metadata": {},
     "output_type": "display_data"
    },
    {
     "data": {
      "text/markdown": [
       "**1950-A-J-Dempster**"
      ],
      "text/plain": [
       "<IPython.core.display.Markdown object>"
      ]
     },
     "metadata": {},
     "output_type": "display_data"
    },
    {
     "data": {
      "text/markdown": [
       "March 12, 1950\n",
       "\n",
       " OBITUARY\n",
       "\n",
       " Dr. A. J. Dempster, Physicist, 63, Dead\n",
       "\n",
       " Special to THE NEW YORK TIMES\n",
       "\n",
       " CHICAGO, March 11--Dr. Arthur J. Dempster, Professor of Physics at the University of Chicago and discoverer of uranium 235, an essential element of the atomic bomb, died today of a heart attack in Stuart, Fla., where he was spending a vacation. He was 63 years old.\n",
       "\n",
       " An authority on mass spectroscopy and on the relative stability of the nuclei of atoms, Dr. Dempster was internationally known for his experiments establishing the large release of energy in the fission of uranium.\n",
       "\n",
       " His early **work** was in the study of isotopes, on which he made the first quantitative study of atomic weight. Regarded as the principal authority on positive rays, he made extensive studies that brought about the discovery that protons go through helium without being appreciably deflected.\n",
       "\n",
       " Dr. Dempster discovered that the protons of a hydrogen atom have wave characteristics and that they vibrate at 1,000,000 times the frequency of light waves. This frequency was comparable to that of cosmic rays, although the wave form was different.\n",
       "\n",
       " He had been a member of the University of Chicago faculty since 1917, and had been a full **professor** since 1927. He was elected to the National Academy of Sciences, and won the $1,000 award of the American Association for the Advancement of Science and the Lewis award of the American Philosophical Society.\n",
       "\n",
       " Dr. Dempster, who **received** a doctorate from the University of Chicago in 1916, had taken Bachelor's and Master's degrees at the University of Toronto in 1909 and 1910, respectively. The University of Toronto awarded to him an honorary Doctor of Philosophy degree in 1937.\n",
       "\n",
       " In the first World War, Dr. Dempster served with the Army Signal Corps as an expert on wireless telegraphy.\n",
       "\n",
       " He leaves his wife, Mrs. Germaine Colette Dempster, who was with him at his death. They had no children.\n",
       "\n",
       " \n",
       "\n"
      ],
      "text/plain": [
       "<IPython.core.display.Markdown object>"
      ]
     },
     "metadata": {},
     "output_type": "display_data"
    },
    {
     "name": "stdout",
     "output_type": "stream",
     "text": [
      "✨Topic 8✨\n",
      "\n",
      "['university', 'work', 'art', 'professor', 'research', 'picasso', 'science', 'institute', 'scientific', 'paris', 'modern', 'artist', 'human', 'society', 'oppenheimer', 'world', 'age', 'received', 'also', 'theory']\n",
      "\n"
     ]
    },
    {
     "data": {
      "text/markdown": [
       "✨✨✨\n",
       "\n",
       "**0.5769945310499387**"
      ],
      "text/plain": [
       "<IPython.core.display.Markdown object>"
      ]
     },
     "metadata": {},
     "output_type": "display_data"
    },
    {
     "data": {
      "text/markdown": [
       "**1967-Gregory-Pincus**"
      ],
      "text/plain": [
       "<IPython.core.display.Markdown object>"
      ]
     },
     "metadata": {},
     "output_type": "display_data"
    },
    {
     "data": {
      "text/markdown": [
       "August 23, 1967\n",
       "\n",
       " OBITUARY\n",
       "\n",
       " Dr. Pincus, Developer of Birth-Control Pill, Dies\n",
       "\n",
       " Special to The New York Times\n",
       "\n",
       " BOSTON, Aug. 22--Dr. Gregory Goodwin Pincus, one of the three \"fathers\" of the birth-control pill, died here tonight at Peter Bent Brigham Hospital of myeloid metaplasia, a rare blood disease. He was 64 years old and lived in Northboro.\n",
       "\n",
       " Expert on Reproduction\n",
       "\n",
       " With Dr. M. C. Chang, a senior scientist of the Worcester Foundation, and Dr. John Rock, head of the Rock Reproductive Clinic of Brookline, Mass., Dr. Pincus developed a relatively safe and simple oral contraceptive that revolutionized family planning.\n",
       "\n",
       " The Pill, as it has come to be called, not only revolutionized methods of birth control, but **also** introduced the previously taboo topic as a subject for worldwide debate on curbing overpopulation.\n",
       "\n",
       " Women were cautious in accepting it when it was first marketed in 1960 but today more than six million American women--nearly one-fifth of those of childbearing **age**--are believed to be using it--and the number is growing.\n",
       "\n",
       " Dr. Pincus was **research** director of the Worcester Foundation for Experimental Biology, and his interest included many aspects of hormone studies. He was an authority in mammalian reproduction and a pioneer in cancer **research**.\n",
       "\n",
       " Studied Adrenal Hormone\n",
       "\n",
       " In the late nineteen-forties Dr. Pincus focused his attention on the role of hormones in his study of reproduction. With a grant from the National Institute of Arthritis and Metabolic Diseases of the Public Health Service in the fifties, he began a study of the properties of hydrocortisone, an adrenal hormone.\n",
       "\n",
       " These experiments involved the use of progesterone, a female hormone secretion that is triggered by ovulation. The hormone thickens the walls of the Fallopian tubes and the womb in preparation for the fertilized egg. Progesterone **also** safeguards against overlapping pregnancies by preventing further fertilization and thus serves as a natural birth-control agent.\n",
       "\n",
       " Dr. Pincus and Dr. Chang began to discuss the possibility of a synthetic progesterone. They experimented with more than 200 substances before settling upon three steroid compounds derived from the roots of the wild Mexican yam. These seemed to prevent ovulation in laboratory animals.\n",
       "\n",
       " It was at this time that the two biologists teamed up with Dr. Rock, a Roman Catholic gynecologist and obstetrician, who was **also** working with progesterone to cure infertility in his childless patients.\n",
       "\n",
       " Dr. Chang made the basic experimental observations, while Dr. Pincus worked the findings into the over-all **research** scheme. \"Pincus can interrupt a critical problem to take 10 phone calls and then switch his mind back to the problem in a second,\" an associate said. \"Recognizing people and **human** frailties as they exist, he has freed himself from emotional turbulence.\"\n",
       "\n",
       " Tested in 3 Areas\n",
       "\n",
       " In 1956, Dr. Pincus began experiments in Brookline, Mass., Puerto Rico and Haiti with the steroids in pill form on hundreds of women. Again success was reported. In 1957 the Food and Drug Administration authorized the marketing of the steroids for miscarriage and certain menstrual disorders, and in 1960, the Federal agency licensed Enovid, a contraceptive pill.\n",
       "\n",
       " The pill is believed to be 100 per cent effective, and the very few pregnancies that have been reported among pill-users are believed to be errors in negligence in remembering to take the pill.\n",
       "\n",
       " The pill is taken daily for 20 days, during which time ovulation is impossible. The egg, instead of being released and passed into the Fallopian tubes, where fertilization could take place, is simply reabsorbed within the ovary. Within five days after the pills are stopped the woman begins to menstruate again. On the fifth day of menstruation, the next 20-day pill cycle is begun.\n",
       "\n",
       " Dr. Chang and Dr. Pincus had been working recently on a new pill, known popularly as the \"morning-after\" pill. It affects the egg after ovulation. During the seven days or more required for the fertilized egg to become implanted in the uterus, the pill expels the egg from the Fallopian tubes and uterus before implantation can occur.\n",
       "\n",
       " Dr. Pincus was **also** credited with the development of Estrone, a hormone used in the treatment of breast cancer and pregnancy complications.\n",
       "\n",
       " Dr. Pincus, a bushy-haired man with a gray mustache and dark, burning eyes, was born in Woodbine, N. J., on April 9, 1903, and later credited two uncles, both agricultural scientists, as responsible for his early interest in **research**. \"As long as I can remember, I knew I was going to be a scientist,\" he once recalled. He went to Cornell and **received** a bachelor's degree in agriculture in 1924. Then he went to Harvard where he was an instructor in zoology while **also** working toward his master's and doctorate degrees.\n",
       "\n",
       " From 1927 to 1930 he moved from Harvard to Cambridge University in England to the Kaiser Wilhelm Institute in Berlin, conducting **research**. He became an instructor in general physiology at Harvard in 1930 and was promoted a year later to assistant **professor**.\n",
       "\n",
       " By 1938, at the **age** of 35, he was already an international authority on the sex of mammals and sex hormones, and more than 70 of his **research** papers had been published.\n",
       "\n",
       " Dr. Pincus became known to the general public when newspapers printed articles about his experiments and **research** with \"fatherless\" rabbits.\n",
       "\n",
       " In 1939, while a **professor** of experimental zoology at Clark University in Worchester, Mass., he brought about the first fatherless mammalian birth in history by inducing parthenogenesis in a female rabbit. He used high temperature, hormone treatments and salt solutions to fertilize the ovum in a test tube.\n",
       "\n",
       " He then implanted the developing egg in the reproductive tract of the female rabbit, where the egg matured through the normal stages.\n",
       "\n",
       " But the **research** **also** caused him prolonged embarrassment. In May of that year, he went to Toronto to report on his experiments to a meeting of the Federation of American Societies for Experimental Biology.\n",
       "\n",
       " He said emphatically that he was not planning to carry on his experiments with rabbits to see if **human** babies could be made by test-tube method. But a report of his remarks omitted the word \"not,\" and he was thereafter called upon frequently, both here and abroad, to deny that he was trying \"to create **human** life in the laboratory.\"\n",
       "\n",
       " The Worcester Foundation had been created the previous year, and Dr. Pincus and Dr. Hoagland interested local businessmen and professionals in raising funds to purchase a 12-acre estate at Shrewsbury, Mass., where the foundation's main buildings are now located.\n",
       "\n",
       " The foundation was formally incorporated in 1944, with Dr. Pincus as a co-director. The 20th anniversary report indicated some of the scope of the foundation's activities: **research** in the fields of steroids, cancer **research**, studies of the **human** aging process, possible chemical causes of schizophrenia and other mental diseases and the relationship of hormones to heart disease.\n",
       "\n",
       " In 1940, he was asked what he saw in the future on the basis of his early experiments. \"I can't tell,\" he replied, \"but there are no big steps, there are all little steps. We have to follow processes systematically. The big questions are: why does an egg start to develop and why does it continue to develop.\"\n",
       "\n",
       " Concurrent with his **work** at the foundation, Dr. Pincus served as **research** **professor** at the Tufts College Medical School from 1946 to 1950 and as **research** **professor** in biology at Boston University from 1950 until his death.\n",
       "\n",
       " The **work** of the foundation attracted eminent scientists from all parts of the **world**. More than 300 scientists from 40 countries are currently involved in foundation **research**.\n",
       "\n",
       " Cited Many Times\n",
       "\n",
       " Dr. Pincus was a member or chairman of many important **research** committees of the National Institute of Health of the United States Public Health Service and **also** of the National Research Council.\n",
       "\n",
       " He was the recipient of numerous prizes and awards, including the Albert D. Lasker Award in Planned Parenthood, 1960; the Modern Medicine Award for Distinguished Achievement in 1964; and the American Medical Association Scientific Achievement Award in 1967.\n",
       "\n",
       " His books included \"The Eggs of Mammals,\" published in 1936, and \"The Control of Fertility,\" published in 1965.\n",
       "\n",
       " Dr. Pincus is survived by his widow, the former Elizabeth Notkin, whom he married in 1924; a son, John; a daughter, Mrs. Laura Bernard; three brothers, Lee, Maurice, and Alexis; a sister, Mrs. Charles O. Dutton, and four grandchildren.\n",
       "\n",
       " A funeral service will be held on Friday at 11 A.M. at Temple Emanuel, Chandler Street, Worcester. Burial will be private.\n",
       "\n",
       " \n",
       "\n"
      ],
      "text/plain": [
       "<IPython.core.display.Markdown object>"
      ]
     },
     "metadata": {},
     "output_type": "display_data"
    }
   ],
   "source": [
    "display_bolded_topic_words_in_context(topic_number=8, number_of_documents=3)"
   ]
  },
  {
   "cell_type": "markdown",
   "metadata": {},
   "source": [
    "## Your Turn!"
   ]
  },
  {
   "cell_type": "markdown",
   "metadata": {},
   "source": [
    "Choose a topic from the results above and write down its corresponding topic number below."
   ]
  },
  {
   "cell_type": "markdown",
   "metadata": {},
   "source": [
    "**Topic: *Your Number Choice Here***"
   ]
  },
  {
   "cell_type": "markdown",
   "metadata": {},
   "source": [
    "**1.** Display the top 6 obituary titles for this topic."
   ]
  },
  {
   "cell_type": "code",
   "execution_count": null,
   "metadata": {},
   "outputs": [],
   "source": [
    "#Your Code Here"
   ]
  },
  {
   "cell_type": "markdown",
   "metadata": {},
   "source": [
    "**2.** Display the topic words in the context of the original obituary for these 6 top titles."
   ]
  },
  {
   "cell_type": "code",
   "execution_count": null,
   "metadata": {},
   "outputs": [],
   "source": [
    "#Your Code Here"
   ]
  },
  {
   "cell_type": "markdown",
   "metadata": {},
   "source": [
    "**3.** Come up with a label for your topic and write it below:"
   ]
  },
  {
   "cell_type": "markdown",
   "metadata": {},
   "source": [
    "**Topic Label: *Your Label Here***"
   ]
  },
  {
   "cell_type": "markdown",
   "metadata": {},
   "source": [
    "**Reflection**"
   ]
  },
  {
   "cell_type": "markdown",
   "metadata": {},
   "source": [
    "**4.** Why did you label your topic the way you did? What do you think this topic means in the context of all the *NYT* obituaries?"
   ]
  },
  {
   "cell_type": "markdown",
   "metadata": {},
   "source": [
    "**#**Your answer here"
   ]
  },
  {
   "cell_type": "markdown",
   "metadata": {},
   "source": [
    "**5.** What's another collection of texts that you think might be interesting to topic model? Why?"
   ]
  },
  {
   "cell_type": "markdown",
   "metadata": {},
   "source": [
    "**#**Your answer here"
   ]
  },
  {
   "cell_type": "markdown",
   "metadata": {},
   "source": [
    "## BONUS"
   ]
  },
  {
   "cell_type": "markdown",
   "metadata": {},
   "source": [
    "If you want to explore further, try returning to the top and replacing the obituaries with the lyrics corpus and/or changing the number of topics from 15 to other numbers."
   ]
  }
 ],
 "metadata": {
  "kernelspec": {
   "display_name": "Python 3 (ipykernel)",
   "language": "python",
   "name": "python3"
  },
  "language_info": {
   "codemirror_mode": {
    "name": "ipython",
    "version": 3
   },
   "file_extension": ".py",
   "mimetype": "text/x-python",
   "name": "python",
   "nbconvert_exporter": "python",
   "pygments_lexer": "ipython3",
   "version": "3.7.11"
  }
 },
 "nbformat": 4,
 "nbformat_minor": 4
}
