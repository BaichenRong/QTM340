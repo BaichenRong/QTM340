{
 "cells": [
  {
   "cell_type": "markdown",
   "metadata": {},
   "source": [
    "## Cleaning Your Song Lyrics with Regex (and more Beautiful Soup)\n",
    "\n",
    "_Lauren F. Klein wrote version 1.0 of this notebook. Dan Sinykin updated it in 2020 and Lauren Klein updated it again in 2021._\n",
    "\n",
    "As part of the homework due last week, you did something like this:"
   ]
  },
  {
   "cell_type": "code",
   "execution_count": null,
   "metadata": {},
   "outputs": [],
   "source": [
    "# get the text of some song lyrics\n",
    "import requests \n",
    "\n",
    "resp = requests.get(\"https://genius.com/Aretha-franklin-respect-lyrics\") \n",
    "html_str = resp.text"
   ]
  },
  {
   "cell_type": "markdown",
   "metadata": {},
   "source": [
    "And then the BeautifulSoup part of the process..."
   ]
  },
  {
   "cell_type": "code",
   "execution_count": null,
   "metadata": {},
   "outputs": [],
   "source": [
    "# use BeautifulSoup to find the lyrics tags on the page\n",
    "from bs4 import BeautifulSoup\n",
    "document = BeautifulSoup(html_str, \"html.parser\")\n",
    "\n",
    "lyrics_divs = document.find_all(\"div\", attrs={\"class\": \"Lyrics__Container-sc-1ynbvzw-8\"})\n",
    "\n",
    "lyrics_divs"
   ]
  },
  {
   "cell_type": "markdown",
   "metadata": {},
   "source": [
    "At this point there were several options for the next step:"
   ]
  },
  {
   "cell_type": "code",
   "execution_count": null,
   "metadata": {},
   "outputs": [],
   "source": [
    "lyrics = []\n",
    "\n",
    "for div in lyrics_divs:\n",
    "    lyrics.append(div.string) # this does not work in this particular case\n",
    "    \n",
    "lyrics"
   ]
  },
  {
   "cell_type": "code",
   "execution_count": null,
   "metadata": {},
   "outputs": [],
   "source": [
    "lyrics = []\n",
    "\n",
    "for div in lyrics_divs:\n",
    "    lyrics.append(div.text) # this gets us closer, but since the .text method just strips \n",
    "                            # out all the html, it leaves some whitespace errors \n",
    "\n",
    "lyrics"
   ]
  },
  {
   "cell_type": "markdown",
   "metadata": {},
   "source": [
    "There is one more helpful Beautiful Soup method that we can use to extract the contents from the html: **the `get_text` function.**\n",
    "\n",
    "This is a smarter version of the `.text` method we used last week.\n",
    "\n",
    "`get_text` returns all the text in a document or-- crucially for us-- beneath the specified tag-- as a single string.\n",
    "\n",
    "You can also include a delimeter as follows:"
   ]
  },
  {
   "cell_type": "code",
   "execution_count": null,
   "metadata": {},
   "outputs": [],
   "source": [
    "lyrics = []\n",
    "\n",
    "for div in lyrics_divs:\n",
    "    lyrics.append(div.get_text(separator='\\n'))\n",
    "    \n",
    "lyrics"
   ]
  },
  {
   "cell_type": "code",
   "execution_count": null,
   "metadata": {},
   "outputs": [],
   "source": [
    "# let's print it out so that we get the newlines formatted properly\n",
    "\n",
    "for chunk in lyrics:\n",
    "    print(chunk)"
   ]
  },
  {
   "cell_type": "markdown",
   "metadata": {},
   "source": [
    "This is pretty good. But It's still not perfect.\n",
    "\n",
    "**What are some problems with this text?**"
   ]
  },
  {
   "cell_type": "code",
   "execution_count": null,
   "metadata": {},
   "outputs": [],
   "source": []
  },
  {
   "cell_type": "code",
   "execution_count": null,
   "metadata": {},
   "outputs": [],
   "source": []
  },
  {
   "cell_type": "code",
   "execution_count": null,
   "metadata": {},
   "outputs": [],
   "source": []
  },
  {
   "cell_type": "markdown",
   "metadata": {},
   "source": [
    "This is where regex comes in handy.\n",
    "\n",
    "Let's remove the info between brackets.\n",
    "\n",
    "**Which of the functions that we've discussed in class today should we use to remove it?**"
   ]
  },
  {
   "cell_type": "code",
   "execution_count": null,
   "metadata": {},
   "outputs": [],
   "source": []
  },
  {
   "cell_type": "code",
   "execution_count": null,
   "metadata": {},
   "outputs": [],
   "source": []
  },
  {
   "cell_type": "code",
   "execution_count": null,
   "metadata": {},
   "outputs": [],
   "source": []
  },
  {
   "cell_type": "markdown",
   "metadata": {},
   "source": [
    "Remember that re.sub takes the format:\n",
    "\n",
    "`newstring = re.sub(pattern, replacement, original_string)`\n",
    "\n",
    "When we want to get rid of something without replacing it, we use `\"\"` as the replacement string.\n",
    "\n",
    "So, in our case, we can do something like:\n",
    "\n",
    "`cleaner_lyrics = re.sub(pattern, \"\", lyrics)`\n",
    "\n",
    "**But what goes in the pattern?**"
   ]
  },
  {
   "cell_type": "markdown",
   "metadata": {},
   "source": [
    "**Exercise: How can we use regex to remove the brackets and the info betwen them?**\n",
    "\n",
    "Hints:\n",
    "* In order to look for a `[`, you need to escape it like this `\\[`\n",
    "* A `.` represents any character\n",
    "* A `*` after a character matches zero or more instances"
   ]
  },
  {
   "cell_type": "code",
   "execution_count": null,
   "metadata": {},
   "outputs": [],
   "source": [
    "import re\n",
    "\n",
    "cleaner_lyrics = []\n",
    "\n",
    "for chunk in lyrics: \n",
    "    cleaner_chunk = re.sub() #fill in the pattern, the replacement, and the original string \n",
    "    cleaner_lyrics.append(cleaner_chunk)\n",
    "    \n",
    "cleaner_lyrics"
   ]
  },
  {
   "cell_type": "code",
   "execution_count": null,
   "metadata": {},
   "outputs": [],
   "source": []
  },
  {
   "cell_type": "code",
   "execution_count": null,
   "metadata": {},
   "outputs": [],
   "source": []
  },
  {
   "cell_type": "code",
   "execution_count": null,
   "metadata": {},
   "outputs": [],
   "source": []
  },
  {
   "cell_type": "code",
   "execution_count": null,
   "metadata": {},
   "outputs": [],
   "source": []
  },
  {
   "cell_type": "code",
   "execution_count": null,
   "metadata": {},
   "outputs": [],
   "source": []
  },
  {
   "cell_type": "code",
   "execution_count": null,
   "metadata": {},
   "outputs": [],
   "source": []
  },
  {
   "cell_type": "markdown",
   "metadata": {},
   "source": [
    "Now there are two extra newlines at the beginning.\n",
    "\n",
    "**How can we remove these?**\n",
    "\n",
    "Hints: \n",
    "* `\\n` is the same in regex\n",
    "* `^` before square brackets matches the start of a string\n",
    "* `{}` with a number inside indicates the number of chars to match"
   ]
  },
  {
   "cell_type": "code",
   "execution_count": null,
   "metadata": {},
   "outputs": [],
   "source": [
    "cleanest_lyrics = []\n",
    "\n",
    "for chunk in cleaner_lyrics: \n",
    "    cleanest_chunk = re.sub() #fill in the pattern, the replacement, and the original string \n",
    "    cleanest_lyrics.append(cleanest_chunk)\n",
    "\n",
    "cleanest_lyrics"
   ]
  },
  {
   "cell_type": "code",
   "execution_count": null,
   "metadata": {},
   "outputs": [],
   "source": []
  },
  {
   "cell_type": "code",
   "execution_count": null,
   "metadata": {},
   "outputs": [],
   "source": []
  },
  {
   "cell_type": "code",
   "execution_count": null,
   "metadata": {},
   "outputs": [],
   "source": []
  },
  {
   "cell_type": "code",
   "execution_count": null,
   "metadata": {},
   "outputs": [],
   "source": [
    "# print it out to see our beautiful work:\n",
    "\n",
    "for chunk in cleanest_lyrics:\n",
    "    print(chunk)"
   ]
  },
  {
   "cell_type": "markdown",
   "metadata": {},
   "source": [
    "And with that, we're done! \n",
    "\n",
    "Now, one last thing: we need to save our clean lyrics to a file:"
   ]
  },
  {
   "cell_type": "code",
   "execution_count": null,
   "metadata": {},
   "outputs": [],
   "source": [
    "# this is how you save to a file in python\n",
    "\n",
    "with open(\"lyrics.txt\", \"w\") as file:\n",
    "    file.writelines(cleanest_lyrics)"
   ]
  },
  {
   "cell_type": "markdown",
   "metadata": {},
   "source": [
    "We did it!\n",
    "\n",
    "**If time, pseudocode how we'd put all the pieces together to create our lyrics corpus**"
   ]
  },
  {
   "cell_type": "code",
   "execution_count": null,
   "metadata": {},
   "outputs": [],
   "source": []
  }
 ],
 "metadata": {
  "kernelspec": {
   "display_name": "Python 3",
   "language": "python",
   "name": "python3"
  },
  "language_info": {
   "codemirror_mode": {
    "name": "ipython",
    "version": 3
   },
   "file_extension": ".py",
   "mimetype": "text/x-python",
   "name": "python",
   "nbconvert_exporter": "python",
   "pygments_lexer": "ipython3",
   "version": "3.7.2"
  }
 },
 "nbformat": 4,
 "nbformat_minor": 2
}
