{
 "cells": [
  {
   "cell_type": "markdown",
   "metadata": {},
   "source": [
    "## Cleaning Your Song Lyrics with Regex (and more Beautiful Soup)\n",
    "\n",
    "_Lauren F. Klein wrote version 1.0 of this notebook. Dan Sinykin updated it in 2020 and Lauren Klein updated it again in 2021._\n",
    "\n",
    "As part of the homework due last week, you did something like this:"
   ]
  },
  {
   "cell_type": "code",
   "execution_count": 59,
   "metadata": {},
   "outputs": [],
   "source": [
    "# get the text of some song lyrics\n",
    "import requests \n",
    "\n",
    "resp = requests.get(\"https://genius.com/Aretha-franklin-respect-lyrics\") \n",
    "html_str = resp.text"
   ]
  },
  {
   "cell_type": "markdown",
   "metadata": {},
   "source": [
    "And then the BeautifulSoup part of the process..."
   ]
  },
  {
   "cell_type": "code",
   "execution_count": 69,
   "metadata": {},
   "outputs": [
    {
     "data": {
      "text/plain": [
       "[<div class=\"Lyrics__Container-sc-1ynbvzw-8 eOLwDW\"><a class=\"ReferentFragment__ClickTarget-oqvzi6-0 evuxZm\" href=\"/5055050/Aretha-franklin-respect/Written-by-otis-redding\"><span class=\"ReferentFragment__Highlight-oqvzi6-1 kCgfVd\">[Written by Otis Redding]</span></a><br/><br/>[Verse 1]<br/><a class=\"ReferentFragment__ClickTarget-oqvzi6-0 evuxZm\" href=\"/5394087/Aretha-franklin-respect/What-you-want-baby-i-got-it-what-you-need-do-you-know-i-got-it\"><span class=\"ReferentFragment__Highlight-oqvzi6-1 eZruqd\">What you want, baby, I got it<br/>What you need, do you know I got it?</span></a><br/><br/>[Chorus]<br/>All I'm askin' is for a little respect when you come home<br/>(Just a little bit) Hey baby<br/>(Just a little bit) when you get home<br/>(Just a little bit) mister<br/>(Just a little bit)<br/><br/>[Verse 2]<br/><a class=\"ReferentFragment__ClickTarget-oqvzi6-0 evuxZm\" href=\"/10449041/Aretha-franklin-respect/I-aint-gonna-do-you-wrong-while-youre-gone-aint-gon-do-you-wrong-cause-i-dont-wanna\"><span class=\"ReferentFragment__Highlight-oqvzi6-1 eZruqd\">I ain't gonna do you wrong while you're gone<br/>Ain't gon' do you wrong 'cause I don't wanna</span></a><br/><br/>[Chorus]<br/><a class=\"ReferentFragment__ClickTarget-oqvzi6-0 evuxZm\" href=\"/23786566/Aretha-franklin-respect/All-im-askin-is-for-a-little-respect-when-you-come-home-just-a-little-bit-baby\"><span class=\"ReferentFragment__Highlight-oqvzi6-1 eZruqd\">All I'm askin' is for a little respect when you come home<br/>(Just a little bit) Baby</span></a><br/>(Just a little bit) When you get home<br/>(Just a little bit) Yeah<br/>(Just a little bit)<br/><br/>[Verse 3]<br/>I'm about to give you all of my money<br/>And all I'm askin' in return, honey<br/><a class=\"ReferentFragment__ClickTarget-oqvzi6-0 evuxZm\" href=\"/4592372/Aretha-franklin-respect/Is-to-give-me-my-propers-when-you-get-home\"><span class=\"ReferentFragment__Highlight-oqvzi6-1 eZruqd\">Is to give me my propers when you get home</span></a><br/></div>,\n",
       " <div class=\"Lyrics__Container-sc-1ynbvzw-8 eOLwDW\">[Refrain]<br/>(Just a, just a, just a, just a) Yeah, baby<br/>(Just a, just a, just a, just a) When you get home<br/>(Just a little bit) Yeah<br/>(Just a little bit)<br/><br/>[Instrumental]<br/><br/>[Verse 4]<br/><a class=\"ReferentFragment__ClickTarget-oqvzi6-0 evuxZm\" href=\"/10448977/Aretha-franklin-respect/Ooh-your-kisses-sweeter-than-honey-and-guess-what-so-is-my-money\"><span class=\"ReferentFragment__Highlight-oqvzi6-1 eZruqd\">Ooh, your kisses, sweeter than honey<br/>And guess what? So is my money</span></a><br/><br/>[Chorus 2]<br/>All I want you to do for me, is give it to me when you get home<br/>(Re, re, re, re) Yeah baby<br/>(Re, re, re, re) Whip it to me<br/>(Respect, just a little bit) When you get home, now<br/>(Just a little bit)<br/><br/>[Verse 5]<br/>R-E-S-P-E-C-T, find out what it means to me<br/><a class=\"ReferentFragment__ClickTarget-oqvzi6-0 evuxZm\" href=\"/88690/Aretha-franklin-respect/R-e-s-p-e-c-t-take-care-of-t-c-b\"><span class=\"ReferentFragment__Highlight-oqvzi6-1 eZruqd\">R-E-S-P-E-C-T, take care of T-C-B</span></a><br/><br/>[Outro]<br/>(Sock it to me, sock it to me, sock it to me, sock it to me)<br/>A little respect<br/>(sock it to me, sock it to me, sock it to me, sock it to me)<br/>Whoa, babe<br/>(Just a little bit) A little respect<br/>(Just a little bit) I get tired<br/>(Just a little bit) Keep on tryin'<br/><a class=\"ReferentFragment__ClickTarget-oqvzi6-0 evuxZm\" href=\"/8462854/Aretha-franklin-respect/Just-a-little-bit-youre-runnin-out-of-fools\"><span class=\"ReferentFragment__Highlight-oqvzi6-1 eZruqd\">(Just a little bit) You're runnin' out of fools</span></a><br/>(Just a little bit) And I ain't lyin'<br/>(Just a little bit)<br/>(Re, re, re, re) Start when you come home<br/>(Re, re, re, respect) Or you might walk in<br/>(Just a little bit) And find out I'm gone<br/>(Just a little bit) I gotta have<br/>(Just a little bit) A little respect<br/>(Just a little bit)</div>]"
      ]
     },
     "execution_count": 69,
     "metadata": {},
     "output_type": "execute_result"
    }
   ],
   "source": [
    "# use BeautifulSoup to find the lyrics tags on the page\n",
    "from bs4 import BeautifulSoup\n",
    "document = BeautifulSoup(html_str, \"html.parser\")\n",
    "\n",
    "lyrics_divs = document.find_all(\"div\", attrs={\"class\": \"Lyrics__Container-sc-1ynbvzw-8\"})\n",
    "\n",
    "lyrics_divs"
   ]
  },
  {
   "cell_type": "markdown",
   "metadata": {},
   "source": [
    "At this point there were several options for the next step:"
   ]
  },
  {
   "cell_type": "code",
   "execution_count": 79,
   "metadata": {},
   "outputs": [
    {
     "data": {
      "text/plain": [
       "[None, None]"
      ]
     },
     "execution_count": 79,
     "metadata": {},
     "output_type": "execute_result"
    }
   ],
   "source": [
    "lyrics = []\n",
    "\n",
    "for div in lyrics_divs:\n",
    "    lyrics.append(div.string) # this does not work in this particular case\n",
    "    \n",
    "lyrics"
   ]
  },
  {
   "cell_type": "code",
   "execution_count": 97,
   "metadata": {},
   "outputs": [
    {
     "data": {
      "text/plain": [
       "[\"[Written by Otis Redding][Verse 1]What you want, baby, I got itWhat you need, do you know I got it?[Chorus]All I'm askin' is for a little respect when you come home(Just a little bit) Hey baby(Just a little bit) when you get home(Just a little bit) mister(Just a little bit)[Verse 2]I ain't gonna do you wrong while you're goneAin't gon' do you wrong 'cause I don't wanna[Chorus]All I'm askin' is for a little respect when you come home(Just a little bit) Baby(Just a little bit) When you get home(Just a little bit) Yeah(Just a little bit)[Verse 3]I'm about to give you all of my moneyAnd all I'm askin' in return, honeyIs to give me my propers when you get home\",\n",
       " \"[Refrain](Just a, just a, just a, just a) Yeah, baby(Just a, just a, just a, just a) When you get home(Just a little bit) Yeah(Just a little bit)[Instrumental][Verse 4]Ooh, your kisses, sweeter than honeyAnd guess what? So is my money[Chorus 2]All I want you to do for me, is give it to me when you get home(Re, re, re, re) Yeah baby(Re, re, re, re) Whip it to me(Respect, just a little bit) When you get home, now(Just a little bit)[Verse 5]R-E-S-P-E-C-T, find out what it means to meR-E-S-P-E-C-T, take care of T-C-B[Outro](Sock it to me, sock it to me, sock it to me, sock it to me)A little respect(sock it to me, sock it to me, sock it to me, sock it to me)Whoa, babe(Just a little bit) A little respect(Just a little bit) I get tired(Just a little bit) Keep on tryin'(Just a little bit) You're runnin' out of fools(Just a little bit) And I ain't lyin'(Just a little bit)(Re, re, re, re) Start when you come home(Re, re, re, respect) Or you might walk in(Just a little bit) And find out I'm gone(Just a little bit) I gotta have(Just a little bit) A little respect(Just a little bit)\"]"
      ]
     },
     "execution_count": 97,
     "metadata": {},
     "output_type": "execute_result"
    }
   ],
   "source": [
    "lyrics = []\n",
    "\n",
    "for div in lyrics_divs:\n",
    "    lyrics.append(div.text) # this gets us closer, but since the .text method just strips \n",
    "                            # out all the html, it leaves some whitespace errors \n",
    "\n",
    "lyrics"
   ]
  },
  {
   "cell_type": "markdown",
   "metadata": {},
   "source": [
    "There is one more helpful Beautiful Soup method that we can use to extract the contents from the html: **the `get_text` function.**\n",
    "\n",
    "This is a smarter version of the `.text` method we used last week.\n",
    "\n",
    "`get_text` returns all the text in a document or-- crucially for us-- beneath the specified tag-- as a single string.\n",
    "\n",
    "You can also include a delimeter as follows:"
   ]
  },
  {
   "cell_type": "code",
   "execution_count": 91,
   "metadata": {},
   "outputs": [
    {
     "data": {
      "text/plain": [
       "[\"[Written by Otis Redding]\\n[Verse 1]\\nWhat you want, baby, I got it\\nWhat you need, do you know I got it?\\n[Chorus]\\nAll I'm askin' is for a little respect when you come home\\n(Just a little bit) Hey baby\\n(Just a little bit) when you get home\\n(Just a little bit) mister\\n(Just a little bit)\\n[Verse 2]\\nI ain't gonna do you wrong while you're gone\\nAin't gon' do you wrong 'cause I don't wanna\\n[Chorus]\\nAll I'm askin' is for a little respect when you come home\\n(Just a little bit) Baby\\n(Just a little bit) When you get home\\n(Just a little bit) Yeah\\n(Just a little bit)\\n[Verse 3]\\nI'm about to give you all of my money\\nAnd all I'm askin' in return, honey\\nIs to give me my propers when you get home\",\n",
       " \"[Refrain]\\n(Just a, just a, just a, just a) Yeah, baby\\n(Just a, just a, just a, just a) When you get home\\n(Just a little bit) Yeah\\n(Just a little bit)\\n[Instrumental]\\n[Verse 4]\\nOoh, your kisses, sweeter than honey\\nAnd guess what? So is my money\\n[Chorus 2]\\nAll I want you to do for me, is give it to me when you get home\\n(Re, re, re, re) Yeah baby\\n(Re, re, re, re) Whip it to me\\n(Respect, just a little bit) When you get home, now\\n(Just a little bit)\\n[Verse 5]\\nR-E-S-P-E-C-T, find out what it means to me\\nR-E-S-P-E-C-T, take care of T-C-B\\n[Outro]\\n(Sock it to me, sock it to me, sock it to me, sock it to me)\\nA little respect\\n(sock it to me, sock it to me, sock it to me, sock it to me)\\nWhoa, babe\\n(Just a little bit) A little respect\\n(Just a little bit) I get tired\\n(Just a little bit) Keep on tryin'\\n(Just a little bit) You're runnin' out of fools\\n(Just a little bit) And I ain't lyin'\\n(Just a little bit)\\n(Re, re, re, re) Start when you come home\\n(Re, re, re, respect) Or you might walk in\\n(Just a little bit) And find out I'm gone\\n(Just a little bit) I gotta have\\n(Just a little bit) A little respect\\n(Just a little bit)\"]"
      ]
     },
     "execution_count": 91,
     "metadata": {},
     "output_type": "execute_result"
    }
   ],
   "source": [
    "lyrics = []\n",
    "\n",
    "for div in lyrics_divs:\n",
    "    lyrics.append(div.get_text(separator='\\n'))\n",
    "    \n",
    "lyrics"
   ]
  },
  {
   "cell_type": "code",
   "execution_count": 92,
   "metadata": {},
   "outputs": [
    {
     "name": "stdout",
     "output_type": "stream",
     "text": [
      "[Written by Otis Redding]\n",
      "[Verse 1]\n",
      "What you want, baby, I got it\n",
      "What you need, do you know I got it?\n",
      "[Chorus]\n",
      "All I'm askin' is for a little respect when you come home\n",
      "(Just a little bit) Hey baby\n",
      "(Just a little bit) when you get home\n",
      "(Just a little bit) mister\n",
      "(Just a little bit)\n",
      "[Verse 2]\n",
      "I ain't gonna do you wrong while you're gone\n",
      "Ain't gon' do you wrong 'cause I don't wanna\n",
      "[Chorus]\n",
      "All I'm askin' is for a little respect when you come home\n",
      "(Just a little bit) Baby\n",
      "(Just a little bit) When you get home\n",
      "(Just a little bit) Yeah\n",
      "(Just a little bit)\n",
      "[Verse 3]\n",
      "I'm about to give you all of my money\n",
      "And all I'm askin' in return, honey\n",
      "Is to give me my propers when you get home\n",
      "[Refrain]\n",
      "(Just a, just a, just a, just a) Yeah, baby\n",
      "(Just a, just a, just a, just a) When you get home\n",
      "(Just a little bit) Yeah\n",
      "(Just a little bit)\n",
      "[Instrumental]\n",
      "[Verse 4]\n",
      "Ooh, your kisses, sweeter than honey\n",
      "And guess what? So is my money\n",
      "[Chorus 2]\n",
      "All I want you to do for me, is give it to me when you get home\n",
      "(Re, re, re, re) Yeah baby\n",
      "(Re, re, re, re) Whip it to me\n",
      "(Respect, just a little bit) When you get home, now\n",
      "(Just a little bit)\n",
      "[Verse 5]\n",
      "R-E-S-P-E-C-T, find out what it means to me\n",
      "R-E-S-P-E-C-T, take care of T-C-B\n",
      "[Outro]\n",
      "(Sock it to me, sock it to me, sock it to me, sock it to me)\n",
      "A little respect\n",
      "(sock it to me, sock it to me, sock it to me, sock it to me)\n",
      "Whoa, babe\n",
      "(Just a little bit) A little respect\n",
      "(Just a little bit) I get tired\n",
      "(Just a little bit) Keep on tryin'\n",
      "(Just a little bit) You're runnin' out of fools\n",
      "(Just a little bit) And I ain't lyin'\n",
      "(Just a little bit)\n",
      "(Re, re, re, re) Start when you come home\n",
      "(Re, re, re, respect) Or you might walk in\n",
      "(Just a little bit) And find out I'm gone\n",
      "(Just a little bit) I gotta have\n",
      "(Just a little bit) A little respect\n",
      "(Just a little bit)\n"
     ]
    }
   ],
   "source": [
    "# let's print it out so that we get the newlines formatted properly\n",
    "\n",
    "for chunk in lyrics:\n",
    "    print(chunk)"
   ]
  },
  {
   "cell_type": "markdown",
   "metadata": {},
   "source": [
    "This is pretty good. But It's still not perfect.\n",
    "\n",
    "**What are some problems with this text?**"
   ]
  },
  {
   "cell_type": "code",
   "execution_count": null,
   "metadata": {},
   "outputs": [],
   "source": [
    "# We still have words between brackets that aren't really part of the lyrics"
   ]
  },
  {
   "cell_type": "code",
   "execution_count": null,
   "metadata": {},
   "outputs": [],
   "source": []
  },
  {
   "cell_type": "code",
   "execution_count": null,
   "metadata": {},
   "outputs": [],
   "source": []
  },
  {
   "cell_type": "markdown",
   "metadata": {},
   "source": [
    "This is where regex comes in handy.\n",
    "\n",
    "Let's remove the info between brackets.\n",
    "\n",
    "**Which of the functions that we've discussed in class today should we use to remove it?**"
   ]
  },
  {
   "cell_type": "code",
   "execution_count": null,
   "metadata": {},
   "outputs": [],
   "source": [
    "re.sub() "
   ]
  },
  {
   "cell_type": "code",
   "execution_count": null,
   "metadata": {},
   "outputs": [],
   "source": []
  },
  {
   "cell_type": "code",
   "execution_count": null,
   "metadata": {},
   "outputs": [],
   "source": []
  },
  {
   "cell_type": "markdown",
   "metadata": {},
   "source": [
    "Remember that re.sub takes the format:\n",
    "\n",
    "`newstring = re.sub(pattern, replacement, original_string)`\n",
    "\n",
    "When we want to get rid of something without replacing it, we use `\"\"` as the replacement string.\n",
    "\n",
    "So, in our case, we can do something like:\n",
    "\n",
    "`cleaner_lyrics = re.sub(pattern, \"\", lyrics)`\n",
    "\n",
    "**But what goes in the pattern?**"
   ]
  },
  {
   "cell_type": "markdown",
   "metadata": {},
   "source": [
    "**Exercise: How can we use regex to remove the brackets and the info betwen them?**\n",
    "\n",
    "Hints:\n",
    "* In order to look for a `[`, you need to escape it like this `\\[`\n",
    "* A `.` represents any character\n",
    "* A `*` after a character matches zero or more instances"
   ]
  },
  {
   "cell_type": "code",
   "execution_count": null,
   "metadata": {},
   "outputs": [],
   "source": [
    "cleaner_lyrics = []\n",
    "\n",
    "for chunk in lyrics: \n",
    "    cleaner_chunk = re.sub(\"\\[.*\\]\", \"\", chunk)\n",
    "    cleaner_lyrics.append(cleaner_chunk)\n",
    "    \n",
    "cleaner_lyrics"
   ]
  },
  {
   "cell_type": "code",
   "execution_count": null,
   "metadata": {},
   "outputs": [],
   "source": []
  },
  {
   "cell_type": "code",
   "execution_count": null,
   "metadata": {},
   "outputs": [],
   "source": []
  },
  {
   "cell_type": "code",
   "execution_count": 93,
   "metadata": {},
   "outputs": [
    {
     "data": {
      "text/plain": [
       "[\"\\n\\nWhat you want, baby, I got it\\nWhat you need, do you know I got it?\\n\\nAll I'm askin' is for a little respect when you come home\\n(Just a little bit) Hey baby\\n(Just a little bit) when you get home\\n(Just a little bit) mister\\n(Just a little bit)\\n\\nI ain't gonna do you wrong while you're gone\\nAin't gon' do you wrong 'cause I don't wanna\\n\\nAll I'm askin' is for a little respect when you come home\\n(Just a little bit) Baby\\n(Just a little bit) When you get home\\n(Just a little bit) Yeah\\n(Just a little bit)\\n\\nI'm about to give you all of my money\\nAnd all I'm askin' in return, honey\\nIs to give me my propers when you get home\",\n",
       " \"\\n(Just a, just a, just a, just a) Yeah, baby\\n(Just a, just a, just a, just a) When you get home\\n(Just a little bit) Yeah\\n(Just a little bit)\\n\\n\\nOoh, your kisses, sweeter than honey\\nAnd guess what? So is my money\\n\\nAll I want you to do for me, is give it to me when you get home\\n(Re, re, re, re) Yeah baby\\n(Re, re, re, re) Whip it to me\\n(Respect, just a little bit) When you get home, now\\n(Just a little bit)\\n\\nR-E-S-P-E-C-T, find out what it means to me\\nR-E-S-P-E-C-T, take care of T-C-B\\n\\n(Sock it to me, sock it to me, sock it to me, sock it to me)\\nA little respect\\n(sock it to me, sock it to me, sock it to me, sock it to me)\\nWhoa, babe\\n(Just a little bit) A little respect\\n(Just a little bit) I get tired\\n(Just a little bit) Keep on tryin'\\n(Just a little bit) You're runnin' out of fools\\n(Just a little bit) And I ain't lyin'\\n(Just a little bit)\\n(Re, re, re, re) Start when you come home\\n(Re, re, re, respect) Or you might walk in\\n(Just a little bit) And find out I'm gone\\n(Just a little bit) I gotta have\\n(Just a little bit) A little respect\\n(Just a little bit)\"]"
      ]
     },
     "execution_count": 93,
     "metadata": {},
     "output_type": "execute_result"
    }
   ],
   "source": []
  },
  {
   "cell_type": "code",
   "execution_count": null,
   "metadata": {},
   "outputs": [],
   "source": []
  },
  {
   "cell_type": "code",
   "execution_count": null,
   "metadata": {},
   "outputs": [],
   "source": []
  },
  {
   "cell_type": "code",
   "execution_count": null,
   "metadata": {},
   "outputs": [],
   "source": []
  },
  {
   "cell_type": "markdown",
   "metadata": {},
   "source": [
    "Now there are two extra newlines at the beginning.\n",
    "\n",
    "**How can we remove these?**\n",
    "\n",
    "Hints: \n",
    "* `\\n` is the same in regex\n",
    "* `^` before square brackets matches the start of a string\n",
    "* `{}` with a number inside indicates the number of chars to match"
   ]
  },
  {
   "cell_type": "code",
   "execution_count": null,
   "metadata": {},
   "outputs": [],
   "source": [
    "cleanest_lyrics = []\n",
    "\n",
    "for chunk in cleaner_lyrics: \n",
    "    cleanest_chunk = re.sub(\"^[\\n]{2}\",\"\", chunk)\n",
    "    cleanest_lyrics.append(cleanest_chunk)\n",
    "\n",
    "cleanest_lyrics"
   ]
  },
  {
   "cell_type": "code",
   "execution_count": null,
   "metadata": {},
   "outputs": [],
   "source": []
  },
  {
   "cell_type": "code",
   "execution_count": null,
   "metadata": {},
   "outputs": [],
   "source": []
  },
  {
   "cell_type": "code",
   "execution_count": 94,
   "metadata": {},
   "outputs": [
    {
     "data": {
      "text/plain": [
       "[\"What you want, baby, I got it\\nWhat you need, do you know I got it?\\n\\nAll I'm askin' is for a little respect when you come home\\n(Just a little bit) Hey baby\\n(Just a little bit) when you get home\\n(Just a little bit) mister\\n(Just a little bit)\\n\\nI ain't gonna do you wrong while you're gone\\nAin't gon' do you wrong 'cause I don't wanna\\n\\nAll I'm askin' is for a little respect when you come home\\n(Just a little bit) Baby\\n(Just a little bit) When you get home\\n(Just a little bit) Yeah\\n(Just a little bit)\\n\\nI'm about to give you all of my money\\nAnd all I'm askin' in return, honey\\nIs to give me my propers when you get home\",\n",
       " \"\\n(Just a, just a, just a, just a) Yeah, baby\\n(Just a, just a, just a, just a) When you get home\\n(Just a little bit) Yeah\\n(Just a little bit)\\n\\n\\nOoh, your kisses, sweeter than honey\\nAnd guess what? So is my money\\n\\nAll I want you to do for me, is give it to me when you get home\\n(Re, re, re, re) Yeah baby\\n(Re, re, re, re) Whip it to me\\n(Respect, just a little bit) When you get home, now\\n(Just a little bit)\\n\\nR-E-S-P-E-C-T, find out what it means to me\\nR-E-S-P-E-C-T, take care of T-C-B\\n\\n(Sock it to me, sock it to me, sock it to me, sock it to me)\\nA little respect\\n(sock it to me, sock it to me, sock it to me, sock it to me)\\nWhoa, babe\\n(Just a little bit) A little respect\\n(Just a little bit) I get tired\\n(Just a little bit) Keep on tryin'\\n(Just a little bit) You're runnin' out of fools\\n(Just a little bit) And I ain't lyin'\\n(Just a little bit)\\n(Re, re, re, re) Start when you come home\\n(Re, re, re, respect) Or you might walk in\\n(Just a little bit) And find out I'm gone\\n(Just a little bit) I gotta have\\n(Just a little bit) A little respect\\n(Just a little bit)\"]"
      ]
     },
     "execution_count": 94,
     "metadata": {},
     "output_type": "execute_result"
    }
   ],
   "source": []
  },
  {
   "cell_type": "code",
   "execution_count": 95,
   "metadata": {},
   "outputs": [
    {
     "name": "stdout",
     "output_type": "stream",
     "text": [
      "What you want, baby, I got it\n",
      "What you need, do you know I got it?\n",
      "\n",
      "All I'm askin' is for a little respect when you come home\n",
      "(Just a little bit) Hey baby\n",
      "(Just a little bit) when you get home\n",
      "(Just a little bit) mister\n",
      "(Just a little bit)\n",
      "\n",
      "I ain't gonna do you wrong while you're gone\n",
      "Ain't gon' do you wrong 'cause I don't wanna\n",
      "\n",
      "All I'm askin' is for a little respect when you come home\n",
      "(Just a little bit) Baby\n",
      "(Just a little bit) When you get home\n",
      "(Just a little bit) Yeah\n",
      "(Just a little bit)\n",
      "\n",
      "I'm about to give you all of my money\n",
      "And all I'm askin' in return, honey\n",
      "Is to give me my propers when you get home\n",
      "\n",
      "(Just a, just a, just a, just a) Yeah, baby\n",
      "(Just a, just a, just a, just a) When you get home\n",
      "(Just a little bit) Yeah\n",
      "(Just a little bit)\n",
      "\n",
      "\n",
      "Ooh, your kisses, sweeter than honey\n",
      "And guess what? So is my money\n",
      "\n",
      "All I want you to do for me, is give it to me when you get home\n",
      "(Re, re, re, re) Yeah baby\n",
      "(Re, re, re, re) Whip it to me\n",
      "(Respect, just a little bit) When you get home, now\n",
      "(Just a little bit)\n",
      "\n",
      "R-E-S-P-E-C-T, find out what it means to me\n",
      "R-E-S-P-E-C-T, take care of T-C-B\n",
      "\n",
      "(Sock it to me, sock it to me, sock it to me, sock it to me)\n",
      "A little respect\n",
      "(sock it to me, sock it to me, sock it to me, sock it to me)\n",
      "Whoa, babe\n",
      "(Just a little bit) A little respect\n",
      "(Just a little bit) I get tired\n",
      "(Just a little bit) Keep on tryin'\n",
      "(Just a little bit) You're runnin' out of fools\n",
      "(Just a little bit) And I ain't lyin'\n",
      "(Just a little bit)\n",
      "(Re, re, re, re) Start when you come home\n",
      "(Re, re, re, respect) Or you might walk in\n",
      "(Just a little bit) And find out I'm gone\n",
      "(Just a little bit) I gotta have\n",
      "(Just a little bit) A little respect\n",
      "(Just a little bit)\n"
     ]
    }
   ],
   "source": [
    "# print it out to see our beautiful work:\n",
    "\n",
    "for chunk in cleanest_lyrics:\n",
    "    print(chunk)"
   ]
  },
  {
   "cell_type": "markdown",
   "metadata": {},
   "source": [
    "And with that, we're done! \n",
    "\n",
    "Now, one last thing: we need to save our clean lyrics to a file:"
   ]
  },
  {
   "cell_type": "code",
   "execution_count": 96,
   "metadata": {},
   "outputs": [],
   "source": [
    "# this is how you save to a file in python\n",
    "\n",
    "with open(\"lyrics.txt\", \"w\") as file:\n",
    "    file.writelines(cleanest_lyrics)"
   ]
  },
  {
   "cell_type": "markdown",
   "metadata": {},
   "source": [
    "We did it!\n",
    "\n",
    "**If time, pseudocode how we'd put all the pieces together to create our lyrics corpus**"
   ]
  },
  {
   "cell_type": "code",
   "execution_count": null,
   "metadata": {},
   "outputs": [],
   "source": []
  }
 ],
 "metadata": {
  "kernelspec": {
   "display_name": "Python 3",
   "language": "python",
   "name": "python3"
  },
  "language_info": {
   "codemirror_mode": {
    "name": "ipython",
    "version": 3
   },
   "file_extension": ".py",
   "mimetype": "text/x-python",
   "name": "python",
   "nbconvert_exporter": "python",
   "pygments_lexer": "ipython3",
   "version": "3.8.8"
  }
 },
 "nbformat": 4,
 "nbformat_minor": 2
}
