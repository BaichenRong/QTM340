{
 "cells": [
  {
   "cell_type": "markdown",
   "metadata": {},
   "source": [
    "## Libraries we've used in the class... ##\n",
    "\n",
    "Note: If you have trouble with any of this syntax, please consult [this page](https://jakevdp.github.io/blog/2017/12/05/installing-python-packages-from-jupyter/) for some alternatives"
   ]
  },
  {
   "cell_type": "code",
   "execution_count": null,
   "metadata": {},
   "outputs": [],
   "source": [
    "import sys\n",
    "\n",
    "### Web Scraping and APIs\n",
    "\n",
    "!{sys.executable} -m pip install bs4 \n",
    "!{sys.executable} -m pip install requests \n",
    "!{sys.executable} -m pip install praw # for scraping reddit "
   ]
  },
  {
   "cell_type": "code",
   "execution_count": null,
   "metadata": {},
   "outputs": [],
   "source": [
    "### Regular Expressions ###\n",
    "\n",
    "!{sys.executable} -m pip install re "
   ]
  },
  {
   "cell_type": "code",
   "execution_count": null,
   "metadata": {},
   "outputs": [],
   "source": [
    "### Sentiment Analysis and NLP ###\n",
    "\n",
    "!{sys.executable} -m pip install nltk"
   ]
  },
  {
   "cell_type": "code",
   "execution_count": null,
   "metadata": {},
   "outputs": [],
   "source": [
    "### More NLP ###\n",
    "\n",
    "!{sys.executable} -m pip install spacy\n",
    "!{sys.executable} -m pip install en_core_web_sm\n",
    "!{sys.executable} -m pip install textblob"
   ]
  },
  {
   "cell_type": "code",
   "execution_count": null,
   "metadata": {},
   "outputs": [],
   "source": [
    "### Scikit-learn and other math  ###\n",
    "\n",
    "!{sys.executable} -m pip install sklearn\n",
    "!{sys.executable} -m pip install numpy"
   ]
  },
  {
   "cell_type": "code",
   "execution_count": null,
   "metadata": {},
   "outputs": [],
   "source": [
    "### Utilities, logging, file i/o, etc  ###\n",
    "\n",
    "!{sys.executable} -m pip install logging\n",
    "!{sys.executable} -m pip install itertools\n",
    "!{sys.executable} -m pip install glob\n",
    "!{sys.executable} -m pip install pathlib\n",
    "!{sys.executable} -m pip install warnings\n",
    "!{sys.executable} -m pip install collections\n",
    "!{sys.executable} -m pip install random\n",
    "!{sys.executable} -m pip install pickle\n",
    "!{sys.executable} -m pip install gdown\n",
    "!{sys.executable} -m pip install gzip\n",
    "!{sys.executable} -m pip install json"
   ]
  },
  {
   "cell_type": "code",
   "execution_count": null,
   "metadata": {},
   "outputs": [],
   "source": [
    "### Pandas ###\n",
    "\n",
    "!{sys.executable} -m pip install pandas"
   ]
  },
  {
   "cell_type": "code",
   "execution_count": null,
   "metadata": {},
   "outputs": [],
   "source": [
    "### Topic modeling and word embeddings ###\n",
    "\n",
    "!{sys.executable} -m pip install gensim\n",
    "!{sys.executable} -m pip install pyLDAvis\n",
    "!{sys.executable} -m pip install littlemalletwrapper"
   ]
  },
  {
   "cell_type": "code",
   "execution_count": null,
   "metadata": {},
   "outputs": [],
   "source": [
    "### Visualization ###\n",
    "!{sys.executable} -m pip install matplotlib\n",
    "!{sys.executable} -m pip install seaborn\n",
    "!{sys.executable} -m pip install altair\n",
    "\n"
   ]
  },
  {
   "cell_type": "code",
   "execution_count": null,
   "metadata": {},
   "outputs": [],
   "source": [
    "### BERT and related ###\n",
    "!{sys.executable} -m pip install torch\n",
    "!{sys.executable} -m pip install transformers\n",
    "\n",
    "\n"
   ]
  }
 ],
 "metadata": {
  "kernelspec": {
   "display_name": "Python 3",
   "language": "python",
   "name": "python3"
  },
  "language_info": {
   "codemirror_mode": {
    "name": "ipython",
    "version": 3
   },
   "file_extension": ".py",
   "mimetype": "text/x-python",
   "name": "python",
   "nbconvert_exporter": "python",
   "pygments_lexer": "ipython3",
   "version": "3.7.2"
  }
 },
 "nbformat": 4,
 "nbformat_minor": 2
}
